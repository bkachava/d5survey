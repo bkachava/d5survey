{
 "cells": [
  {
   "cell_type": "markdown",
   "metadata": {},
   "source": [
    "# D5 - Project 2\n",
    "----\n",
    "\n",
    "### Summary\n",
    "This notebook shows the process we followed to clean, explore and analyze the data set \n",
    "that contains information about the __National Household Survey__ for the `Megalopolis -- Zona Metropolitana del Valle de México`. Also, contains the variables of interest for the project. \n",
    "\n",
    "\n",
    "__Megalopolis states:__\n",
    "** Ciudad de México ** Estado de México ** Hidalgo ** Puebla ** Morelos ** Querétaro  ** Tlaxcala\n",
    "\n",
    "\n",
    "However to make the final visualizations, we included only a small set of these variables.\n",
    "\n",
    "----"
   ]
  },
  {
   "cell_type": "code",
   "execution_count": 3,
   "metadata": {},
   "outputs": [],
   "source": [
    "# Dependencies\n",
    "import pandas as pd"
   ]
  },
  {
   "cell_type": "code",
   "execution_count": 4,
   "metadata": {},
   "outputs": [
    {
     "data": {
      "text/plain": [
       "folioviv      56680\n",
       "tipo_viv      56680\n",
       "condominio    56680\n",
       "elevador      56680\n",
       "mat_pared     56680\n",
       "mat_techos    56680\n",
       "mat_pisos     56680\n",
       "ais_techos    56680\n",
       "ais_pared     56680\n",
       "ais_ventan    56680\n",
       "ais_otro      56680\n",
       "antiguedad    56680\n",
       "cocina        56680\n",
       "cocina_dor    56680\n",
       "cuart_dorm    56680\n",
       "num_cuarto    56680\n",
       "disp_agua     56680\n",
       "dotac_agua    56680\n",
       "excusado      56680\n",
       "uso_compar    56680\n",
       "sanit_agua    56680\n",
       "bano_comp     56680\n",
       "bano_excus    56680\n",
       "bano_regad    56680\n",
       "drenaje       56680\n",
       "disp_elect    56680\n",
       "anio_panel    56680\n",
       "panel_ne      56680\n",
       "pot_panel     56680\n",
       "potencia      56680\n",
       "              ...  \n",
       "mes_res       56680\n",
       "familiar      56680\n",
       "tipo_adqui    56680\n",
       "financia_1    56680\n",
       "financia_2    56680\n",
       "financia_3    56680\n",
       "financia_4    56680\n",
       "financia_5    56680\n",
       "financia_6    56680\n",
       "financia_7    56680\n",
       "financia_8    56680\n",
       "num_dueno1    56680\n",
       "hog_dueno1    56680\n",
       "num_dueno2    56680\n",
       "hog_dueno2    56680\n",
       "escrituras    56680\n",
       "computador    56680\n",
       "tel_fijo      56680\n",
       "celular       56680\n",
       "internet      56680\n",
       "tv_paga       56680\n",
       "auto_pick     56680\n",
       "tot_hog       56680\n",
       "ubica_geo     56680\n",
       "ageb          56680\n",
       "tam_loc       56680\n",
       "est_socio     56680\n",
       "est_dis       56680\n",
       "upm           56680\n",
       "factor        56680\n",
       "Length: 110, dtype: int64"
      ]
     },
     "execution_count": 4,
     "metadata": {},
     "output_type": "execute_result"
    }
   ],
   "source": [
    "# National Household Survey\n",
    "\n",
    "# Características de las viviendas que habitan los integrantes de los hogares encuestados\n",
    "\n",
    "# Save path to data set in a variable\n",
    "vivienda_file = \"../Resources/vivienda.csv\"\n",
    "\n",
    "# Use Pandas to read data - Main file PK folioviv\n",
    "vivienda_df = pd.read_csv(vivienda_file, low_memory=False) \n",
    "\n",
    "# Show the results\n",
    "vivienda_df.count()"
   ]
  },
  {
   "cell_type": "code",
   "execution_count": 3,
   "metadata": {
    "collapsed": true
   },
   "outputs": [
    {
     "data": {
      "text/plain": [
       "folioviv      57519\n",
       "foliohog      57519\n",
       "huespedes     57519\n",
       "huesp_come    57519\n",
       "trabaja_do    57519\n",
       "cuid_perso    57519\n",
       "lavandero     57519\n",
       "chofer        57519\n",
       "cocinero      57519\n",
       "jardinero     57519\n",
       "tot_integ     57519\n",
       "tot_hom       57519\n",
       "tot_muj       57519\n",
       "dtype: int64"
      ]
     },
     "execution_count": 3,
     "metadata": {},
     "output_type": "execute_result"
    }
   ],
   "source": [
    "# Características de los hogares\n",
    "# Save path to data set in a variable\n",
    "hogar_file = \"../Resources/hogar.csv\"\n",
    "\n",
    "# Use Pandas to read data - 1st Aux file PK foliohog  FK folioviv\n",
    "hogar_df = pd.read_csv(hogar_file, low_memory=False) \n",
    "\n",
    "# Show the results\n",
    "hogar_df.count()"
   ]
  },
  {
   "cell_type": "code",
   "execution_count": 4,
   "metadata": {
    "collapsed": true
   },
   "outputs": [
    {
     "data": {
      "text/plain": [
       "folioviv      208140\n",
       "foliohog      208140\n",
       "id_pobla      208140\n",
       "edad          208140\n",
       "nacio_dia     208140\n",
       "nacio_mes     208140\n",
       "sexo          208140\n",
       "parentesco    208140\n",
       "asiste_esc    208140\n",
       "tipo_esc      208140\n",
       "turno_esc     208140\n",
       "tiene_beca    208140\n",
       "otorg_beca    208140\n",
       "forma_beca    208140\n",
       "no_asiste     208140\n",
       "grado_inst    208140\n",
       "nivel_inst    208140\n",
       "residencia    208140\n",
       "alfabetism    208140\n",
       "edo_conyug    208140\n",
       "trabajo_sp    208140\n",
       "motivo_aus    208140\n",
       "act_buscot    208140\n",
       "act_pensio    208140\n",
       "act_quehac    208140\n",
       "act_estudi    208140\n",
       "act_discap    208140\n",
       "act_otra      208140\n",
       "num_trabaj    208140\n",
       "subor         208140\n",
       "indep         208140\n",
       "personal      208140\n",
       "pago          208140\n",
       "contrato      208140\n",
       "lentes        208140\n",
       "dif_ver       208140\n",
       "a_auditivo    208140\n",
       "dif_oir       208140\n",
       "sin_ruido     208140\n",
       "con_ruido     208140\n",
       "dif_camina    208140\n",
       "usa_aparat    208140\n",
       "ap_caminar    208140\n",
       "cam_100mts    208140\n",
       "cam_500mts    208140\n",
       "sube_12esc    208140\n",
       "dif_record    208140\n",
       "frec_nerv     208140\n",
       "med_nerv      208140\n",
       "inte_nerv     208140\n",
       "frec_depre    208140\n",
       "med_depre     208140\n",
       "inte_depre    208140\n",
       "frec_dolor    208140\n",
       "inte_dolor    208140\n",
       "frec_cansa    208140\n",
       "tiem_cansa    208140\n",
       "inte_cansa    208140\n",
       "dtype: int64"
      ]
     },
     "execution_count": 4,
     "metadata": {},
     "output_type": "execute_result"
    }
   ],
   "source": [
    "# Contiene características sociodemográficas y ocupacionales de los integrantes del hogar.\n",
    "# Save path to data set in a variable\n",
    "persona_file = \"../Resources/persona.csv\"\n",
    "\n",
    "# Use Pandas to read data - 2nd Aux file PK id_pobla  FK folioviv, foliohog\n",
    "persona_df = pd.read_csv(persona_file, low_memory=False) \n",
    "\n",
    "# Show the results\n",
    "persona_df.count()"
   ]
  },
  {
   "cell_type": "markdown",
   "metadata": {},
   "source": [
    "### Vivienda file"
   ]
  },
  {
   "cell_type": "code",
   "execution_count": 5,
   "metadata": {},
   "outputs": [
    {
     "name": "stdout",
     "output_type": "stream",
     "text": [
      "<class 'pandas.core.frame.DataFrame'>\n",
      "Int64Index: 12295 entries, 13805 to 51369\n",
      "Columns: 110 entries, folioviv to factor\n",
      "dtypes: int64(64), object(46)\n",
      "memory usage: 10.4+ MB\n"
     ]
    }
   ],
   "source": [
    "# Only Megalopolis data from the main file  \n",
    "# folioviv begins with 9 for Ciudad de México  13 Hidalgo  15 México  17 Morelos  21 Puebla  22 Querétaro  29 Tlaxcala\n",
    "viv_mega_df = vivienda_df.loc[\n",
    "    (vivienda_df[\"folioviv\"] > 899999999) & (vivienda_df[\"folioviv\"] < 1000000000) |\n",
    "    (vivienda_df[\"folioviv\"] > 1299999999) & (vivienda_df[\"folioviv\"] < 1400000000) |\n",
    "    (vivienda_df[\"folioviv\"] > 1499999999) & (vivienda_df[\"folioviv\"] < 1600000000) |\n",
    "    (vivienda_df[\"folioviv\"] > 1699999999) & (vivienda_df[\"folioviv\"] < 1800000000) |\n",
    "    (vivienda_df[\"folioviv\"] > 2099999999) & (vivienda_df[\"folioviv\"] < 2300000000) |\n",
    "    (vivienda_df[\"folioviv\"] > 2899999999) & (vivienda_df[\"folioviv\"] < 3000000000), :]\n",
    "viv_mega_df.info()"
   ]
  },
  {
   "cell_type": "code",
   "execution_count": 6,
   "metadata": {},
   "outputs": [],
   "source": [
    "# Add a new column to add the state number\n",
    "viv_mega_df.insert(1, 'state', 0)"
   ]
  },
  {
   "cell_type": "code",
   "execution_count": 10,
   "metadata": {},
   "outputs": [
    {
     "data": {
      "text/plain": [
       "'computador'"
      ]
     },
     "execution_count": 10,
     "metadata": {},
     "output_type": "execute_result"
    }
   ],
   "source": [
    "# State is inserted after the field folioviv\n",
    "viv_mega_df.columns[97]"
   ]
  },
  {
   "cell_type": "code",
   "execution_count": 7,
   "metadata": {},
   "outputs": [
    {
     "name": "stderr",
     "output_type": "stream",
     "text": [
      "C:\\Users\\bkachava\\Anaconda3\\envs\\PythonData\\lib\\site-packages\\pandas\\core\\indexing.py:543: SettingWithCopyWarning: \n",
      "A value is trying to be set on a copy of a slice from a DataFrame.\n",
      "Try using .loc[row_indexer,col_indexer] = value instead\n",
      "\n",
      "See the caveats in the documentation: http://pandas.pydata.org/pandas-docs/stable/indexing.html#indexing-view-versus-copy\n",
      "  self.obj[item] = s\n"
     ]
    }
   ],
   "source": [
    "# Assign the state number to make groups and counters\n",
    "viv_mega_df.loc[(viv_mega_df[\"folioviv\"] > 899999999) & (viv_mega_df[\"folioviv\"] < 1000000000), 'state'] = 9\n",
    "viv_mega_df.loc[(viv_mega_df[\"folioviv\"] > 1299999999) & (viv_mega_df[\"folioviv\"] < 1400000000), 'state'] = 13\n",
    "viv_mega_df.loc[(viv_mega_df[\"folioviv\"] > 1499999999) & (viv_mega_df[\"folioviv\"] < 1600000000), 'state'] = 15\n",
    "viv_mega_df.loc[(viv_mega_df[\"folioviv\"] > 1699999999) & (viv_mega_df[\"folioviv\"] < 1800000000), 'state'] = 17\n",
    "viv_mega_df.loc[(viv_mega_df[\"folioviv\"] > 2099999999) & (viv_mega_df[\"folioviv\"] < 2200000000), 'state'] = 21\n",
    "viv_mega_df.loc[(viv_mega_df[\"folioviv\"] > 2199999999) & (viv_mega_df[\"folioviv\"] < 2300000000), 'state'] = 22\n",
    "viv_mega_df.loc[(viv_mega_df[\"folioviv\"] > 2899999999) & (viv_mega_df[\"folioviv\"] < 3000000000), 'state'] = 29"
   ]
  },
  {
   "cell_type": "code",
   "execution_count": 8,
   "metadata": {
    "collapsed": true
   },
   "outputs": [
    {
     "data": {
      "text/plain": [
       "state\n",
       "9     1776\n",
       "13    1721\n",
       "15    1828\n",
       "17    1632\n",
       "21    1697\n",
       "22    1830\n",
       "29    1811\n",
       "Name: folioviv, dtype: int64"
      ]
     },
     "execution_count": 8,
     "metadata": {},
     "output_type": "execute_result"
    }
   ],
   "source": [
    "# Count the rows by state\n",
    "df = viv_mega_df.groupby(['state'])['folioviv'].count()\n",
    "df"
   ]
  },
  {
   "cell_type": "code",
   "execution_count": 7,
   "metadata": {
    "collapsed": true
   },
   "outputs": [
    {
     "data": {
      "text/plain": [
       "state  ubica_geo\n",
       "9      90070000     300\n",
       "       90050000     191\n",
       "       90120000     165\n",
       "       90150000     156\n",
       "       90100000     138\n",
       "       90030000     132\n",
       "       90170000     107\n",
       "       90140000     103\n",
       "       90020000      92\n",
       "       90060000      85\n",
       "       90110000      84\n",
       "       90130000      59\n",
       "       90160000      59\n",
       "       90040000      42\n",
       "       90080000      40\n",
       "       90090000      23\n",
       "13     130480000    167\n",
       "       130670000    115\n",
       "       130510000     98\n",
       "       130630000     86\n",
       "       130760000     82\n",
       "       130770000     82\n",
       "       130130000     71\n",
       "       130280000     68\n",
       "       130300000     67\n",
       "       130590000     53\n",
       "       130290000     50\n",
       "       130560000     44\n",
       "       130640000     38\n",
       "       130730000     38\n",
       "                   ... \n",
       "29     290360000     37\n",
       "       290210000     36\n",
       "       290140000     34\n",
       "       290310000     31\n",
       "       290380000     31\n",
       "       290280000     30\n",
       "       290390000     26\n",
       "       290410000     24\n",
       "       290300000     20\n",
       "       290020000     19\n",
       "       290070000     19\n",
       "       290420000     19\n",
       "       290460000     19\n",
       "       290340000     18\n",
       "       290530000     18\n",
       "       290560000     18\n",
       "       290550000     17\n",
       "       290010000     16\n",
       "       290170000     14\n",
       "       290320000     14\n",
       "       290490000     14\n",
       "       290350000     10\n",
       "       290540000     10\n",
       "       290600000     10\n",
       "       290270000      9\n",
       "       290230000      8\n",
       "       290500000      8\n",
       "       290090000      5\n",
       "       290570000      5\n",
       "       290580000      5\n",
       "Name: ubica_geo, Length: 249, dtype: int64"
      ]
     },
     "execution_count": 7,
     "metadata": {},
     "output_type": "execute_result"
    }
   ],
   "source": [
    "# Ubicación geográfica\n",
    "viv_mega_df.groupby('state')['ubica_geo'].value_counts()"
   ]
  },
  {
   "cell_type": "markdown",
   "metadata": {},
   "source": [
    "#### `Data preparation for the Services Graph`"
   ]
  },
  {
   "cell_type": "code",
   "execution_count": 11,
   "metadata": {
    "collapsed": true
   },
   "outputs": [
    {
     "data": {
      "text/html": [
       "<div>\n",
       "<style scoped>\n",
       "    .dataframe tbody tr th:only-of-type {\n",
       "        vertical-align: middle;\n",
       "    }\n",
       "\n",
       "    .dataframe tbody tr th {\n",
       "        vertical-align: top;\n",
       "    }\n",
       "\n",
       "    .dataframe thead th {\n",
       "        text-align: right;\n",
       "    }\n",
       "</style>\n",
       "<table border=\"1\" class=\"dataframe\">\n",
       "  <thead>\n",
       "    <tr style=\"text-align: right;\">\n",
       "      <th></th>\n",
       "      <th></th>\n",
       "      <th>computador</th>\n",
       "      <th>tel_fijo</th>\n",
       "      <th>celular</th>\n",
       "      <th>internet</th>\n",
       "      <th>tv_paga</th>\n",
       "    </tr>\n",
       "  </thead>\n",
       "  <tbody>\n",
       "    <tr>\n",
       "      <th rowspan=\"2\" valign=\"top\">9</th>\n",
       "      <th>1</th>\n",
       "      <td>970</td>\n",
       "      <td>1226</td>\n",
       "      <td>1643</td>\n",
       "      <td>1281</td>\n",
       "      <td>812</td>\n",
       "    </tr>\n",
       "    <tr>\n",
       "      <th>2</th>\n",
       "      <td>806</td>\n",
       "      <td>550</td>\n",
       "      <td>133</td>\n",
       "      <td>495</td>\n",
       "      <td>964</td>\n",
       "    </tr>\n",
       "    <tr>\n",
       "      <th rowspan=\"2\" valign=\"top\">13</th>\n",
       "      <th>1</th>\n",
       "      <td>489</td>\n",
       "      <td>420</td>\n",
       "      <td>1424</td>\n",
       "      <td>464</td>\n",
       "      <td>849</td>\n",
       "    </tr>\n",
       "    <tr>\n",
       "      <th>2</th>\n",
       "      <td>1232</td>\n",
       "      <td>1301</td>\n",
       "      <td>297</td>\n",
       "      <td>1257</td>\n",
       "      <td>872</td>\n",
       "    </tr>\n",
       "    <tr>\n",
       "      <th rowspan=\"2\" valign=\"top\">15</th>\n",
       "      <th>1</th>\n",
       "      <td>650</td>\n",
       "      <td>842</td>\n",
       "      <td>1668</td>\n",
       "      <td>817</td>\n",
       "      <td>656</td>\n",
       "    </tr>\n",
       "    <tr>\n",
       "      <th>2</th>\n",
       "      <td>1178</td>\n",
       "      <td>986</td>\n",
       "      <td>160</td>\n",
       "      <td>1011</td>\n",
       "      <td>1172</td>\n",
       "    </tr>\n",
       "    <tr>\n",
       "      <th rowspan=\"2\" valign=\"top\">17</th>\n",
       "      <th>1</th>\n",
       "      <td>545</td>\n",
       "      <td>743</td>\n",
       "      <td>1435</td>\n",
       "      <td>764</td>\n",
       "      <td>723</td>\n",
       "    </tr>\n",
       "    <tr>\n",
       "      <th>2</th>\n",
       "      <td>1087</td>\n",
       "      <td>889</td>\n",
       "      <td>197</td>\n",
       "      <td>868</td>\n",
       "      <td>909</td>\n",
       "    </tr>\n",
       "    <tr>\n",
       "      <th rowspan=\"2\" valign=\"top\">21</th>\n",
       "      <th>1</th>\n",
       "      <td>499</td>\n",
       "      <td>515</td>\n",
       "      <td>1391</td>\n",
       "      <td>552</td>\n",
       "      <td>648</td>\n",
       "    </tr>\n",
       "    <tr>\n",
       "      <th>2</th>\n",
       "      <td>1198</td>\n",
       "      <td>1182</td>\n",
       "      <td>306</td>\n",
       "      <td>1145</td>\n",
       "      <td>1049</td>\n",
       "    </tr>\n",
       "    <tr>\n",
       "      <th rowspan=\"2\" valign=\"top\">22</th>\n",
       "      <th>1</th>\n",
       "      <td>765</td>\n",
       "      <td>671</td>\n",
       "      <td>1668</td>\n",
       "      <td>877</td>\n",
       "      <td>1082</td>\n",
       "    </tr>\n",
       "    <tr>\n",
       "      <th>2</th>\n",
       "      <td>1065</td>\n",
       "      <td>1159</td>\n",
       "      <td>162</td>\n",
       "      <td>953</td>\n",
       "      <td>748</td>\n",
       "    </tr>\n",
       "    <tr>\n",
       "      <th rowspan=\"2\" valign=\"top\">29</th>\n",
       "      <th>1</th>\n",
       "      <td>511</td>\n",
       "      <td>467</td>\n",
       "      <td>1613</td>\n",
       "      <td>501</td>\n",
       "      <td>865</td>\n",
       "    </tr>\n",
       "    <tr>\n",
       "      <th>2</th>\n",
       "      <td>1300</td>\n",
       "      <td>1344</td>\n",
       "      <td>198</td>\n",
       "      <td>1310</td>\n",
       "      <td>946</td>\n",
       "    </tr>\n",
       "  </tbody>\n",
       "</table>\n",
       "</div>"
      ],
      "text/plain": [
       "      computador  tel_fijo  celular  internet  tv_paga\n",
       "9  1         970      1226     1643      1281      812\n",
       "   2         806       550      133       495      964\n",
       "13 1         489       420     1424       464      849\n",
       "   2        1232      1301      297      1257      872\n",
       "15 1         650       842     1668       817      656\n",
       "   2        1178       986      160      1011     1172\n",
       "17 1         545       743     1435       764      723\n",
       "   2        1087       889      197       868      909\n",
       "21 1         499       515     1391       552      648\n",
       "   2        1198      1182      306      1145     1049\n",
       "22 1         765       671     1668       877     1082\n",
       "   2        1065      1159      162       953      748\n",
       "29 1         511       467     1613       501      865\n",
       "   2        1300      1344      198      1310      946"
      ]
     },
     "execution_count": 11,
     "metadata": {},
     "output_type": "execute_result"
    }
   ],
   "source": [
    "# Get information for the graph - totals by variable\n",
    "viv_mega_df.groupby(['state']).agg({i:'value_counts' for i in viv_mega_df.columns[97:102]})"
   ]
  },
  {
   "cell_type": "code",
   "execution_count": 12,
   "metadata": {
    "collapsed": true
   },
   "outputs": [
    {
     "data": {
      "text/html": [
       "<div>\n",
       "<style scoped>\n",
       "    .dataframe tbody tr th:only-of-type {\n",
       "        vertical-align: middle;\n",
       "    }\n",
       "\n",
       "    .dataframe tbody tr th {\n",
       "        vertical-align: top;\n",
       "    }\n",
       "\n",
       "    .dataframe thead th {\n",
       "        text-align: right;\n",
       "    }\n",
       "</style>\n",
       "<table border=\"1\" class=\"dataframe\">\n",
       "  <thead>\n",
       "    <tr style=\"text-align: right;\">\n",
       "      <th></th>\n",
       "      <th></th>\n",
       "      <th></th>\n",
       "      <th>computador</th>\n",
       "      <th>tel_fijo</th>\n",
       "      <th>celular</th>\n",
       "      <th>internet</th>\n",
       "      <th>tv_paga</th>\n",
       "    </tr>\n",
       "  </thead>\n",
       "  <tbody>\n",
       "    <tr>\n",
       "      <th rowspan=\"8\" valign=\"top\">9</th>\n",
       "      <th rowspan=\"2\" valign=\"top\">1</th>\n",
       "      <th>1</th>\n",
       "      <td>NaN</td>\n",
       "      <td>1</td>\n",
       "      <td>5.0</td>\n",
       "      <td>NaN</td>\n",
       "      <td>NaN</td>\n",
       "    </tr>\n",
       "    <tr>\n",
       "      <th>2</th>\n",
       "      <td>5.0</td>\n",
       "      <td>4</td>\n",
       "      <td>NaN</td>\n",
       "      <td>5.0</td>\n",
       "      <td>5.0</td>\n",
       "    </tr>\n",
       "    <tr>\n",
       "      <th rowspan=\"2\" valign=\"top\">2</th>\n",
       "      <th>1</th>\n",
       "      <td>282.0</td>\n",
       "      <td>427</td>\n",
       "      <td>666.0</td>\n",
       "      <td>449.0</td>\n",
       "      <td>243.0</td>\n",
       "    </tr>\n",
       "    <tr>\n",
       "      <th>2</th>\n",
       "      <td>446.0</td>\n",
       "      <td>301</td>\n",
       "      <td>62.0</td>\n",
       "      <td>279.0</td>\n",
       "      <td>485.0</td>\n",
       "    </tr>\n",
       "    <tr>\n",
       "      <th rowspan=\"2\" valign=\"top\">3</th>\n",
       "      <th>1</th>\n",
       "      <td>491.0</td>\n",
       "      <td>588</td>\n",
       "      <td>736.0</td>\n",
       "      <td>613.0</td>\n",
       "      <td>394.0</td>\n",
       "    </tr>\n",
       "    <tr>\n",
       "      <th>2</th>\n",
       "      <td>304.0</td>\n",
       "      <td>207</td>\n",
       "      <td>59.0</td>\n",
       "      <td>182.0</td>\n",
       "      <td>401.0</td>\n",
       "    </tr>\n",
       "    <tr>\n",
       "      <th rowspan=\"2\" valign=\"top\">4</th>\n",
       "      <th>1</th>\n",
       "      <td>197.0</td>\n",
       "      <td>210</td>\n",
       "      <td>236.0</td>\n",
       "      <td>219.0</td>\n",
       "      <td>175.0</td>\n",
       "    </tr>\n",
       "    <tr>\n",
       "      <th>2</th>\n",
       "      <td>51.0</td>\n",
       "      <td>38</td>\n",
       "      <td>12.0</td>\n",
       "      <td>29.0</td>\n",
       "      <td>73.0</td>\n",
       "    </tr>\n",
       "    <tr>\n",
       "      <th rowspan=\"8\" valign=\"top\">13</th>\n",
       "      <th rowspan=\"2\" valign=\"top\">1</th>\n",
       "      <th>1</th>\n",
       "      <td>38.0</td>\n",
       "      <td>53</td>\n",
       "      <td>310.0</td>\n",
       "      <td>29.0</td>\n",
       "      <td>188.0</td>\n",
       "    </tr>\n",
       "    <tr>\n",
       "      <th>2</th>\n",
       "      <td>423.0</td>\n",
       "      <td>408</td>\n",
       "      <td>151.0</td>\n",
       "      <td>432.0</td>\n",
       "      <td>273.0</td>\n",
       "    </tr>\n",
       "    <tr>\n",
       "      <th rowspan=\"2\" valign=\"top\">2</th>\n",
       "      <th>1</th>\n",
       "      <td>335.0</td>\n",
       "      <td>258</td>\n",
       "      <td>949.0</td>\n",
       "      <td>318.0</td>\n",
       "      <td>533.0</td>\n",
       "    </tr>\n",
       "    <tr>\n",
       "      <th>2</th>\n",
       "      <td>746.0</td>\n",
       "      <td>823</td>\n",
       "      <td>132.0</td>\n",
       "      <td>763.0</td>\n",
       "      <td>548.0</td>\n",
       "    </tr>\n",
       "    <tr>\n",
       "      <th rowspan=\"2\" valign=\"top\">3</th>\n",
       "      <th>1</th>\n",
       "      <td>61.0</td>\n",
       "      <td>58</td>\n",
       "      <td>90.0</td>\n",
       "      <td>58.0</td>\n",
       "      <td>64.0</td>\n",
       "    </tr>\n",
       "    <tr>\n",
       "      <th>2</th>\n",
       "      <td>38.0</td>\n",
       "      <td>41</td>\n",
       "      <td>9.0</td>\n",
       "      <td>41.0</td>\n",
       "      <td>35.0</td>\n",
       "    </tr>\n",
       "    <tr>\n",
       "      <th rowspan=\"2\" valign=\"top\">4</th>\n",
       "      <th>1</th>\n",
       "      <td>55.0</td>\n",
       "      <td>51</td>\n",
       "      <td>75.0</td>\n",
       "      <td>59.0</td>\n",
       "      <td>64.0</td>\n",
       "    </tr>\n",
       "    <tr>\n",
       "      <th>2</th>\n",
       "      <td>25.0</td>\n",
       "      <td>29</td>\n",
       "      <td>5.0</td>\n",
       "      <td>21.0</td>\n",
       "      <td>16.0</td>\n",
       "    </tr>\n",
       "    <tr>\n",
       "      <th rowspan=\"8\" valign=\"top\">15</th>\n",
       "      <th rowspan=\"2\" valign=\"top\">1</th>\n",
       "      <th>1</th>\n",
       "      <td>14.0</td>\n",
       "      <td>6</td>\n",
       "      <td>143.0</td>\n",
       "      <td>12.0</td>\n",
       "      <td>29.0</td>\n",
       "    </tr>\n",
       "    <tr>\n",
       "      <th>2</th>\n",
       "      <td>150.0</td>\n",
       "      <td>158</td>\n",
       "      <td>21.0</td>\n",
       "      <td>152.0</td>\n",
       "      <td>135.0</td>\n",
       "    </tr>\n",
       "    <tr>\n",
       "      <th rowspan=\"2\" valign=\"top\">2</th>\n",
       "      <th>1</th>\n",
       "      <td>358.0</td>\n",
       "      <td>480</td>\n",
       "      <td>1050.0</td>\n",
       "      <td>462.0</td>\n",
       "      <td>360.0</td>\n",
       "    </tr>\n",
       "    <tr>\n",
       "      <th>2</th>\n",
       "      <td>812.0</td>\n",
       "      <td>690</td>\n",
       "      <td>120.0</td>\n",
       "      <td>708.0</td>\n",
       "      <td>810.0</td>\n",
       "    </tr>\n",
       "    <tr>\n",
       "      <th rowspan=\"2\" valign=\"top\">3</th>\n",
       "      <th>1</th>\n",
       "      <td>147.0</td>\n",
       "      <td>208</td>\n",
       "      <td>289.0</td>\n",
       "      <td>194.0</td>\n",
       "      <td>144.0</td>\n",
       "    </tr>\n",
       "    <tr>\n",
       "      <th>2</th>\n",
       "      <td>156.0</td>\n",
       "      <td>95</td>\n",
       "      <td>14.0</td>\n",
       "      <td>109.0</td>\n",
       "      <td>159.0</td>\n",
       "    </tr>\n",
       "    <tr>\n",
       "      <th rowspan=\"2\" valign=\"top\">4</th>\n",
       "      <th>1</th>\n",
       "      <td>131.0</td>\n",
       "      <td>148</td>\n",
       "      <td>186.0</td>\n",
       "      <td>149.0</td>\n",
       "      <td>123.0</td>\n",
       "    </tr>\n",
       "    <tr>\n",
       "      <th>2</th>\n",
       "      <td>60.0</td>\n",
       "      <td>43</td>\n",
       "      <td>5.0</td>\n",
       "      <td>42.0</td>\n",
       "      <td>68.0</td>\n",
       "    </tr>\n",
       "    <tr>\n",
       "      <th rowspan=\"8\" valign=\"top\">17</th>\n",
       "      <th rowspan=\"2\" valign=\"top\">1</th>\n",
       "      <th>1</th>\n",
       "      <td>25.0</td>\n",
       "      <td>41</td>\n",
       "      <td>159.0</td>\n",
       "      <td>30.0</td>\n",
       "      <td>38.0</td>\n",
       "    </tr>\n",
       "    <tr>\n",
       "      <th>2</th>\n",
       "      <td>173.0</td>\n",
       "      <td>157</td>\n",
       "      <td>39.0</td>\n",
       "      <td>168.0</td>\n",
       "      <td>160.0</td>\n",
       "    </tr>\n",
       "    <tr>\n",
       "      <th rowspan=\"2\" valign=\"top\">2</th>\n",
       "      <th>1</th>\n",
       "      <td>345.0</td>\n",
       "      <td>501</td>\n",
       "      <td>993.0</td>\n",
       "      <td>517.0</td>\n",
       "      <td>490.0</td>\n",
       "    </tr>\n",
       "    <tr>\n",
       "      <th>2</th>\n",
       "      <td>791.0</td>\n",
       "      <td>635</td>\n",
       "      <td>143.0</td>\n",
       "      <td>619.0</td>\n",
       "      <td>646.0</td>\n",
       "    </tr>\n",
       "    <tr>\n",
       "      <th rowspan=\"2\" valign=\"top\">3</th>\n",
       "      <th>1</th>\n",
       "      <td>131.0</td>\n",
       "      <td>152</td>\n",
       "      <td>223.0</td>\n",
       "      <td>167.0</td>\n",
       "      <td>146.0</td>\n",
       "    </tr>\n",
       "    <tr>\n",
       "      <th>2</th>\n",
       "      <td>107.0</td>\n",
       "      <td>86</td>\n",
       "      <td>15.0</td>\n",
       "      <td>71.0</td>\n",
       "      <td>92.0</td>\n",
       "    </tr>\n",
       "    <tr>\n",
       "      <th rowspan=\"2\" valign=\"top\">4</th>\n",
       "      <th>1</th>\n",
       "      <td>44.0</td>\n",
       "      <td>49</td>\n",
       "      <td>60.0</td>\n",
       "      <td>50.0</td>\n",
       "      <td>49.0</td>\n",
       "    </tr>\n",
       "    <tr>\n",
       "      <th>2</th>\n",
       "      <td>16.0</td>\n",
       "      <td>11</td>\n",
       "      <td>NaN</td>\n",
       "      <td>10.0</td>\n",
       "      <td>11.0</td>\n",
       "    </tr>\n",
       "    <tr>\n",
       "      <th rowspan=\"8\" valign=\"top\">21</th>\n",
       "      <th rowspan=\"2\" valign=\"top\">1</th>\n",
       "      <th>1</th>\n",
       "      <td>45.0</td>\n",
       "      <td>77</td>\n",
       "      <td>392.0</td>\n",
       "      <td>39.0</td>\n",
       "      <td>161.0</td>\n",
       "    </tr>\n",
       "    <tr>\n",
       "      <th>2</th>\n",
       "      <td>531.0</td>\n",
       "      <td>499</td>\n",
       "      <td>184.0</td>\n",
       "      <td>537.0</td>\n",
       "      <td>415.0</td>\n",
       "    </tr>\n",
       "    <tr>\n",
       "      <th rowspan=\"2\" valign=\"top\">2</th>\n",
       "      <th>1</th>\n",
       "      <td>252.0</td>\n",
       "      <td>261</td>\n",
       "      <td>703.0</td>\n",
       "      <td>309.0</td>\n",
       "      <td>322.0</td>\n",
       "    </tr>\n",
       "    <tr>\n",
       "      <th>2</th>\n",
       "      <td>560.0</td>\n",
       "      <td>551</td>\n",
       "      <td>109.0</td>\n",
       "      <td>503.0</td>\n",
       "      <td>490.0</td>\n",
       "    </tr>\n",
       "    <tr>\n",
       "      <th rowspan=\"2\" valign=\"top\">3</th>\n",
       "      <th>1</th>\n",
       "      <td>127.0</td>\n",
       "      <td>116</td>\n",
       "      <td>208.0</td>\n",
       "      <td>130.0</td>\n",
       "      <td>108.0</td>\n",
       "    </tr>\n",
       "    <tr>\n",
       "      <th>2</th>\n",
       "      <td>92.0</td>\n",
       "      <td>103</td>\n",
       "      <td>11.0</td>\n",
       "      <td>89.0</td>\n",
       "      <td>111.0</td>\n",
       "    </tr>\n",
       "    <tr>\n",
       "      <th rowspan=\"2\" valign=\"top\">4</th>\n",
       "      <th>1</th>\n",
       "      <td>75.0</td>\n",
       "      <td>61</td>\n",
       "      <td>88.0</td>\n",
       "      <td>74.0</td>\n",
       "      <td>57.0</td>\n",
       "    </tr>\n",
       "    <tr>\n",
       "      <th>2</th>\n",
       "      <td>15.0</td>\n",
       "      <td>29</td>\n",
       "      <td>2.0</td>\n",
       "      <td>16.0</td>\n",
       "      <td>33.0</td>\n",
       "    </tr>\n",
       "    <tr>\n",
       "      <th rowspan=\"8\" valign=\"top\">22</th>\n",
       "      <th rowspan=\"2\" valign=\"top\">1</th>\n",
       "      <th>1</th>\n",
       "      <td>37.0</td>\n",
       "      <td>30</td>\n",
       "      <td>246.0</td>\n",
       "      <td>23.0</td>\n",
       "      <td>106.0</td>\n",
       "    </tr>\n",
       "    <tr>\n",
       "      <th>2</th>\n",
       "      <td>291.0</td>\n",
       "      <td>298</td>\n",
       "      <td>82.0</td>\n",
       "      <td>305.0</td>\n",
       "      <td>222.0</td>\n",
       "    </tr>\n",
       "    <tr>\n",
       "      <th rowspan=\"2\" valign=\"top\">2</th>\n",
       "      <th>1</th>\n",
       "      <td>259.0</td>\n",
       "      <td>205</td>\n",
       "      <td>770.0</td>\n",
       "      <td>326.0</td>\n",
       "      <td>477.0</td>\n",
       "    </tr>\n",
       "    <tr>\n",
       "      <th>2</th>\n",
       "      <td>571.0</td>\n",
       "      <td>625</td>\n",
       "      <td>60.0</td>\n",
       "      <td>504.0</td>\n",
       "      <td>353.0</td>\n",
       "    </tr>\n",
       "    <tr>\n",
       "      <th rowspan=\"2\" valign=\"top\">3</th>\n",
       "      <th>1</th>\n",
       "      <td>238.0</td>\n",
       "      <td>230</td>\n",
       "      <td>375.0</td>\n",
       "      <td>282.0</td>\n",
       "      <td>278.0</td>\n",
       "    </tr>\n",
       "    <tr>\n",
       "      <th>2</th>\n",
       "      <td>152.0</td>\n",
       "      <td>160</td>\n",
       "      <td>15.0</td>\n",
       "      <td>108.0</td>\n",
       "      <td>112.0</td>\n",
       "    </tr>\n",
       "    <tr>\n",
       "      <th rowspan=\"2\" valign=\"top\">4</th>\n",
       "      <th>1</th>\n",
       "      <td>231.0</td>\n",
       "      <td>206</td>\n",
       "      <td>277.0</td>\n",
       "      <td>246.0</td>\n",
       "      <td>221.0</td>\n",
       "    </tr>\n",
       "    <tr>\n",
       "      <th>2</th>\n",
       "      <td>51.0</td>\n",
       "      <td>76</td>\n",
       "      <td>5.0</td>\n",
       "      <td>36.0</td>\n",
       "      <td>61.0</td>\n",
       "    </tr>\n",
       "    <tr>\n",
       "      <th rowspan=\"8\" valign=\"top\">29</th>\n",
       "      <th rowspan=\"2\" valign=\"top\">1</th>\n",
       "      <th>1</th>\n",
       "      <td>3.0</td>\n",
       "      <td>1</td>\n",
       "      <td>80.0</td>\n",
       "      <td>NaN</td>\n",
       "      <td>12.0</td>\n",
       "    </tr>\n",
       "    <tr>\n",
       "      <th>2</th>\n",
       "      <td>86.0</td>\n",
       "      <td>88</td>\n",
       "      <td>9.0</td>\n",
       "      <td>89.0</td>\n",
       "      <td>77.0</td>\n",
       "    </tr>\n",
       "    <tr>\n",
       "      <th rowspan=\"2\" valign=\"top\">2</th>\n",
       "      <th>1</th>\n",
       "      <td>396.0</td>\n",
       "      <td>378</td>\n",
       "      <td>1343.0</td>\n",
       "      <td>394.0</td>\n",
       "      <td>713.0</td>\n",
       "    </tr>\n",
       "    <tr>\n",
       "      <th>2</th>\n",
       "      <td>1125.0</td>\n",
       "      <td>1143</td>\n",
       "      <td>178.0</td>\n",
       "      <td>1127.0</td>\n",
       "      <td>808.0</td>\n",
       "    </tr>\n",
       "    <tr>\n",
       "      <th rowspan=\"2\" valign=\"top\">3</th>\n",
       "      <th>1</th>\n",
       "      <td>64.0</td>\n",
       "      <td>55</td>\n",
       "      <td>120.0</td>\n",
       "      <td>67.0</td>\n",
       "      <td>94.0</td>\n",
       "    </tr>\n",
       "    <tr>\n",
       "      <th>2</th>\n",
       "      <td>64.0</td>\n",
       "      <td>73</td>\n",
       "      <td>8.0</td>\n",
       "      <td>61.0</td>\n",
       "      <td>34.0</td>\n",
       "    </tr>\n",
       "    <tr>\n",
       "      <th rowspan=\"2\" valign=\"top\">4</th>\n",
       "      <th>1</th>\n",
       "      <td>48.0</td>\n",
       "      <td>33</td>\n",
       "      <td>70.0</td>\n",
       "      <td>40.0</td>\n",
       "      <td>46.0</td>\n",
       "    </tr>\n",
       "    <tr>\n",
       "      <th>2</th>\n",
       "      <td>25.0</td>\n",
       "      <td>40</td>\n",
       "      <td>3.0</td>\n",
       "      <td>33.0</td>\n",
       "      <td>27.0</td>\n",
       "    </tr>\n",
       "  </tbody>\n",
       "</table>\n",
       "</div>"
      ],
      "text/plain": [
       "        computador  tel_fijo  celular  internet  tv_paga\n",
       "9  1 1         NaN         1      5.0       NaN      NaN\n",
       "     2         5.0         4      NaN       5.0      5.0\n",
       "   2 1       282.0       427    666.0     449.0    243.0\n",
       "     2       446.0       301     62.0     279.0    485.0\n",
       "   3 1       491.0       588    736.0     613.0    394.0\n",
       "     2       304.0       207     59.0     182.0    401.0\n",
       "   4 1       197.0       210    236.0     219.0    175.0\n",
       "     2        51.0        38     12.0      29.0     73.0\n",
       "13 1 1        38.0        53    310.0      29.0    188.0\n",
       "     2       423.0       408    151.0     432.0    273.0\n",
       "   2 1       335.0       258    949.0     318.0    533.0\n",
       "     2       746.0       823    132.0     763.0    548.0\n",
       "   3 1        61.0        58     90.0      58.0     64.0\n",
       "     2        38.0        41      9.0      41.0     35.0\n",
       "   4 1        55.0        51     75.0      59.0     64.0\n",
       "     2        25.0        29      5.0      21.0     16.0\n",
       "15 1 1        14.0         6    143.0      12.0     29.0\n",
       "     2       150.0       158     21.0     152.0    135.0\n",
       "   2 1       358.0       480   1050.0     462.0    360.0\n",
       "     2       812.0       690    120.0     708.0    810.0\n",
       "   3 1       147.0       208    289.0     194.0    144.0\n",
       "     2       156.0        95     14.0     109.0    159.0\n",
       "   4 1       131.0       148    186.0     149.0    123.0\n",
       "     2        60.0        43      5.0      42.0     68.0\n",
       "17 1 1        25.0        41    159.0      30.0     38.0\n",
       "     2       173.0       157     39.0     168.0    160.0\n",
       "   2 1       345.0       501    993.0     517.0    490.0\n",
       "     2       791.0       635    143.0     619.0    646.0\n",
       "   3 1       131.0       152    223.0     167.0    146.0\n",
       "     2       107.0        86     15.0      71.0     92.0\n",
       "   4 1        44.0        49     60.0      50.0     49.0\n",
       "     2        16.0        11      NaN      10.0     11.0\n",
       "21 1 1        45.0        77    392.0      39.0    161.0\n",
       "     2       531.0       499    184.0     537.0    415.0\n",
       "   2 1       252.0       261    703.0     309.0    322.0\n",
       "     2       560.0       551    109.0     503.0    490.0\n",
       "   3 1       127.0       116    208.0     130.0    108.0\n",
       "     2        92.0       103     11.0      89.0    111.0\n",
       "   4 1        75.0        61     88.0      74.0     57.0\n",
       "     2        15.0        29      2.0      16.0     33.0\n",
       "22 1 1        37.0        30    246.0      23.0    106.0\n",
       "     2       291.0       298     82.0     305.0    222.0\n",
       "   2 1       259.0       205    770.0     326.0    477.0\n",
       "     2       571.0       625     60.0     504.0    353.0\n",
       "   3 1       238.0       230    375.0     282.0    278.0\n",
       "     2       152.0       160     15.0     108.0    112.0\n",
       "   4 1       231.0       206    277.0     246.0    221.0\n",
       "     2        51.0        76      5.0      36.0     61.0\n",
       "29 1 1         3.0         1     80.0       NaN     12.0\n",
       "     2        86.0        88      9.0      89.0     77.0\n",
       "   2 1       396.0       378   1343.0     394.0    713.0\n",
       "     2      1125.0      1143    178.0    1127.0    808.0\n",
       "   3 1        64.0        55    120.0      67.0     94.0\n",
       "     2        64.0        73      8.0      61.0     34.0\n",
       "   4 1        48.0        33     70.0      40.0     46.0\n",
       "     2        25.0        40      3.0      33.0     27.0"
      ]
     },
     "execution_count": 12,
     "metadata": {},
     "output_type": "execute_result"
    }
   ],
   "source": [
    "# Get information for the graph - totals by variable group by state and estrato socioeconomico\n",
    "viv_mega_df.groupby(['state','est_socio']).agg({i:'value_counts' for i in viv_mega_df.columns[97:102]})"
   ]
  },
  {
   "cell_type": "code",
   "execution_count": 8,
   "metadata": {},
   "outputs": [],
   "source": [
    "# Get information for the graph - totals by variable group by estrato socioeconomico\n",
    "graph_df = viv_mega_df.groupby(['est_socio']).agg({i:'value_counts' for i in viv_mega_df.columns[97:102]})\n",
    "graph_df.reset_index(inplace=True)\n",
    "graph_df.rename(columns={\"level_0\":\"est_socio\", \"level_1\":\"yes_no\"}, inplace=True)"
   ]
  },
  {
   "cell_type": "code",
   "execution_count": 9,
   "metadata": {},
   "outputs": [
    {
     "data": {
      "text/html": [
       "<div>\n",
       "<style scoped>\n",
       "    .dataframe tbody tr th:only-of-type {\n",
       "        vertical-align: middle;\n",
       "    }\n",
       "\n",
       "    .dataframe tbody tr th {\n",
       "        vertical-align: top;\n",
       "    }\n",
       "\n",
       "    .dataframe thead th {\n",
       "        text-align: right;\n",
       "    }\n",
       "</style>\n",
       "<table border=\"1\" class=\"dataframe\">\n",
       "  <thead>\n",
       "    <tr style=\"text-align: right;\">\n",
       "      <th></th>\n",
       "      <th>est_socio</th>\n",
       "      <th>yes_no</th>\n",
       "      <th>computador</th>\n",
       "      <th>tel_fijo</th>\n",
       "      <th>celular</th>\n",
       "      <th>internet</th>\n",
       "      <th>tv_paga</th>\n",
       "    </tr>\n",
       "  </thead>\n",
       "  <tbody>\n",
       "    <tr>\n",
       "      <th>0</th>\n",
       "      <td>1</td>\n",
       "      <td>1</td>\n",
       "      <td>162</td>\n",
       "      <td>209</td>\n",
       "      <td>1335</td>\n",
       "      <td>133</td>\n",
       "      <td>534</td>\n",
       "    </tr>\n",
       "    <tr>\n",
       "      <th>1</th>\n",
       "      <td>1</td>\n",
       "      <td>2</td>\n",
       "      <td>1659</td>\n",
       "      <td>1612</td>\n",
       "      <td>486</td>\n",
       "      <td>1688</td>\n",
       "      <td>1287</td>\n",
       "    </tr>\n",
       "    <tr>\n",
       "      <th>2</th>\n",
       "      <td>2</td>\n",
       "      <td>1</td>\n",
       "      <td>2227</td>\n",
       "      <td>2510</td>\n",
       "      <td>6474</td>\n",
       "      <td>2775</td>\n",
       "      <td>3138</td>\n",
       "    </tr>\n",
       "    <tr>\n",
       "      <th>3</th>\n",
       "      <td>2</td>\n",
       "      <td>2</td>\n",
       "      <td>5051</td>\n",
       "      <td>4768</td>\n",
       "      <td>804</td>\n",
       "      <td>4503</td>\n",
       "      <td>4140</td>\n",
       "    </tr>\n",
       "    <tr>\n",
       "      <th>4</th>\n",
       "      <td>3</td>\n",
       "      <td>1</td>\n",
       "      <td>1259</td>\n",
       "      <td>1407</td>\n",
       "      <td>2041</td>\n",
       "      <td>1511</td>\n",
       "      <td>1228</td>\n",
       "    </tr>\n",
       "    <tr>\n",
       "      <th>5</th>\n",
       "      <td>3</td>\n",
       "      <td>2</td>\n",
       "      <td>913</td>\n",
       "      <td>765</td>\n",
       "      <td>131</td>\n",
       "      <td>661</td>\n",
       "      <td>944</td>\n",
       "    </tr>\n",
       "    <tr>\n",
       "      <th>6</th>\n",
       "      <td>4</td>\n",
       "      <td>1</td>\n",
       "      <td>781</td>\n",
       "      <td>758</td>\n",
       "      <td>992</td>\n",
       "      <td>837</td>\n",
       "      <td>735</td>\n",
       "    </tr>\n",
       "    <tr>\n",
       "      <th>7</th>\n",
       "      <td>4</td>\n",
       "      <td>2</td>\n",
       "      <td>243</td>\n",
       "      <td>266</td>\n",
       "      <td>32</td>\n",
       "      <td>187</td>\n",
       "      <td>289</td>\n",
       "    </tr>\n",
       "  </tbody>\n",
       "</table>\n",
       "</div>"
      ],
      "text/plain": [
       "   est_socio  yes_no  computador  tel_fijo  celular  internet  tv_paga\n",
       "0          1       1         162       209     1335       133      534\n",
       "1          1       2        1659      1612      486      1688     1287\n",
       "2          2       1        2227      2510     6474      2775     3138\n",
       "3          2       2        5051      4768      804      4503     4140\n",
       "4          3       1        1259      1407     2041      1511     1228\n",
       "5          3       2         913       765      131       661      944\n",
       "6          4       1         781       758      992       837      735\n",
       "7          4       2         243       266       32       187      289"
      ]
     },
     "execution_count": 9,
     "metadata": {},
     "output_type": "execute_result"
    }
   ],
   "source": [
    "# Show results\n",
    "graph_df"
   ]
  },
  {
   "cell_type": "code",
   "execution_count": 10,
   "metadata": {},
   "outputs": [],
   "source": [
    "# Calculate the percentages of the field computador\n",
    "comp = graph_df.groupby(['est_socio', 'yes_no']).agg({'computador': 'sum'})\n",
    "# Change: groupby and divide by sum\n",
    "pcts = comp.groupby(level=0).apply(lambda x:100 * x / float(x.sum()))"
   ]
  },
  {
   "cell_type": "code",
   "execution_count": 11,
   "metadata": {
    "collapsed": true
   },
   "outputs": [
    {
     "data": {
      "text/html": [
       "<div>\n",
       "<style scoped>\n",
       "    .dataframe tbody tr th:only-of-type {\n",
       "        vertical-align: middle;\n",
       "    }\n",
       "\n",
       "    .dataframe tbody tr th {\n",
       "        vertical-align: top;\n",
       "    }\n",
       "\n",
       "    .dataframe thead th {\n",
       "        text-align: right;\n",
       "    }\n",
       "</style>\n",
       "<table border=\"1\" class=\"dataframe\">\n",
       "  <thead>\n",
       "    <tr style=\"text-align: right;\">\n",
       "      <th></th>\n",
       "      <th></th>\n",
       "      <th>computador</th>\n",
       "    </tr>\n",
       "    <tr>\n",
       "      <th>est_socio</th>\n",
       "      <th>yes_no</th>\n",
       "      <th></th>\n",
       "    </tr>\n",
       "  </thead>\n",
       "  <tbody>\n",
       "    <tr>\n",
       "      <th rowspan=\"2\" valign=\"top\">1</th>\n",
       "      <th>1</th>\n",
       "      <td>8.896211</td>\n",
       "    </tr>\n",
       "    <tr>\n",
       "      <th>2</th>\n",
       "      <td>91.103789</td>\n",
       "    </tr>\n",
       "    <tr>\n",
       "      <th rowspan=\"2\" valign=\"top\">2</th>\n",
       "      <th>1</th>\n",
       "      <td>30.599066</td>\n",
       "    </tr>\n",
       "    <tr>\n",
       "      <th>2</th>\n",
       "      <td>69.400934</td>\n",
       "    </tr>\n",
       "    <tr>\n",
       "      <th rowspan=\"2\" valign=\"top\">3</th>\n",
       "      <th>1</th>\n",
       "      <td>57.965009</td>\n",
       "    </tr>\n",
       "    <tr>\n",
       "      <th>2</th>\n",
       "      <td>42.034991</td>\n",
       "    </tr>\n",
       "    <tr>\n",
       "      <th rowspan=\"2\" valign=\"top\">4</th>\n",
       "      <th>1</th>\n",
       "      <td>76.269531</td>\n",
       "    </tr>\n",
       "    <tr>\n",
       "      <th>2</th>\n",
       "      <td>23.730469</td>\n",
       "    </tr>\n",
       "  </tbody>\n",
       "</table>\n",
       "</div>"
      ],
      "text/plain": [
       "                  computador\n",
       "est_socio yes_no            \n",
       "1         1         8.896211\n",
       "          2        91.103789\n",
       "2         1        30.599066\n",
       "          2        69.400934\n",
       "3         1        57.965009\n",
       "          2        42.034991\n",
       "4         1        76.269531\n",
       "          2        23.730469"
      ]
     },
     "execution_count": 11,
     "metadata": {},
     "output_type": "execute_result"
    }
   ],
   "source": [
    "# Show results\n",
    "pcts"
   ]
  },
  {
   "cell_type": "code",
   "execution_count": 12,
   "metadata": {},
   "outputs": [],
   "source": [
    "# Calculate the percentages of the field computador\n",
    "comp = graph_df.groupby(['est_socio', 'yes_no']).agg({'tel_fijo': 'sum'})\n",
    "# Change: groupby and divide by sum\n",
    "pcts = comp.groupby(level=0).apply(lambda x:100 * x / float(x.sum()))"
   ]
  },
  {
   "cell_type": "code",
   "execution_count": 13,
   "metadata": {
    "collapsed": true
   },
   "outputs": [
    {
     "data": {
      "text/html": [
       "<div>\n",
       "<style scoped>\n",
       "    .dataframe tbody tr th:only-of-type {\n",
       "        vertical-align: middle;\n",
       "    }\n",
       "\n",
       "    .dataframe tbody tr th {\n",
       "        vertical-align: top;\n",
       "    }\n",
       "\n",
       "    .dataframe thead th {\n",
       "        text-align: right;\n",
       "    }\n",
       "</style>\n",
       "<table border=\"1\" class=\"dataframe\">\n",
       "  <thead>\n",
       "    <tr style=\"text-align: right;\">\n",
       "      <th></th>\n",
       "      <th></th>\n",
       "      <th>tel_fijo</th>\n",
       "    </tr>\n",
       "    <tr>\n",
       "      <th>est_socio</th>\n",
       "      <th>yes_no</th>\n",
       "      <th></th>\n",
       "    </tr>\n",
       "  </thead>\n",
       "  <tbody>\n",
       "    <tr>\n",
       "      <th rowspan=\"2\" valign=\"top\">1</th>\n",
       "      <th>1</th>\n",
       "      <td>11.477210</td>\n",
       "    </tr>\n",
       "    <tr>\n",
       "      <th>2</th>\n",
       "      <td>88.522790</td>\n",
       "    </tr>\n",
       "    <tr>\n",
       "      <th rowspan=\"2\" valign=\"top\">2</th>\n",
       "      <th>1</th>\n",
       "      <td>34.487497</td>\n",
       "    </tr>\n",
       "    <tr>\n",
       "      <th>2</th>\n",
       "      <td>65.512503</td>\n",
       "    </tr>\n",
       "    <tr>\n",
       "      <th rowspan=\"2\" valign=\"top\">3</th>\n",
       "      <th>1</th>\n",
       "      <td>64.779006</td>\n",
       "    </tr>\n",
       "    <tr>\n",
       "      <th>2</th>\n",
       "      <td>35.220994</td>\n",
       "    </tr>\n",
       "    <tr>\n",
       "      <th rowspan=\"2\" valign=\"top\">4</th>\n",
       "      <th>1</th>\n",
       "      <td>74.023438</td>\n",
       "    </tr>\n",
       "    <tr>\n",
       "      <th>2</th>\n",
       "      <td>25.976562</td>\n",
       "    </tr>\n",
       "  </tbody>\n",
       "</table>\n",
       "</div>"
      ],
      "text/plain": [
       "                   tel_fijo\n",
       "est_socio yes_no           \n",
       "1         1       11.477210\n",
       "          2       88.522790\n",
       "2         1       34.487497\n",
       "          2       65.512503\n",
       "3         1       64.779006\n",
       "          2       35.220994\n",
       "4         1       74.023438\n",
       "          2       25.976562"
      ]
     },
     "execution_count": 13,
     "metadata": {},
     "output_type": "execute_result"
    }
   ],
   "source": [
    "# Show results\n",
    "pcts"
   ]
  },
  {
   "cell_type": "code",
   "execution_count": 14,
   "metadata": {},
   "outputs": [],
   "source": [
    "# Calculate the percentages of the field computador\n",
    "comp = graph_df.groupby(['est_socio', 'yes_no']).agg({'celular': 'sum'})\n",
    "# Change: groupby and divide by sum\n",
    "pcts = comp.groupby(level=0).apply(lambda x:100 * x / float(x.sum()))"
   ]
  },
  {
   "cell_type": "code",
   "execution_count": 15,
   "metadata": {
    "collapsed": true
   },
   "outputs": [
    {
     "data": {
      "text/html": [
       "<div>\n",
       "<style scoped>\n",
       "    .dataframe tbody tr th:only-of-type {\n",
       "        vertical-align: middle;\n",
       "    }\n",
       "\n",
       "    .dataframe tbody tr th {\n",
       "        vertical-align: top;\n",
       "    }\n",
       "\n",
       "    .dataframe thead th {\n",
       "        text-align: right;\n",
       "    }\n",
       "</style>\n",
       "<table border=\"1\" class=\"dataframe\">\n",
       "  <thead>\n",
       "    <tr style=\"text-align: right;\">\n",
       "      <th></th>\n",
       "      <th></th>\n",
       "      <th>celular</th>\n",
       "    </tr>\n",
       "    <tr>\n",
       "      <th>est_socio</th>\n",
       "      <th>yes_no</th>\n",
       "      <th></th>\n",
       "    </tr>\n",
       "  </thead>\n",
       "  <tbody>\n",
       "    <tr>\n",
       "      <th rowspan=\"2\" valign=\"top\">1</th>\n",
       "      <th>1</th>\n",
       "      <td>73.311367</td>\n",
       "    </tr>\n",
       "    <tr>\n",
       "      <th>2</th>\n",
       "      <td>26.688633</td>\n",
       "    </tr>\n",
       "    <tr>\n",
       "      <th rowspan=\"2\" valign=\"top\">2</th>\n",
       "      <th>1</th>\n",
       "      <td>88.953009</td>\n",
       "    </tr>\n",
       "    <tr>\n",
       "      <th>2</th>\n",
       "      <td>11.046991</td>\n",
       "    </tr>\n",
       "    <tr>\n",
       "      <th rowspan=\"2\" valign=\"top\">3</th>\n",
       "      <th>1</th>\n",
       "      <td>93.968692</td>\n",
       "    </tr>\n",
       "    <tr>\n",
       "      <th>2</th>\n",
       "      <td>6.031308</td>\n",
       "    </tr>\n",
       "    <tr>\n",
       "      <th rowspan=\"2\" valign=\"top\">4</th>\n",
       "      <th>1</th>\n",
       "      <td>96.875000</td>\n",
       "    </tr>\n",
       "    <tr>\n",
       "      <th>2</th>\n",
       "      <td>3.125000</td>\n",
       "    </tr>\n",
       "  </tbody>\n",
       "</table>\n",
       "</div>"
      ],
      "text/plain": [
       "                    celular\n",
       "est_socio yes_no           \n",
       "1         1       73.311367\n",
       "          2       26.688633\n",
       "2         1       88.953009\n",
       "          2       11.046991\n",
       "3         1       93.968692\n",
       "          2        6.031308\n",
       "4         1       96.875000\n",
       "          2        3.125000"
      ]
     },
     "execution_count": 15,
     "metadata": {},
     "output_type": "execute_result"
    }
   ],
   "source": [
    "# Show results\n",
    "pcts"
   ]
  },
  {
   "cell_type": "code",
   "execution_count": 16,
   "metadata": {},
   "outputs": [],
   "source": [
    "# Calculate the percentages of the field computador\n",
    "comp = graph_df.groupby(['est_socio', 'yes_no']).agg({'internet': 'sum'})\n",
    "# Change: groupby and divide by sum\n",
    "pcts = comp.groupby(level=0).apply(lambda x:100 * x / float(x.sum()))"
   ]
  },
  {
   "cell_type": "code",
   "execution_count": 17,
   "metadata": {
    "collapsed": true
   },
   "outputs": [
    {
     "data": {
      "text/html": [
       "<div>\n",
       "<style scoped>\n",
       "    .dataframe tbody tr th:only-of-type {\n",
       "        vertical-align: middle;\n",
       "    }\n",
       "\n",
       "    .dataframe tbody tr th {\n",
       "        vertical-align: top;\n",
       "    }\n",
       "\n",
       "    .dataframe thead th {\n",
       "        text-align: right;\n",
       "    }\n",
       "</style>\n",
       "<table border=\"1\" class=\"dataframe\">\n",
       "  <thead>\n",
       "    <tr style=\"text-align: right;\">\n",
       "      <th></th>\n",
       "      <th></th>\n",
       "      <th>internet</th>\n",
       "    </tr>\n",
       "    <tr>\n",
       "      <th>est_socio</th>\n",
       "      <th>yes_no</th>\n",
       "      <th></th>\n",
       "    </tr>\n",
       "  </thead>\n",
       "  <tbody>\n",
       "    <tr>\n",
       "      <th rowspan=\"2\" valign=\"top\">1</th>\n",
       "      <th>1</th>\n",
       "      <td>7.303679</td>\n",
       "    </tr>\n",
       "    <tr>\n",
       "      <th>2</th>\n",
       "      <td>92.696321</td>\n",
       "    </tr>\n",
       "    <tr>\n",
       "      <th rowspan=\"2\" valign=\"top\">2</th>\n",
       "      <th>1</th>\n",
       "      <td>38.128607</td>\n",
       "    </tr>\n",
       "    <tr>\n",
       "      <th>2</th>\n",
       "      <td>61.871393</td>\n",
       "    </tr>\n",
       "    <tr>\n",
       "      <th rowspan=\"2\" valign=\"top\">3</th>\n",
       "      <th>1</th>\n",
       "      <td>69.567219</td>\n",
       "    </tr>\n",
       "    <tr>\n",
       "      <th>2</th>\n",
       "      <td>30.432781</td>\n",
       "    </tr>\n",
       "    <tr>\n",
       "      <th rowspan=\"2\" valign=\"top\">4</th>\n",
       "      <th>1</th>\n",
       "      <td>81.738281</td>\n",
       "    </tr>\n",
       "    <tr>\n",
       "      <th>2</th>\n",
       "      <td>18.261719</td>\n",
       "    </tr>\n",
       "  </tbody>\n",
       "</table>\n",
       "</div>"
      ],
      "text/plain": [
       "                   internet\n",
       "est_socio yes_no           \n",
       "1         1        7.303679\n",
       "          2       92.696321\n",
       "2         1       38.128607\n",
       "          2       61.871393\n",
       "3         1       69.567219\n",
       "          2       30.432781\n",
       "4         1       81.738281\n",
       "          2       18.261719"
      ]
     },
     "execution_count": 17,
     "metadata": {},
     "output_type": "execute_result"
    }
   ],
   "source": [
    "# Show results\n",
    "pcts"
   ]
  },
  {
   "cell_type": "code",
   "execution_count": 18,
   "metadata": {},
   "outputs": [],
   "source": [
    "# Calculate the percentages of the field computador\n",
    "comp = graph_df.groupby(['est_socio', 'yes_no']).agg({'tv_paga': 'sum'})\n",
    "# Change: groupby and divide by sum\n",
    "pcts = comp.groupby(level=0).apply(lambda x:100 * x / float(x.sum()))"
   ]
  },
  {
   "cell_type": "code",
   "execution_count": 19,
   "metadata": {
    "collapsed": true
   },
   "outputs": [
    {
     "data": {
      "text/html": [
       "<div>\n",
       "<style scoped>\n",
       "    .dataframe tbody tr th:only-of-type {\n",
       "        vertical-align: middle;\n",
       "    }\n",
       "\n",
       "    .dataframe tbody tr th {\n",
       "        vertical-align: top;\n",
       "    }\n",
       "\n",
       "    .dataframe thead th {\n",
       "        text-align: right;\n",
       "    }\n",
       "</style>\n",
       "<table border=\"1\" class=\"dataframe\">\n",
       "  <thead>\n",
       "    <tr style=\"text-align: right;\">\n",
       "      <th></th>\n",
       "      <th></th>\n",
       "      <th>tv_paga</th>\n",
       "    </tr>\n",
       "    <tr>\n",
       "      <th>est_socio</th>\n",
       "      <th>yes_no</th>\n",
       "      <th></th>\n",
       "    </tr>\n",
       "  </thead>\n",
       "  <tbody>\n",
       "    <tr>\n",
       "      <th rowspan=\"2\" valign=\"top\">1</th>\n",
       "      <th>1</th>\n",
       "      <td>29.324547</td>\n",
       "    </tr>\n",
       "    <tr>\n",
       "      <th>2</th>\n",
       "      <td>70.675453</td>\n",
       "    </tr>\n",
       "    <tr>\n",
       "      <th rowspan=\"2\" valign=\"top\">2</th>\n",
       "      <th>1</th>\n",
       "      <td>43.116241</td>\n",
       "    </tr>\n",
       "    <tr>\n",
       "      <th>2</th>\n",
       "      <td>56.883759</td>\n",
       "    </tr>\n",
       "    <tr>\n",
       "      <th rowspan=\"2\" valign=\"top\">3</th>\n",
       "      <th>1</th>\n",
       "      <td>56.537753</td>\n",
       "    </tr>\n",
       "    <tr>\n",
       "      <th>2</th>\n",
       "      <td>43.462247</td>\n",
       "    </tr>\n",
       "    <tr>\n",
       "      <th rowspan=\"2\" valign=\"top\">4</th>\n",
       "      <th>1</th>\n",
       "      <td>71.777344</td>\n",
       "    </tr>\n",
       "    <tr>\n",
       "      <th>2</th>\n",
       "      <td>28.222656</td>\n",
       "    </tr>\n",
       "  </tbody>\n",
       "</table>\n",
       "</div>"
      ],
      "text/plain": [
       "                    tv_paga\n",
       "est_socio yes_no           \n",
       "1         1       29.324547\n",
       "          2       70.675453\n",
       "2         1       43.116241\n",
       "          2       56.883759\n",
       "3         1       56.537753\n",
       "          2       43.462247\n",
       "4         1       71.777344\n",
       "          2       28.222656"
      ]
     },
     "execution_count": 19,
     "metadata": {},
     "output_type": "execute_result"
    }
   ],
   "source": [
    "# Show results\n",
    "pcts"
   ]
  },
  {
   "cell_type": "markdown",
   "metadata": {},
   "source": [
    "### Variables chosen for the project:\n",
    "-\ttipo_viv: Tipo de vivienda C (1)\n",
    "-\tnum_cuarto: Número de cuartos N (2)\n",
    "-\tdisp_agua: Disponibilidad de agua C (1)\n",
    "-\texcusado: Tiene excusado C (1)\n",
    "-\tdrenaje: Destino de drenaje C (1)\n",
    "-\tdisp_elect: Disponibilidad eléctrica C (1)\n",
    "-\ttanque_gas: Dispone de tanque de gas\n",
    "-\testacionario C (1)\n",
    "-\ttenencia: Tipo de tenencia de la vivienda C (1)\n",
    "-\tpago_renta: Pago de renta de vivienda N (5)\n",
    "-\tanio_res: Años residiendo en la vivienda N (2)\n",
    "-\tcomputador: Disponibilidad de computadora C (1)\n",
    "-\ttel_fijo: Disponibilidad de línea telefónica fija C (1)\n",
    "-\tcelular: Disponibilidad de teléfono celular C (1)\n",
    "-\tinternet: Disponibilidad de internet C (1)\n",
    "-\ttv_paga: Disponibilidad de servicio de\n",
    "-\ttelevisión de paga C (1)\n",
    "-\tauto_pick: Disponibilidad de automóvil propio C (1)\n",
    "-\ttot_hog: Total de hogares en la vivienda N (2)"
   ]
  },
  {
   "cell_type": "code",
   "execution_count": 38,
   "metadata": {
    "collapsed": true
   },
   "outputs": [
    {
     "data": {
      "text/plain": [
       "state  tipo_viv\n",
       "9      1           1184\n",
       "       2            550\n",
       "       3             33\n",
       "       4              5\n",
       "       &              4\n",
       "13     1           1671\n",
       "       2             42\n",
       "       3              6\n",
       "       &              2\n",
       "15     1           1678\n",
       "       2             97\n",
       "       3             52\n",
       "       &              1\n",
       "17     1           1511\n",
       "       2             93\n",
       "       3             22\n",
       "       &              5\n",
       "       5              1\n",
       "21     1           1543\n",
       "       2            104\n",
       "       3             46\n",
       "       &              2\n",
       "       4              2\n",
       "22     1           1734\n",
       "       2             76\n",
       "       3             16\n",
       "       &              4\n",
       "29     1           1727\n",
       "       2             79\n",
       "       5              3\n",
       "       3              2\n",
       "Name: tipo_viv, dtype: int64"
      ]
     },
     "execution_count": 38,
     "metadata": {},
     "output_type": "execute_result"
    }
   ],
   "source": [
    "# APARTADO A. RESIDENTES E IDENTIFICACIÓN DE HOGARES EN LA VIVIENDA\n",
    "# 1. Esta vivienda es:  1 Casa independiente  2 Departamento en condominio vertical\n",
    "# 3 Vivienda en vecindad 4 Vivienda en cuarto de azotea 5 Local no construido para habitación\n",
    "\n",
    "viv_mega_df.groupby('state')['tipo_viv'].value_counts()"
   ]
  },
  {
   "cell_type": "code",
   "execution_count": 40,
   "metadata": {
    "collapsed": true
   },
   "outputs": [
    {
     "data": {
      "text/plain": [
       "state  num_cuarto\n",
       "9      4             503\n",
       "       5             364\n",
       "       3             347\n",
       "       6             168\n",
       "       2             162\n",
       "       1             102\n",
       "       7              67\n",
       "       8              25\n",
       "       9              19\n",
       "       10             11\n",
       "       11              4\n",
       "       12              3\n",
       "       15              1\n",
       "13     4             478\n",
       "       5             349\n",
       "       3             348\n",
       "       2             201\n",
       "       6             155\n",
       "       7              65\n",
       "       1              64\n",
       "       8              33\n",
       "       9              14\n",
       "       10             10\n",
       "       11              1\n",
       "       12              1\n",
       "       13              1\n",
       "       14              1\n",
       "15     4             465\n",
       "       3             341\n",
       "       5             338\n",
       "                    ... \n",
       "21     8              27\n",
       "       9               7\n",
       "       10              7\n",
       "       11              2\n",
       "       12              1\n",
       "22     4             486\n",
       "       3             377\n",
       "       5             354\n",
       "       2             197\n",
       "       6             192\n",
       "       7              77\n",
       "       1              73\n",
       "       8              42\n",
       "       10             15\n",
       "       9              12\n",
       "       11              2\n",
       "       12              2\n",
       "       13              1\n",
       "29     4             490\n",
       "       3             405\n",
       "       5             310\n",
       "       2             213\n",
       "       6             175\n",
       "       1              84\n",
       "       7              71\n",
       "       8              40\n",
       "       10             11\n",
       "       9               6\n",
       "       11              4\n",
       "       12              2\n",
       "Name: num_cuarto, Length: 87, dtype: int64"
      ]
     },
     "execution_count": 40,
     "metadata": {},
     "output_type": "execute_result"
    }
   ],
   "source": [
    "# APARTADO A. RESIDENTES E IDENTIFICACIÓN DE HOGARES EN LA VIVIENDA\n",
    "#¿Cuántos cuartos tiene en total esta vivienda, contando la cocina? \n",
    "#(No cuente pasillos ni baños) ANOTE EL NÚMERO\n",
    "\n",
    "viv_mega_df.groupby('state')['num_cuarto'].value_counts()"
   ]
  },
  {
   "cell_type": "code",
   "execution_count": 41,
   "metadata": {
    "collapsed": true
   },
   "outputs": [
    {
     "data": {
      "text/plain": [
       "state  disp_agua\n",
       "9      1            1561\n",
       "       2             197\n",
       "       5              13\n",
       "       3               4\n",
       "       4               1\n",
       "13     1            1079\n",
       "       2             505\n",
       "       6              61\n",
       "       5              47\n",
       "       4              27\n",
       "       3               2\n",
       "15     1            1265\n",
       "       2             500\n",
       "       5              37\n",
       "       4              19\n",
       "       6               7\n",
       "17     1            1098\n",
       "       2             432\n",
       "       5              42\n",
       "       6              32\n",
       "       4              24\n",
       "       3               4\n",
       "21     1             967\n",
       "       2             630\n",
       "       6              45\n",
       "       5              33\n",
       "       4              19\n",
       "       3               3\n",
       "22     1            1363\n",
       "       2             394\n",
       "       4              37\n",
       "       5              23\n",
       "       6              10\n",
       "       3               3\n",
       "29     1            1158\n",
       "       2             604\n",
       "       6              26\n",
       "       4              22\n",
       "       5               1\n",
       "Name: disp_agua, dtype: int64"
      ]
     },
     "execution_count": 41,
     "metadata": {},
     "output_type": "execute_result"
    }
   ],
   "source": [
    "#¿En esta vivienda tienen... 1. agua entubada dentro de la vivienda?. 2.agua entubada fuera de la vivienda, pero dentro del terreno?\n",
    "#3.agua entubada de llave pública (o hidrante)? 4. agua entubada que acarrean de otra vivienda?\n",
    "#5.agua de pipa? 6. agua de un pozo, río, lago, arroyo u otra?\n",
    "viv_mega_df.groupby('state')['disp_agua'].value_counts()"
   ]
  },
  {
   "cell_type": "code",
   "execution_count": 42,
   "metadata": {
    "collapsed": true
   },
   "outputs": [
    {
     "data": {
      "text/plain": [
       "state  excusado\n",
       "9      1           1771\n",
       "       2              5\n",
       "13     1           1626\n",
       "       2             95\n",
       "15     1           1799\n",
       "       2             29\n",
       "17     1           1615\n",
       "       2             17\n",
       "21     1           1659\n",
       "       2             38\n",
       "22     1           1744\n",
       "       2             86\n",
       "29     1           1718\n",
       "       2             93\n",
       "Name: excusado, dtype: int64"
      ]
     },
     "execution_count": 42,
     "metadata": {},
     "output_type": "execute_result"
    }
   ],
   "source": [
    "# 12. ¿Tienen excusado, retrete, sanitario, letrina u hoyo negro? 1.SI 2.NO\n",
    "viv_mega_df.groupby('state')['excusado'].value_counts()"
   ]
  },
  {
   "cell_type": "code",
   "execution_count": 43,
   "metadata": {
    "collapsed": true
   },
   "outputs": [
    {
     "data": {
      "text/plain": [
       "state  drenaje\n",
       "9      1          1658\n",
       "       2           100\n",
       "       3            16\n",
       "       5             2\n",
       "13     1          1153\n",
       "       2           447\n",
       "       5            92\n",
       "       3            16\n",
       "       4            13\n",
       "15     1          1589\n",
       "       2           174\n",
       "       5            31\n",
       "       3            26\n",
       "       4             8\n",
       "17     1          1068\n",
       "       2           524\n",
       "       3            21\n",
       "       5            16\n",
       "       4             3\n",
       "21     1          1325\n",
       "       2           301\n",
       "       5            59\n",
       "       3            11\n",
       "       4             1\n",
       "22     1          1503\n",
       "       2           234\n",
       "       5            82\n",
       "       3            11\n",
       "29     1          1664\n",
       "       5            58\n",
       "       2            53\n",
       "       3            32\n",
       "       4             4\n",
       "Name: drenaje, dtype: int64"
      ]
     },
     "execution_count": 43,
     "metadata": {},
     "output_type": "execute_result"
    }
   ],
   "source": [
    "#16 ¿Esta vivienda tiene drenaje o desagüe conectado a... 1. la red pública? 2. una fosa séptica?\n",
    "# 3.una tubería que va a dar a una barranca o grieta? 4. una tubería que va a dar a un río, lago o mar?.\n",
    "# 5.¿No tiene drenaje?\n",
    "viv_mega_df.groupby('state')['drenaje'].value_counts()"
   ]
  },
  {
   "cell_type": "code",
   "execution_count": 44,
   "metadata": {
    "collapsed": true
   },
   "outputs": [
    {
     "data": {
      "text/plain": [
       "state  disp_elect\n",
       "9      1             1776\n",
       "13     1             1711\n",
       "       5                9\n",
       "       4                1\n",
       "15     1             1826\n",
       "       3                1\n",
       "       5                1\n",
       "17     1             1629\n",
       "       4                2\n",
       "       3                1\n",
       "21     1             1689\n",
       "       5                7\n",
       "       4                1\n",
       "22     1             1819\n",
       "       5                7\n",
       "       3                4\n",
       "29     1             1806\n",
       "       5                4\n",
       "       2                1\n",
       "Name: disp_elect, dtype: int64"
      ]
     },
     "execution_count": 44,
     "metadata": {},
     "output_type": "execute_result"
    }
   ],
   "source": [
    "#17. ¿En esta vivienda, la luz eléctrica la obtienen... 1. del servicio público? 2. de una planta particular?\n",
    "# 3. de panel solar? 4.de otra fuente? 5.¿No tiene luz eléctrica?\n",
    "viv_mega_df.groupby('state')['disp_elect'].value_counts()"
   ]
  },
  {
   "cell_type": "code",
   "execution_count": 45,
   "metadata": {
    "collapsed": true
   },
   "outputs": [
    {
     "data": {
      "text/plain": [
       "state  tanque_gas\n",
       "9      2             1246\n",
       "       1              530\n",
       "13     2             1447\n",
       "       1              274\n",
       "15     2             1468\n",
       "       1              360\n",
       "17     2             1452\n",
       "       1              180\n",
       "21     2             1473\n",
       "       1              224\n",
       "22     2             1595\n",
       "       1              235\n",
       "29     2             1513\n",
       "       1              298\n",
       "Name: tanque_gas, dtype: int64"
      ]
     },
     "execution_count": 45,
     "metadata": {},
     "output_type": "execute_result"
    }
   ],
   "source": [
    "#22. ¿Esta vivienda tiene...\n",
    "#tanque de gas estacionario? 1.SI 2.NO\n",
    "viv_mega_df.groupby('state')['tanque_gas'].value_counts()"
   ]
  },
  {
   "cell_type": "code",
   "execution_count": 46,
   "metadata": {
    "collapsed": true
   },
   "outputs": [
    {
     "data": {
      "text/plain": [
       "state  tenencia\n",
       "9      4            776\n",
       "       1            400\n",
       "       2            370\n",
       "       3            117\n",
       "       5            102\n",
       "       6             11\n",
       "13     4           1074\n",
       "       2            289\n",
       "       1            138\n",
       "       3             96\n",
       "       5             63\n",
       "       6             61\n",
       "15     4           1047\n",
       "       2            340\n",
       "       1            266\n",
       "       3            120\n",
       "       5             49\n",
       "       6              6\n",
       "17     4            870\n",
       "       2            389\n",
       "       1            221\n",
       "       5             83\n",
       "       3             61\n",
       "       6              8\n",
       "21     4            846\n",
       "       2            400\n",
       "       1            216\n",
       "       3            109\n",
       "       5            109\n",
       "       6             17\n",
       "22     4            875\n",
       "       2            377\n",
       "       1            282\n",
       "       3            158\n",
       "       5             97\n",
       "       6             41\n",
       "29     4           1217\n",
       "       2            256\n",
       "       1            169\n",
       "       3            126\n",
       "       5             43\n",
       "Name: tenencia, dtype: int64"
      ]
     },
     "execution_count": 46,
     "metadata": {},
     "output_type": "execute_result"
    }
   ],
   "source": [
    "# APARTADO D. CARACTERÍSTICAS DE LA VIVIENDA (Sólo para el hogar principal)\n",
    "# 28. ¿Esta vivienda...1 es rentada?   2 es prestada?   3 es propia pero la están pagando?\n",
    "# 4 es propia?   5 está intestada o en litigio?   6 ¿Otra situación?\n",
    "viv_mega_df.groupby('state')['tenencia'].value_counts()"
   ]
  },
  {
   "cell_type": "code",
   "execution_count": 60,
   "metadata": {
    "scrolled": true
   },
   "outputs": [],
   "source": [
    "# APARTADO D. CARACTERÍSTICAS DE LA VIVIENDA (Sólo para el hogar principal)\n",
    "# 29. ¿Cuánto se paga mensualmente por la renta de esta vivienda?\n",
    "# Create a new data frame with less columns to make bins\n",
    "renta_mega = viv_mega_df.loc[:, [\"folioviv\", \"state\", \"pago_renta\"]]\n",
    "renta_mega['renta'] = renta_mega['pago_renta'].str.strip()\n",
    "renta_mega['renta'] = renta_mega['renta'].apply(pd.to_numeric, args=('coerce',))"
   ]
  },
  {
   "cell_type": "code",
   "execution_count": 62,
   "metadata": {
    "collapsed": true
   },
   "outputs": [
    {
     "data": {
      "text/plain": [
       "state  gpo_renta  \n",
       "9      1000-5000      270\n",
       "       5000-7500       43\n",
       "       <1000           31\n",
       "       10000-20000     26\n",
       "       7500-10000      19\n",
       "       >20000           6\n",
       "13     1000-5000       87\n",
       "       <1000           49\n",
       "       5000-7500        1\n",
       "       7500-10000       1\n",
       "15     1000-5000      189\n",
       "       <1000           66\n",
       "       5000-7500        5\n",
       "       7500-10000       4\n",
       "       10000-20000      2\n",
       "17     1000-5000      140\n",
       "       <1000           75\n",
       "       5000-7500        3\n",
       "       7500-10000       2\n",
       "       10000-20000      1\n",
       "21     1000-5000      136\n",
       "       <1000           70\n",
       "       5000-7500        6\n",
       "       10000-20000      2\n",
       "       7500-10000       2\n",
       "22     1000-5000      197\n",
       "       <1000           35\n",
       "       5000-7500       25\n",
       "       7500-10000      15\n",
       "       10000-20000     10\n",
       "29     <1000           86\n",
       "       1000-5000       82\n",
       "       7500-10000       1\n",
       "Name: gpo_renta, dtype: int64"
      ]
     },
     "execution_count": 62,
     "metadata": {},
     "output_type": "execute_result"
    }
   ],
   "source": [
    "# 29. ¿Cuánto se paga mensualmente por la renta de esta vivienda?\n",
    "# Define the bins to group the data by range\n",
    "bins = [0, 1000, 5000, 7500, 10000, 20000, 30000]\n",
    "\n",
    "# Create the names for the bins\n",
    "group_names = [\"<1000\", \"1000-5000\", \"5000-7500\", \"7500-10000\", \"10000-20000\", \">20000\"]\n",
    "\n",
    "# Create df with the bins\n",
    "renta_mega[\"gpo_renta\"] = pd.cut(renta_mega['renta'], bins, labels=group_names)\n",
    "\n",
    "renta_mega.groupby('state')['gpo_renta'].value_counts()"
   ]
  },
  {
   "cell_type": "code",
   "execution_count": 47,
   "metadata": {
    "collapsed": true
   },
   "outputs": [
    {
     "data": {
      "text/plain": [
       "state  anio_res\n",
       "9                  1376\n",
       "       0             68\n",
       "       1             60\n",
       "       3             47\n",
       "       2             44\n",
       "       5             35\n",
       "       4             24\n",
       "       10            20\n",
       "       15            16\n",
       "       7             12\n",
       "       6             10\n",
       "       8             10\n",
       "       30             7\n",
       "       16             5\n",
       "       17             5\n",
       "       20             5\n",
       "       12             4\n",
       "       13             3\n",
       "       19             3\n",
       "       25             3\n",
       "       9              3\n",
       "       14             2\n",
       "       32             2\n",
       "       35             2\n",
       "       40             2\n",
       "       47             2\n",
       "       18             1\n",
       "       27             1\n",
       "       28             1\n",
       "       29             1\n",
       "                   ... \n",
       "22     4             16\n",
       "       5             16\n",
       "       6             12\n",
       "       8              9\n",
       "       7              5\n",
       "       10             2\n",
       "       9              2\n",
       "       12             1\n",
       "       14             1\n",
       "       16             1\n",
       "       17             1\n",
       "       18             1\n",
       "       28             1\n",
       "29                 1642\n",
       "       0             46\n",
       "       1             31\n",
       "       2             23\n",
       "       3             17\n",
       "       5             15\n",
       "       4             12\n",
       "       6              5\n",
       "       7              5\n",
       "       11             3\n",
       "       8              3\n",
       "       10             2\n",
       "       12             2\n",
       "       13             2\n",
       "       15             1\n",
       "       37             1\n",
       "       9              1\n",
       "Name: anio_res, Length: 148, dtype: int64"
      ]
     },
     "execution_count": 47,
     "metadata": {},
     "output_type": "execute_result"
    }
   ],
   "source": [
    "#¿Por cuánto tiempo ha rentado esta vivienda? \n",
    "viv_mega_df.groupby('state')['anio_res'].value_counts()"
   ]
  },
  {
   "cell_type": "code",
   "execution_count": 48,
   "metadata": {
    "collapsed": true
   },
   "outputs": [
    {
     "data": {
      "text/plain": [
       "state  computador\n",
       "9      1              970\n",
       "       2              806\n",
       "13     2             1232\n",
       "       1              489\n",
       "15     2             1178\n",
       "       1              650\n",
       "17     2             1087\n",
       "       1              545\n",
       "21     2             1198\n",
       "       1              499\n",
       "22     2             1065\n",
       "       1              765\n",
       "29     2             1300\n",
       "       1              511\n",
       "Name: computador, dtype: int64"
      ]
     },
     "execution_count": 48,
     "metadata": {},
     "output_type": "execute_result"
    }
   ],
   "source": [
    "#¿En esta vivienda tienen...   1 SI    2  NO\n",
    "viv_mega_df.groupby('state')['computador'].value_counts()"
   ]
  },
  {
   "cell_type": "code",
   "execution_count": 49,
   "metadata": {
    "collapsed": true
   },
   "outputs": [
    {
     "data": {
      "text/plain": [
       "state  tel_fijo\n",
       "9      1           1226\n",
       "       2            550\n",
       "13     2           1301\n",
       "       1            420\n",
       "15     2            986\n",
       "       1            842\n",
       "17     2            889\n",
       "       1            743\n",
       "21     2           1182\n",
       "       1            515\n",
       "22     2           1159\n",
       "       1            671\n",
       "29     2           1344\n",
       "       1            467\n",
       "Name: tel_fijo, dtype: int64"
      ]
     },
     "execution_count": 49,
     "metadata": {},
     "output_type": "execute_result"
    }
   ],
   "source": [
    "#¿En esta vivienda tienen...\n",
    "viv_mega_df.groupby('state')['tel_fijo'].value_counts()"
   ]
  },
  {
   "cell_type": "code",
   "execution_count": 50,
   "metadata": {
    "collapsed": true
   },
   "outputs": [
    {
     "data": {
      "text/plain": [
       "state  celular\n",
       "9      1          1643\n",
       "       2           133\n",
       "13     1          1424\n",
       "       2           297\n",
       "15     1          1668\n",
       "       2           160\n",
       "17     1          1435\n",
       "       2           197\n",
       "21     1          1391\n",
       "       2           306\n",
       "22     1          1668\n",
       "       2           162\n",
       "29     1          1613\n",
       "       2           198\n",
       "Name: celular, dtype: int64"
      ]
     },
     "execution_count": 50,
     "metadata": {},
     "output_type": "execute_result"
    }
   ],
   "source": [
    "#¿En esta vivienda tienen...\n",
    "viv_mega_df.groupby('state')['celular'].value_counts()"
   ]
  },
  {
   "cell_type": "code",
   "execution_count": 51,
   "metadata": {
    "collapsed": true
   },
   "outputs": [
    {
     "data": {
      "text/plain": [
       "state  internet\n",
       "9      1           1281\n",
       "       2            495\n",
       "13     2           1257\n",
       "       1            464\n",
       "15     2           1011\n",
       "       1            817\n",
       "17     2            868\n",
       "       1            764\n",
       "21     2           1145\n",
       "       1            552\n",
       "22     2            953\n",
       "       1            877\n",
       "29     2           1310\n",
       "       1            501\n",
       "Name: internet, dtype: int64"
      ]
     },
     "execution_count": 51,
     "metadata": {},
     "output_type": "execute_result"
    }
   ],
   "source": [
    "#¿En esta vivienda tienen...\n",
    "viv_mega_df.groupby('state')['internet'].value_counts()"
   ]
  },
  {
   "cell_type": "code",
   "execution_count": 52,
   "metadata": {
    "collapsed": true
   },
   "outputs": [
    {
     "data": {
      "text/plain": [
       "state  tv_paga\n",
       "9      2           964\n",
       "       1           812\n",
       "13     2           872\n",
       "       1           849\n",
       "15     2          1172\n",
       "       1           656\n",
       "17     2           909\n",
       "       1           723\n",
       "21     2          1049\n",
       "       1           648\n",
       "22     1          1082\n",
       "       2           748\n",
       "29     2           946\n",
       "       1           865\n",
       "Name: tv_paga, dtype: int64"
      ]
     },
     "execution_count": 52,
     "metadata": {},
     "output_type": "execute_result"
    }
   ],
   "source": [
    "#¿En esta vivienda tienen...\n",
    "viv_mega_df.groupby('state')['tv_paga'].value_counts()"
   ]
  },
  {
   "cell_type": "code",
   "execution_count": 53,
   "metadata": {
    "collapsed": true
   },
   "outputs": [
    {
     "data": {
      "text/plain": [
       "state  auto_pick\n",
       "9      2             992\n",
       "       1             784\n",
       "13     2            1082\n",
       "       1             639\n",
       "15     2            1116\n",
       "       1             712\n",
       "17     2            1002\n",
       "       1             630\n",
       "21     2            1144\n",
       "       1             553\n",
       "22     1             979\n",
       "       2             851\n",
       "29     2            1167\n",
       "       1             644\n",
       "Name: auto_pick, dtype: int64"
      ]
     },
     "execution_count": 53,
     "metadata": {},
     "output_type": "execute_result"
    }
   ],
   "source": [
    "#¿En esta vivienda tienen...\n",
    "viv_mega_df.groupby('state')['auto_pick'].value_counts()"
   ]
  },
  {
   "cell_type": "code",
   "execution_count": 54,
   "metadata": {
    "collapsed": true
   },
   "outputs": [
    {
     "data": {
      "text/plain": [
       "state  tot_hog\n",
       "9      1          1765\n",
       "       2             8\n",
       "       3             3\n",
       "13     1          1692\n",
       "       2            23\n",
       "       3             3\n",
       "       4             3\n",
       "15     1          1806\n",
       "       2            19\n",
       "       3             3\n",
       "17     1          1620\n",
       "       2            10\n",
       "       3             2\n",
       "21     1          1670\n",
       "       2            26\n",
       "       3             1\n",
       "22     1          1799\n",
       "       2            23\n",
       "       3             6\n",
       "       4             2\n",
       "29     1          1786\n",
       "       2            22\n",
       "       3             3\n",
       "Name: tot_hog, dtype: int64"
      ]
     },
     "execution_count": 54,
     "metadata": {},
     "output_type": "execute_result"
    }
   ],
   "source": [
    "#¿Cuántos hogares o grupos de personas tienen gasto separado para comer contando el de usted?\n",
    "viv_mega_df.groupby('state')['tot_hog'].value_counts()"
   ]
  },
  {
   "cell_type": "code",
   "execution_count": 55,
   "metadata": {
    "collapsed": true
   },
   "outputs": [
    {
     "data": {
      "text/plain": [
       "state  tam_loc\n",
       "9      1          1713\n",
       "       2            31\n",
       "       4            18\n",
       "       3            14\n",
       "13     4           827\n",
       "       3           388\n",
       "       2           276\n",
       "       1           230\n",
       "15     1          1119\n",
       "       3           279\n",
       "       4           222\n",
       "       2           208\n",
       "17     1           587\n",
       "       3           408\n",
       "       2           364\n",
       "       4           273\n",
       "21     1           517\n",
       "       4           474\n",
       "       3           383\n",
       "       2           323\n",
       "22     1           786\n",
       "       4           526\n",
       "       3           370\n",
       "       2           148\n",
       "29     3           824\n",
       "       2           627\n",
       "       4           360\n",
       "Name: tam_loc, dtype: int64"
      ]
     },
     "execution_count": 55,
     "metadata": {},
     "output_type": "execute_result"
    }
   ],
   "source": [
    "# Tamaño de localidad\n",
    "# 1 Localidades con 100 000 y más habitantes  2 Localidades con 15 000 a 99 999 habitantes\n",
    "# 3 Localidades con 2 500 a 14 999 habitantes  4 Localidades con menos de 2 500 habitantes\n",
    "viv_mega_df.groupby('state')['tam_loc'].value_counts()"
   ]
  },
  {
   "cell_type": "code",
   "execution_count": 56,
   "metadata": {
    "collapsed": true
   },
   "outputs": [
    {
     "data": {
      "text/plain": [
       "state  est_socio\n",
       "9      3             795\n",
       "       2             728\n",
       "       4             248\n",
       "       1               5\n",
       "13     2            1081\n",
       "       1             461\n",
       "       3              99\n",
       "       4              80\n",
       "15     2            1170\n",
       "       3             303\n",
       "       4             191\n",
       "       1             164\n",
       "17     2            1136\n",
       "       3             238\n",
       "       1             198\n",
       "       4              60\n",
       "21     2             812\n",
       "       1             576\n",
       "       3             219\n",
       "       4              90\n",
       "22     2             830\n",
       "       3             390\n",
       "       1             328\n",
       "       4             282\n",
       "29     2            1521\n",
       "       3             128\n",
       "       1              89\n",
       "       4              73\n",
       "Name: est_socio, dtype: int64"
      ]
     },
     "execution_count": 56,
     "metadata": {},
     "output_type": "execute_result"
    }
   ],
   "source": [
    "# Estrato socioeconómico   1 Bajo   2 Medio bajo    3 Medio alto   4 Alto\n",
    "viv_mega_df.groupby('state')['est_socio'].value_counts()"
   ]
  },
  {
   "cell_type": "markdown",
   "metadata": {},
   "source": [
    "## Persona file"
   ]
  },
  {
   "cell_type": "code",
   "execution_count": 63,
   "metadata": {
    "collapsed": true
   },
   "outputs": [
    {
     "name": "stdout",
     "output_type": "stream",
     "text": [
      "<class 'pandas.core.frame.DataFrame'>\n",
      "Int64Index: 46157 entries, 50355 to 188564\n",
      "Data columns (total 58 columns):\n",
      "folioviv      46157 non-null int64\n",
      "foliohog      46157 non-null int64\n",
      "id_pobla      46157 non-null int64\n",
      "edad          46157 non-null int64\n",
      "nacio_dia     46157 non-null object\n",
      "nacio_mes     46157 non-null object\n",
      "sexo          46157 non-null int64\n",
      "parentesco    46157 non-null int64\n",
      "asiste_esc    46157 non-null object\n",
      "tipo_esc      46157 non-null object\n",
      "turno_esc     46157 non-null object\n",
      "tiene_beca    46157 non-null object\n",
      "otorg_beca    46157 non-null object\n",
      "forma_beca    46157 non-null object\n",
      "no_asiste     46157 non-null object\n",
      "grado_inst    46157 non-null object\n",
      "nivel_inst    46157 non-null object\n",
      "residencia    46157 non-null object\n",
      "alfabetism    46157 non-null object\n",
      "edo_conyug    46157 non-null object\n",
      "trabajo_sp    46157 non-null object\n",
      "motivo_aus    46157 non-null object\n",
      "act_buscot    46157 non-null object\n",
      "act_pensio    46157 non-null object\n",
      "act_quehac    46157 non-null object\n",
      "act_estudi    46157 non-null object\n",
      "act_discap    46157 non-null object\n",
      "act_otra      46157 non-null object\n",
      "num_trabaj    46157 non-null object\n",
      "subor         46157 non-null object\n",
      "indep         46157 non-null object\n",
      "personal      46157 non-null object\n",
      "pago          46157 non-null object\n",
      "contrato      46157 non-null object\n",
      "lentes        46157 non-null object\n",
      "dif_ver       46157 non-null object\n",
      "a_auditivo    46157 non-null object\n",
      "dif_oir       46157 non-null object\n",
      "sin_ruido     46157 non-null object\n",
      "con_ruido     46157 non-null object\n",
      "dif_camina    46157 non-null object\n",
      "usa_aparat    46157 non-null object\n",
      "ap_caminar    46157 non-null object\n",
      "cam_100mts    46157 non-null object\n",
      "cam_500mts    46157 non-null object\n",
      "sube_12esc    46157 non-null object\n",
      "dif_record    46157 non-null object\n",
      "frec_nerv     46157 non-null object\n",
      "med_nerv      46157 non-null object\n",
      "inte_nerv     46157 non-null object\n",
      "frec_depre    46157 non-null object\n",
      "med_depre     46157 non-null object\n",
      "inte_depre    46157 non-null object\n",
      "frec_dolor    46157 non-null object\n",
      "inte_dolor    46157 non-null object\n",
      "frec_cansa    46157 non-null object\n",
      "tiem_cansa    46157 non-null object\n",
      "inte_cansa    46157 non-null object\n",
      "dtypes: int64(6), object(52)\n",
      "memory usage: 20.8+ MB\n"
     ]
    }
   ],
   "source": [
    "# Only Megalopolis data from the persona file\n",
    "# folioviv begins with 9 for Ciudad de México  13 Hidalgo  15 México  17 Morelos  21 Puebla  22 Querétaro  29 Tlaxcala\n",
    "per_mega_df = persona_df.loc[\n",
    "    (persona_df[\"folioviv\"] > 899999999) & (persona_df[\"folioviv\"] < 1000000000) |\n",
    "    (persona_df[\"folioviv\"] > 1299999999) & (persona_df[\"folioviv\"] < 1400000000) |\n",
    "    (persona_df[\"folioviv\"] > 1499999999) & (persona_df[\"folioviv\"] < 1600000000) |\n",
    "    (persona_df[\"folioviv\"] > 1699999999) & (persona_df[\"folioviv\"] < 1800000000) |\n",
    "    (persona_df[\"folioviv\"] > 2099999999) & (persona_df[\"folioviv\"] < 2300000000) |\n",
    "    (persona_df[\"folioviv\"] > 2899999999) & (persona_df[\"folioviv\"] < 3000000000), :]\n",
    "per_mega_df.info()"
   ]
  },
  {
   "cell_type": "code",
   "execution_count": 64,
   "metadata": {},
   "outputs": [],
   "source": [
    "# Add a new column to add the state number\n",
    "per_mega_df.insert(1, 'state', 0)"
   ]
  },
  {
   "cell_type": "code",
   "execution_count": 65,
   "metadata": {
    "collapsed": true
   },
   "outputs": [
    {
     "data": {
      "text/plain": [
       "Index(['folioviv', 'state', 'foliohog', 'id_pobla', 'edad', 'nacio_dia',\n",
       "       'nacio_mes', 'sexo', 'parentesco', 'asiste_esc', 'tipo_esc',\n",
       "       'turno_esc', 'tiene_beca', 'otorg_beca', 'forma_beca', 'no_asiste',\n",
       "       'grado_inst', 'nivel_inst', 'residencia', 'alfabetism', 'edo_conyug',\n",
       "       'trabajo_sp', 'motivo_aus', 'act_buscot', 'act_pensio', 'act_quehac',\n",
       "       'act_estudi', 'act_discap', 'act_otra', 'num_trabaj', 'subor', 'indep',\n",
       "       'personal', 'pago', 'contrato', 'lentes', 'dif_ver', 'a_auditivo',\n",
       "       'dif_oir', 'sin_ruido', 'con_ruido', 'dif_camina', 'usa_aparat',\n",
       "       'ap_caminar', 'cam_100mts', 'cam_500mts', 'sube_12esc', 'dif_record',\n",
       "       'frec_nerv', 'med_nerv', 'inte_nerv', 'frec_depre', 'med_depre',\n",
       "       'inte_depre', 'frec_dolor', 'inte_dolor', 'frec_cansa', 'tiem_cansa',\n",
       "       'inte_cansa'],\n",
       "      dtype='object')"
      ]
     },
     "execution_count": 65,
     "metadata": {},
     "output_type": "execute_result"
    }
   ],
   "source": [
    "# State is inserted after the field folioviv\n",
    "per_mega_df.columns"
   ]
  },
  {
   "cell_type": "code",
   "execution_count": 66,
   "metadata": {},
   "outputs": [],
   "source": [
    "# Assign the state number to make groups and counters\n",
    "per_mega_df.loc[(per_mega_df[\"folioviv\"] > 899999999) & (per_mega_df[\"folioviv\"] < 1000000000), 'state'] = 9\n",
    "per_mega_df.loc[(per_mega_df[\"folioviv\"] > 1299999999) & (per_mega_df[\"folioviv\"] < 1400000000), 'state'] = 13\n",
    "per_mega_df.loc[(per_mega_df[\"folioviv\"] > 1499999999) & (per_mega_df[\"folioviv\"] < 1600000000), 'state'] = 15\n",
    "per_mega_df.loc[(per_mega_df[\"folioviv\"] > 1699999999) & (per_mega_df[\"folioviv\"] < 1800000000), 'state'] = 17\n",
    "per_mega_df.loc[(per_mega_df[\"folioviv\"] > 2099999999) & (per_mega_df[\"folioviv\"] < 2200000000), 'state'] = 21\n",
    "per_mega_df.loc[(per_mega_df[\"folioviv\"] > 2199999999) & (per_mega_df[\"folioviv\"] < 2300000000), 'state'] = 22\n",
    "per_mega_df.loc[(per_mega_df[\"folioviv\"] > 2899999999) & (per_mega_df[\"folioviv\"] < 3000000000), 'state'] = 29"
   ]
  },
  {
   "cell_type": "code",
   "execution_count": 68,
   "metadata": {
    "collapsed": true
   },
   "outputs": [
    {
     "data": {
      "text/plain": [
       "state\n",
       "9     5901\n",
       "13    6520\n",
       "15    7034\n",
       "17    5784\n",
       "21    6612\n",
       "22    6941\n",
       "29    7365\n",
       "Name: folioviv, dtype: int64"
      ]
     },
     "execution_count": 68,
     "metadata": {},
     "output_type": "execute_result"
    }
   ],
   "source": [
    "# Count the rows by state\n",
    "per_mega_df.groupby('state')['folioviv'].count()"
   ]
  },
  {
   "cell_type": "markdown",
   "metadata": {},
   "source": [
    "### Variables chosen for the project:\n",
    "•\tedad: Edad N (3)\n",
    "•\tsexo: Sexo C (1)\n",
    "•\tnivel_inst: Nivel de instrucción C (2)\n",
    "•\talfabetism: Alfabetismo C (1)\n",
    "•\tedo_conyug: Estado conyugal C (1)\n",
    "•\tact_buscot: Actividad busca de empleo C (1)\n",
    "•\tact_pensio: Actividad pensionado o jubilado C (1)\n",
    "•\tact_quehac: Actividad quehaceres del hogar C (1)\n",
    "•\tact_estudi: Actividad estudiante C (1)\n",
    "•\tact_discap: Actividad limitación física o mental C (1)\n",
    "•\tact_otra: Actividad de otra situación diferente C (1)\n",
    "•\tnum_trabaj: Números de trabajos C (1)"
   ]
  },
  {
   "cell_type": "code",
   "execution_count": 69,
   "metadata": {
    "collapsed": true
   },
   "outputs": [
    {
     "data": {
      "text/plain": [
       "state  edad\n",
       "9      40      118\n",
       "       35      113\n",
       "       22      111\n",
       "       24      108\n",
       "       30      107\n",
       "       42      105\n",
       "       23       98\n",
       "       27       98\n",
       "       19       95\n",
       "       26       95\n",
       "       29       95\n",
       "       32       95\n",
       "       60       94\n",
       "       18       93\n",
       "       25       93\n",
       "       45       93\n",
       "       43       90\n",
       "       50       89\n",
       "       17       88\n",
       "       20       87\n",
       "       33       87\n",
       "       39       87\n",
       "       52       86\n",
       "       5        85\n",
       "       21       85\n",
       "       16       84\n",
       "       34       84\n",
       "       31       82\n",
       "       46       82\n",
       "       55       82\n",
       "              ... \n",
       "29     70       26\n",
       "       71       24\n",
       "       68       23\n",
       "       72       23\n",
       "       76       23\n",
       "       75       19\n",
       "       73       17\n",
       "       78       17\n",
       "       85       17\n",
       "       81       16\n",
       "       84       16\n",
       "       79       14\n",
       "       80       13\n",
       "       77       11\n",
       "       82       11\n",
       "       87       10\n",
       "       74        8\n",
       "       83        8\n",
       "       86        7\n",
       "       88        6\n",
       "       89        6\n",
       "       91        4\n",
       "       93        3\n",
       "       94        3\n",
       "       96        3\n",
       "       92        2\n",
       "       95        2\n",
       "       90        1\n",
       "       99        1\n",
       "       102       1\n",
       "Name: edad, Length: 687, dtype: int64"
      ]
     },
     "execution_count": 69,
     "metadata": {},
     "output_type": "execute_result"
    }
   ],
   "source": [
    "# APARTADO B. CARACTERÍSTICAS DE LOS INTEGRANTES DEL HOGAR, EDUCACIÓN Y OCUPACIÓN PARA TODAS LAS PERSONAS DEL HOGAR\n",
    "# 2. ¿Cuántos años cumplidos tiene ?\n",
    "per_mega_df.groupby('state')['edad'].value_counts()"
   ]
  },
  {
   "cell_type": "code",
   "execution_count": 70,
   "metadata": {
    "collapsed": true
   },
   "outputs": [
    {
     "data": {
      "text/plain": [
       "state  sexo\n",
       "9      2       3057\n",
       "       1       2844\n",
       "13     2       3441\n",
       "       1       3079\n",
       "15     2       3655\n",
       "       1       3379\n",
       "17     2       3016\n",
       "       1       2768\n",
       "21     2       3437\n",
       "       1       3175\n",
       "22     2       3588\n",
       "       1       3353\n",
       "29     2       3814\n",
       "       1       3551\n",
       "Name: sexo, dtype: int64"
      ]
     },
     "execution_count": 70,
     "metadata": {},
     "output_type": "execute_result"
    }
   ],
   "source": [
    "# 2. es... 1.hombre 2.mujer\n",
    "per_mega_df.groupby('state')['sexo'].value_counts()"
   ]
  },
  {
   "cell_type": "code",
   "execution_count": 87,
   "metadata": {
    "collapsed": true
   },
   "outputs": [
    {
     "data": {
      "text/plain": [
       "state  alfabetism\n",
       "9      1             5349\n",
       "                      405\n",
       "       2              147\n",
       "13     1             5299\n",
       "                      675\n",
       "       2              546\n",
       "15     1             6176\n",
       "                      610\n",
       "       2              248\n",
       "17     1             4968\n",
       "                      500\n",
       "       2              316\n",
       "21     1             5331\n",
       "                      692\n",
       "       2              589\n",
       "22     1             5863\n",
       "                      688\n",
       "       2              390\n",
       "29     1             6240\n",
       "                      733\n",
       "       2              392\n",
       "Name: alfabetism, dtype: int64"
      ]
     },
     "execution_count": 87,
     "metadata": {},
     "output_type": "execute_result"
    }
   ],
   "source": [
    "# 15. ¿ sabe leer y escribir un recado?   1 SI  2 NO\n",
    "per_mega_df.groupby('state')['alfabetism'].value_counts()"
   ]
  },
  {
   "cell_type": "code",
   "execution_count": 88,
   "metadata": {
    "collapsed": true
   },
   "outputs": [
    {
     "data": {
      "text/plain": [
       "state  edo_conyug\n",
       "9      5             1845\n",
       "       6             1678\n",
       "                      833\n",
       "       1              818\n",
       "       2              316\n",
       "       4              272\n",
       "       3              139\n",
       "13     6             1820\n",
       "       5             1669\n",
       "                     1451\n",
       "       1             1054\n",
       "       4              266\n",
       "       2              190\n",
       "       3               70\n",
       "15     5             2041\n",
       "       6             2018\n",
       "                     1343\n",
       "       1             1029\n",
       "       2              279\n",
       "       4              245\n",
       "       3               79\n",
       "17     6             1602\n",
       "       5             1517\n",
       "                     1085\n",
       "       1              894\n",
       "       2              335\n",
       "       4              272\n",
       "       3               79\n",
       "21     5             1764\n",
       "       6             1613\n",
       "                     1410\n",
       "       1             1192\n",
       "       2              297\n",
       "       4              275\n",
       "       3               61\n",
       "22     6             2226\n",
       "       5             2021\n",
       "                     1441\n",
       "       1              731\n",
       "       4              234\n",
       "       2              205\n",
       "       3               83\n",
       "29     6             2058\n",
       "       5             1954\n",
       "                     1603\n",
       "       1             1146\n",
       "       2              325\n",
       "       4              214\n",
       "       3               65\n",
       "Name: edo_conyug, dtype: int64"
      ]
     },
     "execution_count": 88,
     "metadata": {},
     "output_type": "execute_result"
    }
   ],
   "source": [
    "# 16. Actualmente   1 vive con su pareja en unión libre?  2 está separada(o)?  3 está divorciada(o)?\n",
    "# 4 está viuda(o)?  5 está soltera(o)?   6 está casada(o) civil y/o religiosamente?\n",
    "per_mega_df.groupby('state')['edo_conyug'].value_counts()"
   ]
  },
  {
   "cell_type": "code",
   "execution_count": 71,
   "metadata": {
    "collapsed": true
   },
   "outputs": [
    {
     "data": {
      "text/plain": [
       "state  nivel_inst\n",
       "9      03            1279\n",
       "       02            1195\n",
       "       10            1164\n",
       "       04            1155\n",
       "       01             196\n",
       "                      193\n",
       "       07             189\n",
       "       00             185\n",
       "       11             132\n",
       "       08             106\n",
       "       06              39\n",
       "       12              34\n",
       "       09              24\n",
       "       05              10\n",
       "13     02            1993\n",
       "       03            1734\n",
       "       04             857\n",
       "       00             553\n",
       "       10             522\n",
       "                      323\n",
       "       01             278\n",
       "       07              84\n",
       "       11              46\n",
       "       08              43\n",
       "       09              39\n",
       "       05              28\n",
       "       06              12\n",
       "       12               8\n",
       "15     03            1867\n",
       "       02            1783\n",
       "                     ... \n",
       "21     05              10\n",
       "       06               5\n",
       "22     02            1851\n",
       "       03            1820\n",
       "       04             925\n",
       "       10             843\n",
       "       00             532\n",
       "                      326\n",
       "       01             260\n",
       "       07             116\n",
       "       08             110\n",
       "       11              73\n",
       "       09              28\n",
       "       06              23\n",
       "       05              20\n",
       "       12              14\n",
       "29     02            2069\n",
       "       03            1967\n",
       "       04            1157\n",
       "       10             775\n",
       "       00             443\n",
       "                      342\n",
       "       01             285\n",
       "       07             120\n",
       "       08              77\n",
       "       11              53\n",
       "       05              31\n",
       "       09              25\n",
       "       06              11\n",
       "       12              10\n",
       "Name: nivel_inst, Length: 98, dtype: int64"
      ]
     },
     "execution_count": 71,
     "metadata": {},
     "output_type": "execute_result"
    }
   ],
   "source": [
    "# 13. ¿Cuál es el último año o grado que aprobó en la escuela?    Nivel de instrucción\n",
    "# 03 Secundaria   02 Primaria   10 Licenciatura o profesional  04 Preparatoria o bachillerato  \n",
    "# 00 Ninguno  01 Preescolar   05 Normal básica  06 Estudios técnicos o comerciales con primaria terminada  \n",
    "# 07 Estudios técnicos o comerciales con secundaria terminada 08 Estudios técnicos o comerciales con \n",
    "# preparatoria terminada   09 Normal de licenciatura   11 Maestría   12 Doctorado\n",
    "per_mega_df.groupby('state')['nivel_inst'].value_counts()"
   ]
  },
  {
   "cell_type": "code",
   "execution_count": 72,
   "metadata": {
    "collapsed": true
   },
   "outputs": [
    {
     "data": {
      "text/plain": [
       "state  act_buscot\n",
       "9                    5793\n",
       "       1              108\n",
       "13                   6461\n",
       "       1               59\n",
       "15                   6937\n",
       "       1               97\n",
       "17                   5684\n",
       "       1              100\n",
       "21                   6569\n",
       "       1               43\n",
       "22                   6865\n",
       "       1               76\n",
       "29                   7276\n",
       "       1               89\n",
       "Name: act_buscot, dtype: int64"
      ]
     },
     "execution_count": 72,
     "metadata": {},
     "output_type": "execute_result"
    }
   ],
   "source": [
    "#APARTADO B. CARACTERÍSTICAS DE LOS INTEGRANTES DEL HOGAR, EDUCACIÓN Y OCUPACIÓN\n",
    "#¿Entonces la semana pasada,\n",
    "#1 estuvo buscando trabajo?\n",
    "per_mega_df.groupby('state')['act_buscot'].value_counts()"
   ]
  },
  {
   "cell_type": "code",
   "execution_count": 74,
   "metadata": {
    "collapsed": true
   },
   "outputs": [
    {
     "data": {
      "text/plain": [
       "state  act_pensio\n",
       "9                    5572\n",
       "       2              329\n",
       "13                   6426\n",
       "       2               94\n",
       "15                   6880\n",
       "       2              154\n",
       "17                   5610\n",
       "       2              174\n",
       "21                   6525\n",
       "       2               87\n",
       "22                   6798\n",
       "       2              143\n",
       "29                   7261\n",
       "       2              104\n",
       "Name: act_pensio, dtype: int64"
      ]
     },
     "execution_count": 74,
     "metadata": {},
     "output_type": "execute_result"
    }
   ],
   "source": [
    "#2 es pensionado o jubilado?\n",
    "per_mega_df.groupby('state')['act_pensio'].value_counts()"
   ]
  },
  {
   "cell_type": "code",
   "execution_count": 75,
   "metadata": {
    "collapsed": true
   },
   "outputs": [
    {
     "data": {
      "text/plain": [
       "state  act_quehac\n",
       "9                    5087\n",
       "       3              814\n",
       "13                   4882\n",
       "       3             1638\n",
       "15                   5771\n",
       "       3             1263\n",
       "17                   4553\n",
       "       3             1231\n",
       "21                   5638\n",
       "       3              974\n",
       "22                   5801\n",
       "       3             1140\n",
       "29                   5853\n",
       "       3             1512\n",
       "Name: act_quehac, dtype: int64"
      ]
     },
     "execution_count": 75,
     "metadata": {},
     "output_type": "execute_result"
    }
   ],
   "source": [
    "#3 se dedicó a los quehaceres del hogar?\n",
    "per_mega_df.groupby('state')['act_quehac'].value_counts()"
   ]
  },
  {
   "cell_type": "code",
   "execution_count": 76,
   "metadata": {
    "collapsed": true
   },
   "outputs": [
    {
     "data": {
      "text/plain": [
       "state  act_estudi\n",
       "9                    5228\n",
       "       4              673\n",
       "13                   5870\n",
       "       4              650\n",
       "15                   6070\n",
       "       4              964\n",
       "17                   5238\n",
       "       4              546\n",
       "21                   6027\n",
       "       4              585\n",
       "22                   6206\n",
       "       4              735\n",
       "29                   6591\n",
       "       4              774\n",
       "Name: act_estudi, dtype: int64"
      ]
     },
     "execution_count": 76,
     "metadata": {},
     "output_type": "execute_result"
    }
   ],
   "source": [
    "#4 se dedicó a estudiar?\n",
    "per_mega_df.groupby('state')['act_estudi'].value_counts()"
   ]
  },
  {
   "cell_type": "code",
   "execution_count": 77,
   "metadata": {
    "collapsed": true
   },
   "outputs": [
    {
     "data": {
      "text/plain": [
       "state  act_discap\n",
       "9                    5820\n",
       "       5               81\n",
       "13                   6428\n",
       "       5               92\n",
       "15                   6947\n",
       "       5               87\n",
       "17                   5701\n",
       "       5               83\n",
       "21                   6510\n",
       "       5              102\n",
       "22                   6821\n",
       "       5              120\n",
       "29                   7287\n",
       "       5               78\n",
       "Name: act_discap, dtype: int64"
      ]
     },
     "execution_count": 77,
     "metadata": {},
     "output_type": "execute_result"
    }
   ],
   "source": [
    "#5 Es una persona con alguna limitación física o mental que le impide trabajar por el resto de su vida\n",
    "per_mega_df.groupby('state')['act_discap'].value_counts()"
   ]
  },
  {
   "cell_type": "code",
   "execution_count": 78,
   "metadata": {
    "collapsed": true
   },
   "outputs": [
    {
     "data": {
      "text/plain": [
       "state  act_otra\n",
       "9                  5856\n",
       "       6             45\n",
       "13                 6478\n",
       "       6             42\n",
       "15                 6968\n",
       "       6             66\n",
       "17                 5762\n",
       "       6             22\n",
       "21                 6581\n",
       "       6             31\n",
       "22                 6906\n",
       "       6             35\n",
       "29                 7330\n",
       "       6             35\n",
       "Name: act_otra, dtype: int64"
      ]
     },
     "execution_count": 78,
     "metadata": {},
     "output_type": "execute_result"
    }
   ],
   "source": [
    "#6 Está en otra situación diferente a las anteriores\n",
    "per_mega_df.groupby('state')['act_otra'].value_counts()"
   ]
  },
  {
   "cell_type": "code",
   "execution_count": 79,
   "metadata": {
    "collapsed": true
   },
   "outputs": [
    {
     "data": {
      "text/plain": [
       "state  num_trabaj\n",
       "9      1             3027\n",
       "                     2811\n",
       "       2               63\n",
       "13                   3516\n",
       "       1             2871\n",
       "       2              133\n",
       "15                   3851\n",
       "       1             3121\n",
       "       2               62\n",
       "17                   2875\n",
       "       1             2815\n",
       "       2               94\n",
       "21     1             3376\n",
       "                     3056\n",
       "       2              180\n",
       "22                   3568\n",
       "       1             3238\n",
       "       2              135\n",
       "29                   3642\n",
       "       1             3581\n",
       "       2              142\n",
       "Name: num_trabaj, dtype: int64"
      ]
     },
     "execution_count": 79,
     "metadata": {},
     "output_type": "execute_result"
    }
   ],
   "source": [
    "#¿Cuántos trabajos tuvo ... la semana pasada? 1. Solo uno 2. Dos o mas\n",
    "per_mega_df.groupby('state')['num_trabaj'].value_counts()"
   ]
  },
  {
   "cell_type": "code",
   "execution_count": 81,
   "metadata": {
    "collapsed": true
   },
   "outputs": [
    {
     "data": {
      "text/plain": [
       "state  trabajo_sp\n",
       "9      1             3034\n",
       "       2             2034\n",
       "                      833\n",
       "13     1             2958\n",
       "       2             2111\n",
       "                     1451\n",
       "15     1             3126\n",
       "       2             2565\n",
       "                     1343\n",
       "17     1             2863\n",
       "       2             1836\n",
       "                     1085\n",
       "21     1             3496\n",
       "       2             1706\n",
       "                     1410\n",
       "22     1             3321\n",
       "       2             2179\n",
       "                     1441\n",
       "29     1             3668\n",
       "       2             2094\n",
       "                     1603\n",
       "Name: trabajo_sp, dtype: int64"
      ]
     },
     "execution_count": 81,
     "metadata": {},
     "output_type": "execute_result"
    }
   ],
   "source": [
    "# 17. Durante la semana pasada, trabajó?   1 SÍ   2 NO    9 No sabe\n",
    "per_mega_df.groupby('state')['trabajo_sp'].value_counts()"
   ]
  },
  {
   "cell_type": "code",
   "execution_count": 80,
   "metadata": {
    "collapsed": true
   },
   "outputs": [
    {
     "data": {
      "text/plain": [
       "state  residencia\n",
       "9      09            5388\n",
       "                      320\n",
       "       15              69\n",
       "       16              15\n",
       "       12              11\n",
       "       21              11\n",
       "       30              11\n",
       "       34              11\n",
       "       20               9\n",
       "       33               9\n",
       "       28               8\n",
       "       19               7\n",
       "       01               4\n",
       "       13               4\n",
       "       14               3\n",
       "       22               3\n",
       "       26               3\n",
       "       11               2\n",
       "       25               2\n",
       "       27               2\n",
       "       29               2\n",
       "       07               1\n",
       "       10               1\n",
       "       17               1\n",
       "       23               1\n",
       "       24               1\n",
       "       31               1\n",
       "       32               1\n",
       "13     13            5580\n",
       "                      551\n",
       "                     ... \n",
       "22     04               1\n",
       "       10               1\n",
       "       18               1\n",
       "       23               1\n",
       "       26               1\n",
       "       32               1\n",
       "29     29            6430\n",
       "                      602\n",
       "       15              71\n",
       "       09              69\n",
       "       21              64\n",
       "       30              29\n",
       "       33              21\n",
       "       13              12\n",
       "       02              10\n",
       "       11               9\n",
       "       19               8\n",
       "       23               6\n",
       "       05               5\n",
       "       12               5\n",
       "       16               4\n",
       "       20               4\n",
       "       28               4\n",
       "       34               3\n",
       "       03               2\n",
       "       14               2\n",
       "       22               2\n",
       "       01               1\n",
       "       08               1\n",
       "       10               1\n",
       "Name: residencia, Length: 176, dtype: int64"
      ]
     },
     "execution_count": 80,
     "metadata": {},
     "output_type": "execute_result"
    }
   ],
   "source": [
    "# 14. ¿Hace 5 años, en 2012, en qué estado de la república mexicana o país vivía?\n",
    "per_mega_df.groupby('state')['residencia'].value_counts()"
   ]
  },
  {
   "cell_type": "markdown",
   "metadata": {},
   "source": [
    "## Hogar file"
   ]
  },
  {
   "cell_type": "code",
   "execution_count": 89,
   "metadata": {
    "collapsed": true
   },
   "outputs": [
    {
     "name": "stdout",
     "output_type": "stream",
     "text": [
      "<class 'pandas.core.frame.DataFrame'>\n",
      "Int64Index: 12483 entries, 13982 to 52138\n",
      "Data columns (total 13 columns):\n",
      "folioviv      12483 non-null int64\n",
      "foliohog      12483 non-null int64\n",
      "huespedes     12483 non-null int64\n",
      "huesp_come    12483 non-null object\n",
      "trabaja_do    12483 non-null object\n",
      "cuid_perso    12483 non-null object\n",
      "lavandero     12483 non-null object\n",
      "chofer        12483 non-null object\n",
      "cocinero      12483 non-null object\n",
      "jardinero     12483 non-null object\n",
      "tot_integ     12483 non-null int64\n",
      "tot_hom       12483 non-null int64\n",
      "tot_muj       12483 non-null int64\n",
      "dtypes: int64(6), object(7)\n",
      "memory usage: 1.3+ MB\n"
     ]
    }
   ],
   "source": [
    "# Only Megalopolis data from the hogar file\n",
    "hog_mega_df = hogar_df.loc[\n",
    "    (hogar_df[\"folioviv\"] > 899999999) & (hogar_df[\"folioviv\"] < 1000000000) |\n",
    "    (hogar_df[\"folioviv\"] > 1299999999) & (hogar_df[\"folioviv\"] < 1400000000) |\n",
    "    (hogar_df[\"folioviv\"] > 1499999999) & (hogar_df[\"folioviv\"] < 1600000000) |\n",
    "    (hogar_df[\"folioviv\"] > 1699999999) & (hogar_df[\"folioviv\"] < 1800000000) |\n",
    "    (hogar_df[\"folioviv\"] > 2099999999) & (hogar_df[\"folioviv\"] < 2300000000) |\n",
    "    (hogar_df[\"folioviv\"] > 2899999999) & (hogar_df[\"folioviv\"] < 3000000000), :]\n",
    "hog_mega_df.info()"
   ]
  },
  {
   "cell_type": "code",
   "execution_count": 90,
   "metadata": {},
   "outputs": [],
   "source": [
    "# Add a new column to add the state number\n",
    "hog_mega_df.insert(1, 'state', 0)"
   ]
  },
  {
   "cell_type": "code",
   "execution_count": 91,
   "metadata": {
    "collapsed": true
   },
   "outputs": [
    {
     "data": {
      "text/plain": [
       "Index(['folioviv', 'state', 'foliohog', 'huespedes', 'huesp_come',\n",
       "       'trabaja_do', 'cuid_perso', 'lavandero', 'chofer', 'cocinero',\n",
       "       'jardinero', 'tot_integ', 'tot_hom', 'tot_muj'],\n",
       "      dtype='object')"
      ]
     },
     "execution_count": 91,
     "metadata": {},
     "output_type": "execute_result"
    }
   ],
   "source": [
    "# State is inserted after the field folioviv\n",
    "hog_mega_df.columns"
   ]
  },
  {
   "cell_type": "code",
   "execution_count": 92,
   "metadata": {},
   "outputs": [],
   "source": [
    "# Assign the state number to make groups and counters\n",
    "hog_mega_df.loc[(hog_mega_df[\"folioviv\"] > 899999999) & (hog_mega_df[\"folioviv\"] < 1000000000), 'state'] = 9\n",
    "hog_mega_df.loc[(hog_mega_df[\"folioviv\"] > 1299999999) & (hog_mega_df[\"folioviv\"] < 1400000000), 'state'] = 13\n",
    "hog_mega_df.loc[(hog_mega_df[\"folioviv\"] > 1499999999) & (hog_mega_df[\"folioviv\"] < 1600000000), 'state'] = 15\n",
    "hog_mega_df.loc[(hog_mega_df[\"folioviv\"] > 1699999999) & (hog_mega_df[\"folioviv\"] < 1800000000), 'state'] = 17\n",
    "hog_mega_df.loc[(hog_mega_df[\"folioviv\"] > 2099999999) & (hog_mega_df[\"folioviv\"] < 2200000000), 'state'] = 21\n",
    "hog_mega_df.loc[(hog_mega_df[\"folioviv\"] > 2199999999) & (hog_mega_df[\"folioviv\"] < 2300000000), 'state'] = 22\n",
    "hog_mega_df.loc[(hog_mega_df[\"folioviv\"] > 2899999999) & (hog_mega_df[\"folioviv\"] < 3000000000), 'state'] = 29"
   ]
  },
  {
   "cell_type": "code",
   "execution_count": 93,
   "metadata": {
    "collapsed": true
   },
   "outputs": [
    {
     "data": {
      "text/plain": [
       "state\n",
       "9     1790\n",
       "13    1759\n",
       "15    1853\n",
       "17    1646\n",
       "21    1725\n",
       "22    1871\n",
       "29    1839\n",
       "Name: folioviv, dtype: int64"
      ]
     },
     "execution_count": 93,
     "metadata": {},
     "output_type": "execute_result"
    }
   ],
   "source": [
    "# Count the rows by state\n",
    "hog_mega_df.groupby('state')['folioviv'].count()"
   ]
  },
  {
   "cell_type": "code",
   "execution_count": null,
   "metadata": {},
   "outputs": [],
   "source": [
    "# Count the rows by state\n",
    "viv_mega_df.groupby('state')['ubica_geo'].value_counts()"
   ]
  },
  {
   "cell_type": "code",
   "execution_count": 94,
   "metadata": {
    "collapsed": true
   },
   "outputs": [
    {
     "data": {
      "text/plain": [
       "state  tot_integ\n",
       "9      2            395\n",
       "       4            384\n",
       "       3            379\n",
       "       1            266\n",
       "       5            200\n",
       "       6             90\n",
       "       7             35\n",
       "       8             17\n",
       "       9             10\n",
       "       10             8\n",
       "       11             2\n",
       "       16             2\n",
       "       13             1\n",
       "       14             1\n",
       "13     4            419\n",
       "       2            311\n",
       "       3            308\n",
       "       5            271\n",
       "       1            197\n",
       "       6            133\n",
       "       7             56\n",
       "       8             42\n",
       "       9             10\n",
       "       10             6\n",
       "       12             4\n",
       "       11             2\n",
       "15     4            470\n",
       "       3            370\n",
       "       5            318\n",
       "       2            294\n",
       "                   ... \n",
       "21     12             3\n",
       "       14             2\n",
       "       13             1\n",
       "22     4            445\n",
       "       3            386\n",
       "       2            311\n",
       "       5            295\n",
       "       1            187\n",
       "       6            130\n",
       "       7             58\n",
       "       8             33\n",
       "       9              9\n",
       "       10             9\n",
       "       11             4\n",
       "       13             2\n",
       "       14             2\n",
       "29     4            477\n",
       "       5            333\n",
       "       3            317\n",
       "       2            272\n",
       "       6            152\n",
       "       1            133\n",
       "       7             68\n",
       "       8             43\n",
       "       9             25\n",
       "       10            13\n",
       "       11             2\n",
       "       12             2\n",
       "       14             1\n",
       "       17             1\n",
       "Name: tot_integ, Length: 93, dtype: int64"
      ]
     },
     "execution_count": 94,
     "metadata": {},
     "output_type": "execute_result"
    }
   ],
   "source": [
    "# Número de integrantes del hogar\n",
    "hog_mega_df.groupby('state')['tot_integ'].value_counts()"
   ]
  },
  {
   "cell_type": "code",
   "execution_count": 95,
   "metadata": {
    "collapsed": true
   },
   "outputs": [
    {
     "data": {
      "text/plain": [
       "state  tot_hom\n",
       "9      1          710\n",
       "       2          508\n",
       "       3          246\n",
       "       0          241\n",
       "       4           61\n",
       "       5           16\n",
       "       6            4\n",
       "       8            2\n",
       "       7            1\n",
       "       9            1\n",
       "13     1          657\n",
       "       2          504\n",
       "       3          281\n",
       "       0          186\n",
       "       4           90\n",
       "       5           35\n",
       "       6            6\n",
       "15     1          670\n",
       "       2          586\n",
       "       3          314\n",
       "       0          150\n",
       "       4           95\n",
       "       5           25\n",
       "       6            6\n",
       "       7            5\n",
       "       8            1\n",
       "       11           1\n",
       "17     1          621\n",
       "       2          482\n",
       "       3          225\n",
       "                 ... \n",
       "       6            5\n",
       "21     1          614\n",
       "       2          525\n",
       "       3          244\n",
       "       0          166\n",
       "       4          126\n",
       "       5           35\n",
       "       6            8\n",
       "       7            5\n",
       "       8            1\n",
       "       9            1\n",
       "22     1          683\n",
       "       2          567\n",
       "       3          303\n",
       "       0          178\n",
       "       4           95\n",
       "       5           33\n",
       "       6            5\n",
       "       7            5\n",
       "       8            1\n",
       "       9            1\n",
       "29     1          594\n",
       "       2          592\n",
       "       3          340\n",
       "       0          142\n",
       "       4          124\n",
       "       5           33\n",
       "       6           10\n",
       "       7            2\n",
       "       9            2\n",
       "Name: tot_hom, Length: 63, dtype: int64"
      ]
     },
     "execution_count": 95,
     "metadata": {},
     "output_type": "execute_result"
    }
   ],
   "source": [
    "# Total de integrantes hombres\n",
    "hog_mega_df.groupby('state')['tot_hom'].value_counts()"
   ]
  },
  {
   "cell_type": "code",
   "execution_count": 96,
   "metadata": {
    "collapsed": true
   },
   "outputs": [
    {
     "data": {
      "text/plain": [
       "state  tot_muj\n",
       "9      1          743\n",
       "       2          517\n",
       "       3          245\n",
       "       0          166\n",
       "       4           80\n",
       "       5           22\n",
       "       6            9\n",
       "       7            4\n",
       "       8            3\n",
       "       9            1\n",
       "13     1          632\n",
       "       2          525\n",
       "       3          321\n",
       "       4          112\n",
       "       0          105\n",
       "       5           43\n",
       "       6           16\n",
       "       7            3\n",
       "       8            2\n",
       "15     1          620\n",
       "       2          596\n",
       "       3          344\n",
       "       4          126\n",
       "       0          109\n",
       "       5           44\n",
       "       6           12\n",
       "       7            1\n",
       "       8            1\n",
       "17     1          616\n",
       "       2          548\n",
       "                 ... \n",
       "       8            2\n",
       "21     1          616\n",
       "       2          511\n",
       "       3          286\n",
       "       4          139\n",
       "       0          102\n",
       "       5           50\n",
       "       6           15\n",
       "       7            4\n",
       "       8            1\n",
       "       9            1\n",
       "22     1          638\n",
       "       2          626\n",
       "       3          322\n",
       "       0          124\n",
       "       4          105\n",
       "       5           34\n",
       "       6           16\n",
       "       7            4\n",
       "       8            1\n",
       "       10           1\n",
       "29     1          614\n",
       "       2          571\n",
       "       3          376\n",
       "       4          124\n",
       "       0           75\n",
       "       5           51\n",
       "       6           19\n",
       "       7            7\n",
       "       8            2\n",
       "Name: tot_muj, Length: 66, dtype: int64"
      ]
     },
     "execution_count": 96,
     "metadata": {},
     "output_type": "execute_result"
    }
   ],
   "source": [
    "# Total de integrantes mujeres\n",
    "hog_mega_df.groupby('state')['tot_muj'].value_counts()"
   ]
  }
 ],
 "metadata": {
  "kernelspec": {
   "display_name": "Python 3",
   "language": "python",
   "name": "python3"
  },
  "language_info": {
   "codemirror_mode": {
    "name": "ipython",
    "version": 3
   },
   "file_extension": ".py",
   "mimetype": "text/x-python",
   "name": "python",
   "nbconvert_exporter": "python",
   "pygments_lexer": "ipython3",
   "version": "3.7.3"
  }
 },
 "nbformat": 4,
 "nbformat_minor": 2
}
