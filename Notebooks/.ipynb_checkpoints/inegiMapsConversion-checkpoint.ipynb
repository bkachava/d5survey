{
 "cells": [
  {
   "cell_type": "code",
   "execution_count": 1,
   "metadata": {},
   "outputs": [],
   "source": [
    "#Libraries Import\n",
    "import geopandas as gpd\n",
    "from fiona.crs import from_epsg"
   ]
  },
  {
   "cell_type": "markdown",
   "metadata": {},
   "source": [
    "# Raw INEGI SHP Files for all seven states:"
   ]
  },
  {
   "cell_type": "code",
   "execution_count": 8,
   "metadata": {},
   "outputs": [
    {
     "data": {
      "text/plain": [
       "0      POLYGON ((2921732.723899998 805473.199000001, ...\n",
       "1      POLYGON ((2990845.5973 917753.9919999987, 2990...\n",
       "2      (POLYGON ((2901729.788400002 677655.0943999998...\n",
       "3      POLYGON ((2940203.287500001 797173.1682000011,...\n",
       "4      POLYGON ((2849483.687700003 761972.4455999993,...\n",
       "5      POLYGON ((2933647.345799997 904943.7732000016,...\n",
       "6      POLYGON ((2891758.902099997 745372.4842999987,...\n",
       "7      POLYGON ((2903126.905900002 905954.6004999988,...\n",
       "8      POLYGON ((2905451.692100003 704833.8524000011,...\n",
       "9      POLYGON ((3027321.261299998 735414.8392999992,...\n",
       "10     POLYGON ((2866862.861000001 678222.3275000006,...\n",
       "11     POLYGON ((2967818.858499996 801315.4327999987,...\n",
       "12     POLYGON ((2995974.973999999 719870.4131000005,...\n",
       "13     POLYGON ((2935325.899700001 904560.3865999989,...\n",
       "14     POLYGON ((2916660.667599998 800165.3465000018,...\n",
       "15     POLYGON ((2923099.312700003 878913.2738999985,...\n",
       "16     POLYGON ((2979214.997199997 879813.2052000016,...\n",
       "17     POLYGON ((2958567.706600003 726771.3966999985,...\n",
       "18     POLYGON ((2860345.237300001 782438.6528999992,...\n",
       "19     POLYGON ((2931219.741099998 767362.4505000003,...\n",
       "20     POLYGON ((2866129.544100001 734115.5328000002,...\n",
       "21     POLYGON ((2867018.101899996 765312.6484999992,...\n",
       "22     POLYGON ((2996845.960699998 785231.5174999982,...\n",
       "23     POLYGON ((2883026.614699997 704651.0496999994,...\n",
       "24     POLYGON ((2975467.289300002 912996.7047999986,...\n",
       "25     POLYGON ((2860251.462099999 798514.2170999981,...\n",
       "26     (POLYGON ((2961223.1822 695484.5337999985, 296...\n",
       "27     POLYGON ((2942929.4564 901825.2463999987, 2942...\n",
       "28     POLYGON ((2958851.153800003 906398.3643999994,...\n",
       "29     POLYGON ((2944946.470299996 904495.2269000001,...\n",
       "                             ...                        \n",
       "187    POLYGON ((2856781.002999999 785650.1334000006,...\n",
       "188    POLYGON ((2942734.482299998 773354.2989999987,...\n",
       "189    POLYGON ((2940308.087800004 716274.3685999997,...\n",
       "190    POLYGON ((2874101.706299998 682271.0793999992,...\n",
       "191    POLYGON ((2969955.669500001 914203.0753999986,...\n",
       "192    POLYGON ((2906544.799000002 774296.8088999987,...\n",
       "193    POLYGON ((2942004.340300001 961504.3383000009,...\n",
       "194    POLYGON ((3001367.921899997 747270.5645000003,...\n",
       "195    POLYGON ((2930259.029200003 711272.1048999988,...\n",
       "196    POLYGON ((2940520.244099997 942741.4259000011,...\n",
       "197    POLYGON ((2849573.460900001 692026.3502999991,...\n",
       "198    POLYGON ((2990253.331699997 882926.8625999987,...\n",
       "199    POLYGON ((2954756.602200001 872798.5954000019,...\n",
       "200    POLYGON ((2888665.055200003 749763.8629000001,...\n",
       "201    POLYGON ((2956918.565200001 894888.2818999998,...\n",
       "202    POLYGON ((2944728.180799998 761016.0077, 29447...\n",
       "203    POLYGON ((2978718.693300001 892789.5313000008,...\n",
       "204    POLYGON ((2957111.506300002 765725.9184999987,...\n",
       "205    POLYGON ((2926481.109700002 753793.5262000002,...\n",
       "206    POLYGON ((2965347.435999997 891845.4109999985,...\n",
       "207    POLYGON ((2908329.018700004 903196.1429999992,...\n",
       "208    POLYGON ((2980871.822499998 721673.1508000009,...\n",
       "209    POLYGON ((2947179.250500001 897648.0439999998,...\n",
       "210    POLYGON ((2962270.087899998 872861.2364000008,...\n",
       "211    POLYGON ((2950802.649099998 874386.7683999985,...\n",
       "212    POLYGON ((2940348.901100002 937141.8665999994,...\n",
       "213    POLYGON ((3008056.6818 716605.745099999, 30081...\n",
       "214    POLYGON ((2947489.4793 895049.8816, 2947457.26...\n",
       "215    (POLYGON ((2959349.582199998 899161.5069000013...\n",
       "216    POLYGON ((3037478.806000002 731540.7012999989,...\n",
       "Name: geometry, Length: 217, dtype: object"
      ]
     },
     "execution_count": 8,
     "metadata": {},
     "output_type": "execute_result"
    }
   ],
   "source": [
    "#Extract all INEGI Map Data:\n",
    "mapa_mexico = gpd.read_file(\"../Resources/inegiMapData/shp/shp_mexico/15mun.shp\")\n",
    "mapa_cdmx = gpd.read_file(\"../Resources/inegiMapData/shp/shp_cdmx/09mun.shp\")\n",
    "mapa_hid = gpd.read_file(\"../Resources/inegiMapData/shp/shp_hidalgo/13mun.shp\")\n",
    "mapa_mor = gpd.read_file(\"../Resources/inegiMapData/shp/shp_morelos/17mun.shp\")\n",
    "mapa_qto = gpd.read_file(\"../Resources/inegiMapData/shp/shp_qto/22mun.shp\")\n",
    "mapa_tlax = gpd.read_file(\"../Resources/inegiMapData/shp/shp_tlax/29mun.shp\")\n",
    "mapa_pue = gpd.read_file(\"../Resources/inegiMapData/shp/shp_puebla/21mun.shp\")\n",
    "\n",
    "#Let's test one of these files\n",
    "mapa_pue[\"geometry\"]"
   ]
  },
  {
   "cell_type": "markdown",
   "metadata": {},
   "source": [
    "# Let's transform the INEGI coordinates format:"
   ]
  },
  {
   "cell_type": "code",
   "execution_count": 9,
   "metadata": {},
   "outputs": [
    {
     "data": {
      "text/plain": [
       "Proj('+proj=longlat +datum=WGS84 +no_defs', preserve_units=True)"
      ]
     },
     "execution_count": 9,
     "metadata": {},
     "output_type": "execute_result"
    }
   ],
   "source": [
    "import pyproj\n",
    "pyproj.Proj(\"+init=epsg:4326\")"
   ]
  },
  {
   "cell_type": "code",
   "execution_count": 10,
   "metadata": {},
   "outputs": [],
   "source": [
    "mapa_mexico[\"geometry\"] = mapa_mexico[\"geometry\"].to_crs(epsg = 4326)\n",
    "mapa_cdmx[\"geometry\"] = mapa_cdmx[\"geometry\"].to_crs(epsg = 4326)\n",
    "mapa_hid[\"geometry\"] = mapa_hid[\"geometry\"].to_crs(epsg = 4326)\n",
    "mapa_mor[\"geometry\"] = mapa_mor[\"geometry\"].to_crs(epsg = 4326)\n",
    "mapa_qto[\"geometry\"] = mapa_qto[\"geometry\"].to_crs(epsg = 4326)\n",
    "mapa_tlax[\"geometry\"] = mapa_tlax[\"geometry\"].to_crs(epsg = 4326)\n",
    "mapa_pue[\"geometry\"] = mapa_pue[\"geometry\"].to_crs(epsg = 4326)"
   ]
  },
  {
   "cell_type": "markdown",
   "metadata": {},
   "source": [
    "GeoJSONs Generation:"
   ]
  },
  {
   "cell_type": "code",
   "execution_count": 11,
   "metadata": {},
   "outputs": [],
   "source": [
    "#GeoJSONs Generation\n",
    "mapa_mexico.to_file(\"../Resources/inegiMapData/geo_jsons/mexico.geojson\", driver=\"GeoJSON\")\n",
    "mapa_cdmx.to_file(\"../Resources/inegiMapData/geo_jsons/cdmx.geojson\", driver=\"GeoJSON\")\n",
    "mapa_hid.to_file(\"../Resources/inegiMapData/geo_jsons/hid.geojson\", driver=\"GeoJSON\")\n",
    "mapa_mor.to_file(\"../Resources/inegiMapData/geo_jsons/mor.geojson\", driver=\"GeoJSON\")\n",
    "mapa_qto.to_file(\"../Resources/inegiMapData/geo_jsons/qto.geojson\", driver=\"GeoJSON\")\n",
    "mapa_tlax.to_file(\"../Resources/inegiMapData/geo_jsons/tlax.geojson\", driver=\"GeoJSON\")\n",
    "mapa_pue.to_file(\"../Resources/inegiMapData/geo_jsons/pue.geojson\", driver=\"GeoJSON\")"
   ]
  }
 ],
 "metadata": {
  "kernelspec": {
   "display_name": "Python 3",
   "language": "python",
   "name": "python3"
  },
  "language_info": {
   "codemirror_mode": {
    "name": "ipython",
    "version": 3
   },
   "file_extension": ".py",
   "mimetype": "text/x-python",
   "name": "python",
   "nbconvert_exporter": "python",
   "pygments_lexer": "ipython3",
   "version": "3.6.8"
  }
 },
 "nbformat": 4,
 "nbformat_minor": 2
}
