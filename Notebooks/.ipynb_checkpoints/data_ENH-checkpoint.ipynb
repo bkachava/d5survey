{
 "cells": [
  {
   "cell_type": "markdown",
   "metadata": {},
   "source": [
    "# D5 - Project 2\n",
    "----\n",
    "\n",
    "### Summary\n",
    "This notebook shows the process we followed to clean, explore and analyze the data set that contains\n",
    "information about the __National Household Survey__.\n",
    "\n",
    "---"
   ]
  },
  {
   "cell_type": "code",
   "execution_count": 1,
   "metadata": {},
   "outputs": [],
   "source": [
    "# Dependencies\n",
    "import pandas as pd"
   ]
  },
  {
   "cell_type": "code",
   "execution_count": 28,
   "metadata": {},
   "outputs": [
    {
     "data": {
      "text/plain": [
       "folioviv      56680\n",
       "tipo_viv      56680\n",
       "condominio    56680\n",
       "elevador      56680\n",
       "mat_pared     56680\n",
       "mat_techos    56680\n",
       "mat_pisos     56680\n",
       "ais_techos    56680\n",
       "ais_pared     56680\n",
       "ais_ventan    56680\n",
       "ais_otro      56680\n",
       "antiguedad    56680\n",
       "cocina        56680\n",
       "cocina_dor    56680\n",
       "cuart_dorm    56680\n",
       "num_cuarto    56680\n",
       "disp_agua     56680\n",
       "dotac_agua    56680\n",
       "excusado      56680\n",
       "uso_compar    56680\n",
       "sanit_agua    56680\n",
       "bano_comp     56680\n",
       "bano_excus    56680\n",
       "bano_regad    56680\n",
       "drenaje       56680\n",
       "disp_elect    56680\n",
       "anio_panel    56680\n",
       "panel_ne      56680\n",
       "pot_panel     56680\n",
       "potencia      56680\n",
       "              ...  \n",
       "mes_res       56680\n",
       "familiar      56680\n",
       "tipo_adqui    56680\n",
       "financia_1    56680\n",
       "financia_2    56680\n",
       "financia_3    56680\n",
       "financia_4    56680\n",
       "financia_5    56680\n",
       "financia_6    56680\n",
       "financia_7    56680\n",
       "financia_8    56680\n",
       "num_dueno1    56680\n",
       "hog_dueno1    56680\n",
       "num_dueno2    56680\n",
       "hog_dueno2    56680\n",
       "escrituras    56680\n",
       "computador    56680\n",
       "tel_fijo      56680\n",
       "celular       56680\n",
       "internet      56680\n",
       "tv_paga       56680\n",
       "auto_pick     56680\n",
       "tot_hog       56680\n",
       "ubica_geo     56680\n",
       "ageb          56680\n",
       "tam_loc       56680\n",
       "est_socio     56680\n",
       "est_dis       56680\n",
       "upm           56680\n",
       "factor        56680\n",
       "Length: 110, dtype: int64"
      ]
     },
     "execution_count": 28,
     "metadata": {},
     "output_type": "execute_result"
    }
   ],
   "source": [
    "# National Household Survey\n",
    "# In the repository the csv file is stored as a zip file to avoid conflicts with Git\n",
    "\n",
    "# Características de las viviendas que habitan los integrantes de los hogares encuestados\n",
    "\n",
    "# Save path to data set in a variable\n",
    "vivienda_file = \"../Resources/vivienda.csv\"\n",
    "\n",
    "# Use Pandas to read data - Main file PK folioviv\n",
    "vivienda_df = pd.read_csv(vivienda_file, low_memory=False) \n",
    "\n",
    "# Show the results\n",
    "vivienda_df.count()"
   ]
  },
  {
   "cell_type": "code",
   "execution_count": 3,
   "metadata": {},
   "outputs": [
    {
     "data": {
      "text/plain": [
       "folioviv      57519\n",
       "foliohog      57519\n",
       "huespedes     57519\n",
       "huesp_come    57519\n",
       "trabaja_do    57519\n",
       "cuid_perso    57519\n",
       "lavandero     57519\n",
       "chofer        57519\n",
       "cocinero      57519\n",
       "jardinero     57519\n",
       "tot_integ     57519\n",
       "tot_hom       57519\n",
       "tot_muj       57519\n",
       "dtype: int64"
      ]
     },
     "execution_count": 3,
     "metadata": {},
     "output_type": "execute_result"
    }
   ],
   "source": [
    "# Características de los hogares\n",
    "# Save path to data set in a variable\n",
    "hogar_file = \"../Resources/hogar.csv\"\n",
    "\n",
    "# Use Pandas to read data - 1st Aux file PK foliohog  FK folioviv\n",
    "hogar_df = pd.read_csv(hogar_file, low_memory=False) \n",
    "\n",
    "# Show the results\n",
    "hogar_df.count()"
   ]
  },
  {
   "cell_type": "code",
   "execution_count": 29,
   "metadata": {},
   "outputs": [
    {
     "data": {
      "text/plain": [
       "folioviv      208140\n",
       "foliohog      208140\n",
       "id_pobla      208140\n",
       "edad          208140\n",
       "nacio_dia     208140\n",
       "nacio_mes     208140\n",
       "sexo          208140\n",
       "parentesco    208140\n",
       "asiste_esc    208140\n",
       "tipo_esc      208140\n",
       "turno_esc     208140\n",
       "tiene_beca    208140\n",
       "otorg_beca    208140\n",
       "forma_beca    208140\n",
       "no_asiste     208140\n",
       "grado_inst    208140\n",
       "nivel_inst    208140\n",
       "residencia    208140\n",
       "alfabetism    208140\n",
       "edo_conyug    208140\n",
       "trabajo_sp    208140\n",
       "motivo_aus    208140\n",
       "act_buscot    208140\n",
       "act_pensio    208140\n",
       "act_quehac    208140\n",
       "act_estudi    208140\n",
       "act_discap    208140\n",
       "act_otra      208140\n",
       "num_trabaj    208140\n",
       "subor         208140\n",
       "indep         208140\n",
       "personal      208140\n",
       "pago          208140\n",
       "contrato      208140\n",
       "lentes        208140\n",
       "dif_ver       208140\n",
       "a_auditivo    208140\n",
       "dif_oir       208140\n",
       "sin_ruido     208140\n",
       "con_ruido     208140\n",
       "dif_camina    208140\n",
       "usa_aparat    208140\n",
       "ap_caminar    208140\n",
       "cam_100mts    208140\n",
       "cam_500mts    208140\n",
       "sube_12esc    208140\n",
       "dif_record    208140\n",
       "frec_nerv     208140\n",
       "med_nerv      208140\n",
       "inte_nerv     208140\n",
       "frec_depre    208140\n",
       "med_depre     208140\n",
       "inte_depre    208140\n",
       "frec_dolor    208140\n",
       "inte_dolor    208140\n",
       "frec_cansa    208140\n",
       "tiem_cansa    208140\n",
       "inte_cansa    208140\n",
       "dtype: int64"
      ]
     },
     "execution_count": 29,
     "metadata": {},
     "output_type": "execute_result"
    }
   ],
   "source": [
    "# Contiene características sociodemográficas y ocupacionales de los integrantes del hogar.\n",
    "# Save path to data set in a variable\n",
    "persona_file = \"../Resources/persona.csv\"\n",
    "\n",
    "# Use Pandas to read data - 2nd Aux file PK id_pobla  FK folioviv, foliohog\n",
    "persona_df = pd.read_csv(persona_file, low_memory=False) \n",
    "\n",
    "# Show the results\n",
    "persona_df.count()"
   ]
  },
  {
   "cell_type": "markdown",
   "metadata": {},
   "source": [
    "## Vivienda"
   ]
  },
  {
   "cell_type": "code",
   "execution_count": 5,
   "metadata": {},
   "outputs": [
    {
     "name": "stdout",
     "output_type": "stream",
     "text": [
      "<class 'pandas.core.frame.DataFrame'>\n",
      "Int64Index: 1776 entries, 13805 to 15580\n",
      "Columns: 110 entries, folioviv to factor\n",
      "dtypes: int64(64), object(46)\n",
      "memory usage: 1.5+ MB\n"
     ]
    }
   ],
   "source": [
    "# Only Mexico City data from the main file\n",
    "viv_cdmx_df = vivienda_df.loc[(vivienda_df[\"folioviv\"] > 899999999) & (vivienda_df[\"folioviv\"] < 1000000000), :]\n",
    "viv_cdmx_df.info()"
   ]
  },
  {
   "cell_type": "code",
   "execution_count": 6,
   "metadata": {},
   "outputs": [
    {
     "data": {
      "text/plain": [
       "90070000    300\n",
       "90050000    191\n",
       "90120000    165\n",
       "90150000    156\n",
       "90100000    138\n",
       "90030000    132\n",
       "90170000    107\n",
       "90140000    103\n",
       "90020000     92\n",
       "90060000     85\n",
       "90110000     84\n",
       "90130000     59\n",
       "90160000     59\n",
       "90040000     42\n",
       "90080000     40\n",
       "90090000     23\n",
       "Name: ubica_geo, dtype: int64"
      ]
     },
     "execution_count": 6,
     "metadata": {},
     "output_type": "execute_result"
    }
   ],
   "source": [
    "# Ubicación geográfica\n",
    "# Para CDMX el primer dígito representa la clave de la entidad, los siguientes tres la clave del\n",
    "# municipio y los últimos cuatro la clave de la localidad.\n",
    "# 007 Iztapalapa  005 Gustavo A. Madero   012 Tlalpan  015 Cuauhtémoc   010 Álvaro Obregón  003 Coyoacán \n",
    "# 017 Venustiano Carranza  014 Benito Juárez  002 Azcapotzalco  006 Iztacalco  011 Tláhuac  013 Xochimilco \n",
    "# 016 Miguel Hidalgo  004 Cuajimalpa de Morelos  008 La Magdalena Contreras  009 Milpa Alta\n",
    "\n",
    "viv_cdmx_df['ubica_geo'].value_counts()"
   ]
  },
  {
   "cell_type": "markdown",
   "metadata": {},
   "source": [
    "# Variables 'Vivienda' elegidas para el Proyecto:\n",
    "\n",
    "\n",
    "•\ttipo_viv: Tipo de vivienda C (1)\n",
    "•\tnum_cuarto: Número de cuartos N (2)\n",
    "•\tdisp_agua: Disponibilidad de agua C (1)\n",
    "•\texcusado: Tiene excusado C (1)\n",
    "•\tdrenaje: Destino de drenaje C (1)\n",
    "•\tdisp_elect: Disponibilidad eléctrica C (1)\n",
    "•\ttanque_gas: Dispone de tanque de gas\n",
    "•\testacionario C (1)\n",
    "•\ttenencia: Tipo de tenencia de la vivienda C (1)\n",
    "•\tpago_renta: Pago de renta de vivienda N (5)\n",
    "•\tanio_res: Años residiendo en la vivienda N (2)\n",
    "•\tcomputador: Disponibilidad de computadora C (1)\n",
    "•\ttel_fijo: Disponibilidad de línea telefónica fija C (1)\n",
    "•\tcelular: Disponibilidad de teléfono celular C (1)\n",
    "•\tinternet: Disponibilidad de internet C (1)\n",
    "•\ttv_paga: Disponibilidad de servicio de\n",
    "•\ttelevisión de paga C (1)\n",
    "•\tauto_pick: Disponibilidad de automóvil propio C (1)\n",
    "•\ttot_hog: Total de hogares en la vivienda N (2)"
   ]
  },
  {
   "cell_type": "code",
   "execution_count": 7,
   "metadata": {},
   "outputs": [
    {
     "data": {
      "text/plain": [
       "1    1184\n",
       "2     550\n",
       "3      33\n",
       "4       5\n",
       "&       4\n",
       "Name: tipo_viv, dtype: int64"
      ]
     },
     "execution_count": 7,
     "metadata": {},
     "output_type": "execute_result"
    }
   ],
   "source": [
    "# APARTADO A. RESIDENTES E IDENTIFICACIÓN DE HOGARES EN LA VIVIENDA\n",
    "# 1. Esta vivienda es:  1 Casa independiente  2 Departamento en condominio vertical\n",
    "# 3 Vivienda en vecindad 4 Vivienda en cuarto de azotea 5 Local no construido para habitación\n",
    "\n",
    "viv_cdmx_df['tipo_viv'].value_counts()"
   ]
  },
  {
   "cell_type": "code",
   "execution_count": 8,
   "metadata": {},
   "outputs": [
    {
     "data": {
      "text/plain": [
       "4     503\n",
       "5     364\n",
       "3     347\n",
       "6     168\n",
       "2     162\n",
       "1     102\n",
       "7      67\n",
       "8      25\n",
       "9      19\n",
       "10     11\n",
       "11      4\n",
       "12      3\n",
       "15      1\n",
       "Name: num_cuarto, dtype: int64"
      ]
     },
     "execution_count": 8,
     "metadata": {},
     "output_type": "execute_result"
    }
   ],
   "source": [
    "# APARTADO A. RESIDENTES E IDENTIFICACIÓN DE HOGARES EN LA VIVIENDA\n",
    "#¿Cuántos cuartos tiene en total esta vivienda, contando la cocina? \n",
    "#(No cuente pasillos ni baños) ANOTE EL NÚMERO\n",
    "\n",
    "viv_cdmx_df['num_cuarto'].value_counts()"
   ]
  },
  {
   "cell_type": "code",
   "execution_count": 9,
   "metadata": {},
   "outputs": [
    {
     "data": {
      "text/plain": [
       "1    1561\n",
       "2     197\n",
       "5      13\n",
       "3       4\n",
       "4       1\n",
       "Name: disp_agua, dtype: int64"
      ]
     },
     "execution_count": 9,
     "metadata": {},
     "output_type": "execute_result"
    }
   ],
   "source": [
    "#¿En esta vivienda tienen... 1. agua entubada dentro de la vivienda?. 2.agua entubada fuera de la vivienda, pero dentro del terreno?\n",
    "#3.agua entubada de llave pública (o hidrante)? 4. agua entubada que acarrean de otra vivienda?\n",
    "#5.agua de pipa? 6. agua de un pozo, río, lago, arroyo u otra?\n",
    "viv_cdmx_df['disp_agua'].value_counts()"
   ]
  },
  {
   "cell_type": "code",
   "execution_count": 10,
   "metadata": {},
   "outputs": [
    {
     "data": {
      "text/plain": [
       "1    1771\n",
       "2       5\n",
       "Name: excusado, dtype: int64"
      ]
     },
     "execution_count": 10,
     "metadata": {},
     "output_type": "execute_result"
    }
   ],
   "source": [
    "# 12. ¿Tienen excusado, retrete, sanitario, letrina u hoyo negro? 1.SI 2.NO\n",
    "viv_cdmx_df['excusado'].value_counts()"
   ]
  },
  {
   "cell_type": "code",
   "execution_count": 11,
   "metadata": {},
   "outputs": [
    {
     "data": {
      "text/plain": [
       "1    1658\n",
       "2     100\n",
       "3      16\n",
       "5       2\n",
       "Name: drenaje, dtype: int64"
      ]
     },
     "execution_count": 11,
     "metadata": {},
     "output_type": "execute_result"
    }
   ],
   "source": [
    "#16 ¿Esta vivienda tiene drenaje o desagüe conectado a... 1. la red pública? 2. una fosa séptica?\n",
    "# 3.una tubería que va a dar a una barranca o grieta? 4. una tubería que va a dar a un río, lago o mar?.\n",
    "# 5.¿No tiene drenaje?\n",
    "viv_cdmx_df['drenaje'].value_counts()"
   ]
  },
  {
   "cell_type": "code",
   "execution_count": 12,
   "metadata": {},
   "outputs": [
    {
     "data": {
      "text/plain": [
       "1    1776\n",
       "Name: disp_elect, dtype: int64"
      ]
     },
     "execution_count": 12,
     "metadata": {},
     "output_type": "execute_result"
    }
   ],
   "source": [
    "#17. ¿En esta vivienda, la luz eléctrica la obtienen... 1. del servicio público? 2. de una planta particular?\n",
    "# 3. de panel solar? 4.de otra fuente? 5.¿No tiene luz eléctrica?\n",
    "viv_cdmx_df['disp_elect'].value_counts()"
   ]
  },
  {
   "cell_type": "code",
   "execution_count": 14,
   "metadata": {},
   "outputs": [
    {
     "data": {
      "text/plain": [
       "2    1246\n",
       "1     530\n",
       "Name: tanque_gas, dtype: int64"
      ]
     },
     "execution_count": 14,
     "metadata": {},
     "output_type": "execute_result"
    }
   ],
   "source": [
    "#22. ¿Esta vivienda tiene...\n",
    "#lavadero? 1.SI 2.NO\n",
    "#calentador de gas u otros? 1.SI 2.NO\n",
    "#fregadero o tarja? 1.SI 2.NO\n",
    "#medidor de luz? 1.SI 2.NO\n",
    "#regadera? 1.SI 2.NO\n",
    "#bomba de agua? 1.SI 2.NO\n",
    "#regadera eléctrica?  1.SI 2.NO\n",
    "#tanque de gas estacionario? 1.SI 2.NO\n",
    "#tinaco en la azotea? 1.SI 2.NO\n",
    "#aire acondicionado? 1.SI 2.NO\n",
    "#cisterna o aljibe? 1.SI 2.NO\n",
    "#pileta, tanque o depósito de agua? 1.SI 2.NO\n",
    "#chimenea o calentón de leña? 1.SI 2.NO\n",
    "#calentador solar de agua? 1.SI 2.NO\n",
    "viv_cdmx_df['tanque_gas'].value_counts()"
   ]
  },
  {
   "cell_type": "code",
   "execution_count": 15,
   "metadata": {},
   "outputs": [
    {
     "data": {
      "text/plain": [
       "4    776\n",
       "1    400\n",
       "2    370\n",
       "3    117\n",
       "5    102\n",
       "6     11\n",
       "Name: tenencia, dtype: int64"
      ]
     },
     "execution_count": 15,
     "metadata": {},
     "output_type": "execute_result"
    }
   ],
   "source": [
    "# APARTADO D. CARACTERÍSTICAS DE LA VIVIENDA (Sólo para el hogar principal)\n",
    "# 28. ¿Esta vivienda...1 es rentada?   2 es prestada?   3 es propia pero la están pagando?\n",
    "# 4 es propia?   5 está intestada o en litigio?   6 ¿Otra situación?\n",
    "viv_cdmx_df['tenencia'].value_counts()"
   ]
  },
  {
   "cell_type": "code",
   "execution_count": 16,
   "metadata": {},
   "outputs": [
    {
     "data": {
      "text/plain": [
       "         1376\n",
       "2000       31\n",
       "2500       29\n",
       "1500       26\n",
       "3000       21\n",
       "5000       20\n",
       "3500       19\n",
       "1800       15\n",
       "1000       13\n",
       "4500       13\n",
       "1200       13\n",
       "4000       11\n",
       "6000       10\n",
       "1600        7\n",
       "7000        7\n",
       "500         7\n",
       "2800        6\n",
       "5500        6\n",
       "15000       6\n",
       "6500        6\n",
       "9000        5\n",
       "8000        5\n",
       "1400        5\n",
       "2700        5\n",
       "2100        5\n",
       "2200        5\n",
       "2300        5\n",
       "1700        5\n",
       "10000       4\n",
       "13000       4\n",
       "         ... \n",
       "40000       1\n",
       "1150        1\n",
       "35000       1\n",
       "10200       1\n",
       "5130        1\n",
       "3050        1\n",
       "18000       1\n",
       "20000       1\n",
       "9500        1\n",
       "24000       1\n",
       "3400        1\n",
       "22000       1\n",
       "1900        1\n",
       "1450        1\n",
       "2750        1\n",
       "31000       1\n",
       "11500       1\n",
       "8800        1\n",
       "7800        1\n",
       "21000       1\n",
       "3700        1\n",
       "3600        1\n",
       "6800        1\n",
       "6400        1\n",
       "30000       1\n",
       "1250        1\n",
       "8400        1\n",
       "6150        1\n",
       "36000       1\n",
       "600         1\n",
       "Name: pago_renta, Length: 85, dtype: int64"
      ]
     },
     "execution_count": 16,
     "metadata": {},
     "output_type": "execute_result"
    }
   ],
   "source": [
    "# APARTADO D. CARACTERÍSTICAS DE LA VIVIENDA (Sólo para el hogar principal)\n",
    "# 29. ¿Cuánto se paga mensualmente por la renta de esta vivienda?\n",
    "viv_cdmx_df['pago_renta'].value_counts() "
   ]
  },
  {
   "cell_type": "code",
   "execution_count": 17,
   "metadata": {},
   "outputs": [
    {
     "data": {
      "text/plain": [
       "         1376\n",
       "2000       31\n",
       "2500       29\n",
       "1500       26\n",
       "3000       21\n",
       "5000       20\n",
       "3500       19\n",
       "1800       15\n",
       "1000       13\n",
       "4500       13\n",
       "1200       13\n",
       "4000       11\n",
       "6000       10\n",
       "1600        7\n",
       "7000        7\n",
       "500         7\n",
       "2800        6\n",
       "5500        6\n",
       "15000       6\n",
       "6500        6\n",
       "9000        5\n",
       "8000        5\n",
       "1400        5\n",
       "2700        5\n",
       "2100        5\n",
       "2200        5\n",
       "2300        5\n",
       "1700        5\n",
       "10000       4\n",
       "13000       4\n",
       "         ... \n",
       "40000       1\n",
       "1150        1\n",
       "35000       1\n",
       "10200       1\n",
       "5130        1\n",
       "3050        1\n",
       "18000       1\n",
       "20000       1\n",
       "9500        1\n",
       "24000       1\n",
       "3400        1\n",
       "22000       1\n",
       "1900        1\n",
       "1450        1\n",
       "2750        1\n",
       "31000       1\n",
       "11500       1\n",
       "8800        1\n",
       "7800        1\n",
       "21000       1\n",
       "3700        1\n",
       "3600        1\n",
       "6800        1\n",
       "6400        1\n",
       "30000       1\n",
       "1250        1\n",
       "8400        1\n",
       "6150        1\n",
       "36000       1\n",
       "600         1\n",
       "Name: pago_renta, Length: 85, dtype: int64"
      ]
     },
     "execution_count": 17,
     "metadata": {},
     "output_type": "execute_result"
    }
   ],
   "source": [
    "# APARTADO D. CARACTERÍSTICAS DE LA VIVIENDA (Sólo para el hogar principal)\n",
    "# 29. ¿Cuánto se paga mensualmente por la renta de esta vivienda?\n",
    "viv_cdmx_df['pago_renta'].value_counts() "
   ]
  },
  {
   "cell_type": "code",
   "execution_count": 18,
   "metadata": {},
   "outputs": [
    {
     "data": {
      "text/plain": [
       "      1376\n",
       "0       68\n",
       "1       60\n",
       "3       47\n",
       "2       44\n",
       "5       35\n",
       "4       24\n",
       "10      20\n",
       "15      16\n",
       "7       12\n",
       "6       10\n",
       "8       10\n",
       "30       7\n",
       "17       5\n",
       "20       5\n",
       "16       5\n",
       "12       4\n",
       "9        3\n",
       "25       3\n",
       "19       3\n",
       "13       3\n",
       "35       2\n",
       "47       2\n",
       "40       2\n",
       "14       2\n",
       "32       2\n",
       "50       1\n",
       "28       1\n",
       "27       1\n",
       "18       1\n",
       "29       1\n",
       "44       1\n",
       "Name: anio_res, dtype: int64"
      ]
     },
     "execution_count": 18,
     "metadata": {},
     "output_type": "execute_result"
    }
   ],
   "source": [
    "#¿Por cuánto tiempo ha rentado esta vivienda? \n",
    "viv_cdmx_df['anio_res'].value_counts()"
   ]
  },
  {
   "cell_type": "code",
   "execution_count": 19,
   "metadata": {},
   "outputs": [
    {
     "data": {
      "text/plain": [
       "1    970\n",
       "2    806\n",
       "Name: computador, dtype: int64"
      ]
     },
     "execution_count": 19,
     "metadata": {},
     "output_type": "execute_result"
    }
   ],
   "source": [
    "#¿En esta vivienda tienen...\n",
    "viv_cdmx_df['computador'].value_counts() "
   ]
  },
  {
   "cell_type": "code",
   "execution_count": 20,
   "metadata": {},
   "outputs": [
    {
     "data": {
      "text/plain": [
       "1    1226\n",
       "2     550\n",
       "Name: tel_fijo, dtype: int64"
      ]
     },
     "execution_count": 20,
     "metadata": {},
     "output_type": "execute_result"
    }
   ],
   "source": [
    "#¿En esta vivienda tienen...\n",
    "viv_cdmx_df['tel_fijo'].value_counts() "
   ]
  },
  {
   "cell_type": "code",
   "execution_count": 21,
   "metadata": {},
   "outputs": [
    {
     "data": {
      "text/plain": [
       "1    1643\n",
       "2     133\n",
       "Name: celular, dtype: int64"
      ]
     },
     "execution_count": 21,
     "metadata": {},
     "output_type": "execute_result"
    }
   ],
   "source": [
    "#¿En esta vivienda tienen...\n",
    "viv_cdmx_df['celular'].value_counts() "
   ]
  },
  {
   "cell_type": "code",
   "execution_count": 22,
   "metadata": {},
   "outputs": [
    {
     "data": {
      "text/plain": [
       "1    1281\n",
       "2     495\n",
       "Name: internet, dtype: int64"
      ]
     },
     "execution_count": 22,
     "metadata": {},
     "output_type": "execute_result"
    }
   ],
   "source": [
    "#¿En esta vivienda tienen...\n",
    "viv_cdmx_df['internet'].value_counts()"
   ]
  },
  {
   "cell_type": "code",
   "execution_count": 23,
   "metadata": {},
   "outputs": [
    {
     "data": {
      "text/plain": [
       "2    964\n",
       "1    812\n",
       "Name: tv_paga, dtype: int64"
      ]
     },
     "execution_count": 23,
     "metadata": {},
     "output_type": "execute_result"
    }
   ],
   "source": [
    "#¿En esta vivienda tienen...\n",
    "viv_cdmx_df['tv_paga'].value_counts()"
   ]
  },
  {
   "cell_type": "code",
   "execution_count": 24,
   "metadata": {},
   "outputs": [
    {
     "data": {
      "text/plain": [
       "2    992\n",
       "1    784\n",
       "Name: auto_pick, dtype: int64"
      ]
     },
     "execution_count": 24,
     "metadata": {},
     "output_type": "execute_result"
    }
   ],
   "source": [
    "#¿En esta vivienda tienen...\n",
    "viv_cdmx_df['auto_pick'].value_counts()"
   ]
  },
  {
   "cell_type": "code",
   "execution_count": 25,
   "metadata": {},
   "outputs": [
    {
     "data": {
      "text/plain": [
       "1    1765\n",
       "2       8\n",
       "3       3\n",
       "Name: tot_hog, dtype: int64"
      ]
     },
     "execution_count": 25,
     "metadata": {},
     "output_type": "execute_result"
    }
   ],
   "source": [
    "#¿Cuántos hogares o grupos de personas tienen gasto separado para comer contando el de usted?\n",
    "viv_cdmx_df['tot_hog'].value_counts()"
   ]
  },
  {
   "cell_type": "code",
   "execution_count": 60,
   "metadata": {},
   "outputs": [
    {
     "data": {
      "text/plain": [
       "1    1713\n",
       "2      31\n",
       "4      18\n",
       "3      14\n",
       "Name: tam_loc, dtype: int64"
      ]
     },
     "execution_count": 60,
     "metadata": {},
     "output_type": "execute_result"
    }
   ],
   "source": [
    "# Tamaño de localidad\n",
    "# 1 Localidades con 100 000 y más habitantes  2 Localidades con 15 000 a 99 999 habitantes\n",
    "# 3 Localidades con 2 500 a 14 999 habitantes  4 Localidades con menos de 2 500 habitantes\n",
    "viv_cdmx_df['tam_loc'].value_counts()"
   ]
  },
  {
   "cell_type": "code",
   "execution_count": 59,
   "metadata": {},
   "outputs": [
    {
     "data": {
      "text/plain": [
       "3    795\n",
       "2    728\n",
       "4    248\n",
       "1      5\n",
       "Name: est_socio, dtype: int64"
      ]
     },
     "execution_count": 59,
     "metadata": {},
     "output_type": "execute_result"
    }
   ],
   "source": [
    "# Estrato socioeconómico   1 Bajo   2 Medio bajo    3 Medio alto   4 Alto\n",
    "viv_cdmx_df['est_socio'].value_counts()"
   ]
  },
  {
   "cell_type": "code",
   "execution_count": 61,
   "metadata": {
    "collapsed": true
   },
   "outputs": [
    {
     "data": {
      "text/plain": [
       "2577    10\n",
       "2578     8\n",
       "2341     5\n",
       "2332     5\n",
       "2333     5\n",
       "2334     5\n",
       "2336     5\n",
       "2337     5\n",
       "2338     5\n",
       "2343     5\n",
       "2354     5\n",
       "2344     5\n",
       "2345     5\n",
       "2347     5\n",
       "2348     5\n",
       "2349     5\n",
       "2351     5\n",
       "2352     5\n",
       "2328     5\n",
       "2327     5\n",
       "2326     5\n",
       "2324     5\n",
       "2298     5\n",
       "2302     5\n",
       "2303     5\n",
       "2304     5\n",
       "2305     5\n",
       "2308     5\n",
       "2310     5\n",
       "2311     5\n",
       "        ..\n",
       "2505     3\n",
       "2300     3\n",
       "2424     3\n",
       "2513     3\n",
       "2275     3\n",
       "2516     3\n",
       "2317     3\n",
       "2521     3\n",
       "2529     3\n",
       "2378     3\n",
       "2530     3\n",
       "2241     3\n",
       "2540     3\n",
       "2374     3\n",
       "2360     3\n",
       "2230     3\n",
       "2468     3\n",
       "2350     3\n",
       "2476     3\n",
       "2485     2\n",
       "2473     2\n",
       "2399     2\n",
       "2525     2\n",
       "2526     2\n",
       "2233     2\n",
       "2527     2\n",
       "2448     2\n",
       "2507     2\n",
       "2201     2\n",
       "2480     2\n",
       "Name: upm, Length: 398, dtype: int64"
      ]
     },
     "execution_count": 61,
     "metadata": {},
     "output_type": "execute_result"
    }
   ],
   "source": [
    "# Unidad primaria de muestreo \n",
    "# Las unidades primarias de muestreo están constituidas por agrupaciones de viviendas con características \n",
    "# diferenciadas dependiendo del ámbito al que pertenecen. Estas unidades son seleccionadas en la primera \n",
    "# etapa del muestreo y corresponden a áreas geográficas con límites identificables en el terreno que agrupan un\n",
    "# conjunto de viviendas, cuyo número depende del tamaño de las localidades\n",
    "viv_cdmx_df['upm'].value_counts()"
   ]
  },
  {
   "cell_type": "code",
   "execution_count": 18,
   "metadata": {},
   "outputs": [
    {
     "data": {
      "text/plain": [
       "1    1184\n",
       "2     550\n",
       "3      33\n",
       "4       5\n",
       "&       4\n",
       "Name: tipo_viv, dtype: int64"
      ]
     },
     "execution_count": 18,
     "metadata": {},
     "output_type": "execute_result"
    }
   ],
   "source": [
    "# APARTADO A. RESIDENTES E IDENTIFICACIÓN DE HOGARES EN LA VIVIENDA\n",
    "# 1. Esta vivienda es:  1 Casa independiente  2 Departamento en condominio vertical\n",
    "# 3 Vivienda en vecindad 4 Vivienda en cuarto de azotea 5 Local no construido para habitación\n",
    "\n",
    "viv_cdmx_df['tipo_viv'].value_counts()"
   ]
  },
  {
   "cell_type": "code",
   "execution_count": 19,
   "metadata": {},
   "outputs": [
    {
     "data": {
      "text/plain": [
       "1    1765\n",
       "2       8\n",
       "3       3\n",
       "Name: tot_hog, dtype: int64"
      ]
     },
     "execution_count": 19,
     "metadata": {},
     "output_type": "execute_result"
    }
   ],
   "source": [
    "# APARTADO A. RESIDENTES E IDENTIFICACIÓN DE HOGARES EN LA VIVIENDA\n",
    "# HOGARES EN LA VIVIENDA\n",
    "# 2. ¿Cuántos hogares o grupos de personas tienen gasto separado para comer contando el de usted?\n",
    "viv_cdmx_df['tot_hog'].value_counts()"
   ]
  },
  {
   "cell_type": "code",
   "execution_count": 8,
   "metadata": {},
   "outputs": [
    {
     "data": {
      "text/plain": [
       "4    776\n",
       "1    400\n",
       "2    370\n",
       "3    117\n",
       "5    102\n",
       "6     11\n",
       "Name: tenencia, dtype: int64"
      ]
     },
     "execution_count": 8,
     "metadata": {},
     "output_type": "execute_result"
    }
   ],
   "source": [
    "# APARTADO D. CARACTERÍSTICAS DE LA VIVIENDA (Sólo para el hogar principal)\n",
    "# 28. ¿Esta vivienda...1 es rentada?   2 es prestada?   3 es propia pero la están pagando?\n",
    "# 4 es propia?   5 está intestada o en litigio?   6 ¿Otra situación?\n",
    "viv_cdmx_df['tenencia'].value_counts()"
   ]
  },
  {
   "cell_type": "code",
   "execution_count": 9,
   "metadata": {
    "collapsed": true
   },
   "outputs": [
    {
     "data": {
      "text/plain": [
       "         1376\n",
       "2000       31\n",
       "2500       29\n",
       "1500       26\n",
       "3000       21\n",
       "5000       20\n",
       "3500       19\n",
       "1800       15\n",
       "4500       13\n",
       "1200       13\n",
       "1000       13\n",
       "4000       11\n",
       "6000       10\n",
       "500         7\n",
       "7000        7\n",
       "1600        7\n",
       "2800        6\n",
       "5500        6\n",
       "6500        6\n",
       "15000       6\n",
       "2100        5\n",
       "1400        5\n",
       "2700        5\n",
       "9000        5\n",
       "8000        5\n",
       "2300        5\n",
       "1700        5\n",
       "2200        5\n",
       "800         4\n",
       "17000       4\n",
       "         ... \n",
       "11500       1\n",
       "1880        1\n",
       "8800        1\n",
       "5130        1\n",
       "38000       1\n",
       "35000       1\n",
       "1450        1\n",
       "8400        1\n",
       "31000       1\n",
       "6800        1\n",
       "6400        1\n",
       "40000       1\n",
       "8500        1\n",
       "5700        1\n",
       "3400        1\n",
       "7100        1\n",
       "3700        1\n",
       "5200        1\n",
       "36000       1\n",
       "21000       1\n",
       "1150        1\n",
       "30000       1\n",
       "18000       1\n",
       "9500        1\n",
       "24000       1\n",
       "6200        1\n",
       "22000       1\n",
       "6150        1\n",
       "7800        1\n",
       "2750        1\n",
       "Name: pago_renta, Length: 85, dtype: int64"
      ]
     },
     "execution_count": 9,
     "metadata": {},
     "output_type": "execute_result"
    }
   ],
   "source": [
    "# APARTADO D. CARACTERÍSTICAS DE LA VIVIENDA (Sólo para el hogar principal)\n",
    "# 29. ¿Cuánto se paga mensualmente por la renta de esta vivienda?\n",
    "viv_cdmx_df['pago_renta'].value_counts() "
   ]
  },
  {
   "cell_type": "code",
   "execution_count": 26,
   "metadata": {
    "collapsed": true
   },
   "outputs": [
    {
     "data": {
      "text/plain": [
       "folioviv       int64\n",
       "tipo_viv      object\n",
       "condominio    object\n",
       "elevador      object\n",
       "mat_pared      int64\n",
       "mat_techos     int64\n",
       "mat_pisos     object\n",
       "ais_techos     int64\n",
       "ais_pared      int64\n",
       "ais_ventan     int64\n",
       "ais_otro       int64\n",
       "antiguedad    object\n",
       "cocina         int64\n",
       "cocina_dor    object\n",
       "cuart_dorm     int64\n",
       "num_cuarto     int64\n",
       "disp_agua      int64\n",
       "dotac_agua    object\n",
       "excusado       int64\n",
       "uso_compar    object\n",
       "sanit_agua    object\n",
       "bano_comp     object\n",
       "bano_excus    object\n",
       "bano_regad    object\n",
       "drenaje        int64\n",
       "disp_elect     int64\n",
       "anio_panel    object\n",
       "panel_ne      object\n",
       "pot_panel     object\n",
       "potencia      object\n",
       "               ...  \n",
       "mes_res       object\n",
       "familiar      object\n",
       "tipo_adqui    object\n",
       "financia_1    object\n",
       "financia_2    object\n",
       "financia_3    object\n",
       "financia_4    object\n",
       "financia_5    object\n",
       "financia_6    object\n",
       "financia_7    object\n",
       "financia_8    object\n",
       "num_dueno1    object\n",
       "hog_dueno1    object\n",
       "num_dueno2    object\n",
       "hog_dueno2    object\n",
       "escrituras    object\n",
       "computador     int64\n",
       "tel_fijo       int64\n",
       "celular        int64\n",
       "internet       int64\n",
       "tv_paga        int64\n",
       "auto_pick      int64\n",
       "tot_hog        int64\n",
       "ubica_geo      int64\n",
       "ageb          object\n",
       "tam_loc        int64\n",
       "est_socio      int64\n",
       "est_dis        int64\n",
       "upm            int64\n",
       "factor         int64\n",
       "Length: 110, dtype: object"
      ]
     },
     "execution_count": 26,
     "metadata": {},
     "output_type": "execute_result"
    }
   ],
   "source": [
    "viv_cdmx_df.dtypes"
   ]
  },
  {
   "cell_type": "code",
   "execution_count": 25,
   "metadata": {},
   "outputs": [
    {
     "data": {
      "text/plain": [
       "dtype('O')"
      ]
     },
     "execution_count": 25,
     "metadata": {},
     "output_type": "execute_result"
    }
   ],
   "source": [
    "viv_cdmx_df['pago_renta'].dtype"
   ]
  },
  {
   "cell_type": "code",
   "execution_count": 55,
   "metadata": {
    "scrolled": true
   },
   "outputs": [],
   "source": [
    "# 29. ¿Cuánto se paga mensualmente por la renta de esta vivienda?\n",
    "red_df = viv_cdmx_df.loc[:, [\"folioviv\", \"pago_renta\"]]\n",
    "red_df['renta'] = red_df['pago_renta'].str.strip()\n",
    "red_df['renta'] = red_df['renta'].apply(pd.to_numeric, args=('coerce',))"
   ]
  },
  {
   "cell_type": "code",
   "execution_count": 62,
   "metadata": {},
   "outputs": [
    {
     "data": {
      "text/plain": [
       "1000-5000      270\n",
       "5000-7500       43\n",
       "<1000           31\n",
       "10000-20000     26\n",
       "7500-10000      19\n",
       ">20000           6\n",
       "Name: gpo_renta, dtype: int64"
      ]
     },
     "execution_count": 62,
     "metadata": {},
     "output_type": "execute_result"
    }
   ],
   "source": [
    "# 29. ¿Cuánto se paga mensualmente por la renta de esta vivienda?\n",
    "bins = [0, 1000, 5000, 7500, 10000, 20000, 30000]\n",
    "\n",
    "# Create the names for the bins\n",
    "group_names = [\"<1000\", \"1000-5000\", \"5000-7500\", \"7500-10000\", \"10000-20000\", \">20000\"]\n",
    "\n",
    "# Create df with the bins\n",
    "red_df[\"gpo_renta\"] = pd.cut(red_df['renta'], bins, labels=group_names)\n",
    "\n",
    "red_df[\"gpo_renta\"].value_counts()"
   ]
  },
  {
   "cell_type": "code",
   "execution_count": 10,
   "metadata": {},
   "outputs": [
    {
     "data": {
      "text/plain": [
       "1    970\n",
       "2    806\n",
       "Name: computador, dtype: int64"
      ]
     },
     "execution_count": 10,
     "metadata": {},
     "output_type": "execute_result"
    }
   ],
   "source": [
    "# APARTADO D. CARACTERÍSTICAS DE LA VIVIENDA (Sólo para el hogar principal)\n",
    "#36. ¿En esta vivienda tienen...\n",
    "viv_cdmx_df['computador'].value_counts() "
   ]
  },
  {
   "cell_type": "code",
   "execution_count": 11,
   "metadata": {},
   "outputs": [
    {
     "data": {
      "text/plain": [
       "1    1226\n",
       "2     550\n",
       "Name: tel_fijo, dtype: int64"
      ]
     },
     "execution_count": 11,
     "metadata": {},
     "output_type": "execute_result"
    }
   ],
   "source": [
    "#36. ¿En esta vivienda tienen...\n",
    "viv_cdmx_df['tel_fijo'].value_counts() "
   ]
  },
  {
   "cell_type": "code",
   "execution_count": 12,
   "metadata": {},
   "outputs": [
    {
     "data": {
      "text/plain": [
       "1    1643\n",
       "2     133\n",
       "Name: celular, dtype: int64"
      ]
     },
     "execution_count": 12,
     "metadata": {},
     "output_type": "execute_result"
    }
   ],
   "source": [
    "#36. ¿En esta vivienda tienen...\n",
    "viv_cdmx_df['celular'].value_counts() "
   ]
  },
  {
   "cell_type": "code",
   "execution_count": 13,
   "metadata": {},
   "outputs": [
    {
     "data": {
      "text/plain": [
       "1    1281\n",
       "2     495\n",
       "Name: internet, dtype: int64"
      ]
     },
     "execution_count": 13,
     "metadata": {},
     "output_type": "execute_result"
    }
   ],
   "source": [
    "#36. ¿En esta vivienda tienen...\n",
    "viv_cdmx_df['internet'].value_counts()"
   ]
  },
  {
   "cell_type": "code",
   "execution_count": 14,
   "metadata": {},
   "outputs": [
    {
     "data": {
      "text/plain": [
       "2    964\n",
       "1    812\n",
       "Name: tv_paga, dtype: int64"
      ]
     },
     "execution_count": 14,
     "metadata": {},
     "output_type": "execute_result"
    }
   ],
   "source": [
    "#36. ¿En esta vivienda tienen...\n",
    "viv_cdmx_df['tv_paga'].value_counts()"
   ]
  },
  {
   "cell_type": "code",
   "execution_count": 15,
   "metadata": {},
   "outputs": [
    {
     "data": {
      "text/plain": [
       "2    992\n",
       "1    784\n",
       "Name: auto_pick, dtype: int64"
      ]
     },
     "execution_count": 15,
     "metadata": {},
     "output_type": "execute_result"
    }
   ],
   "source": [
    "#36. ¿En esta vivienda tienen...\n",
    "viv_cdmx_df['auto_pick'].value_counts()"
   ]
  },
  {
   "cell_type": "markdown",
   "metadata": {},
   "source": [
    "## Persona"
   ]
  },
  {
   "cell_type": "code",
   "execution_count": 30,
   "metadata": {},
   "outputs": [
    {
     "name": "stdout",
     "output_type": "stream",
     "text": [
      "<class 'pandas.core.frame.DataFrame'>\n",
      "Int64Index: 5901 entries, 50355 to 56255\n",
      "Data columns (total 58 columns):\n",
      "folioviv      5901 non-null int64\n",
      "foliohog      5901 non-null int64\n",
      "id_pobla      5901 non-null int64\n",
      "edad          5901 non-null int64\n",
      "nacio_dia     5901 non-null object\n",
      "nacio_mes     5901 non-null object\n",
      "sexo          5901 non-null int64\n",
      "parentesco    5901 non-null int64\n",
      "asiste_esc    5901 non-null object\n",
      "tipo_esc      5901 non-null object\n",
      "turno_esc     5901 non-null object\n",
      "tiene_beca    5901 non-null object\n",
      "otorg_beca    5901 non-null object\n",
      "forma_beca    5901 non-null object\n",
      "no_asiste     5901 non-null object\n",
      "grado_inst    5901 non-null object\n",
      "nivel_inst    5901 non-null object\n",
      "residencia    5901 non-null object\n",
      "alfabetism    5901 non-null object\n",
      "edo_conyug    5901 non-null object\n",
      "trabajo_sp    5901 non-null object\n",
      "motivo_aus    5901 non-null object\n",
      "act_buscot    5901 non-null object\n",
      "act_pensio    5901 non-null object\n",
      "act_quehac    5901 non-null object\n",
      "act_estudi    5901 non-null object\n",
      "act_discap    5901 non-null object\n",
      "act_otra      5901 non-null object\n",
      "num_trabaj    5901 non-null object\n",
      "subor         5901 non-null object\n",
      "indep         5901 non-null object\n",
      "personal      5901 non-null object\n",
      "pago          5901 non-null object\n",
      "contrato      5901 non-null object\n",
      "lentes        5901 non-null object\n",
      "dif_ver       5901 non-null object\n",
      "a_auditivo    5901 non-null object\n",
      "dif_oir       5901 non-null object\n",
      "sin_ruido     5901 non-null object\n",
      "con_ruido     5901 non-null object\n",
      "dif_camina    5901 non-null object\n",
      "usa_aparat    5901 non-null object\n",
      "ap_caminar    5901 non-null object\n",
      "cam_100mts    5901 non-null object\n",
      "cam_500mts    5901 non-null object\n",
      "sube_12esc    5901 non-null object\n",
      "dif_record    5901 non-null object\n",
      "frec_nerv     5901 non-null object\n",
      "med_nerv      5901 non-null object\n",
      "inte_nerv     5901 non-null object\n",
      "frec_depre    5901 non-null object\n",
      "med_depre     5901 non-null object\n",
      "inte_depre    5901 non-null object\n",
      "frec_dolor    5901 non-null object\n",
      "inte_dolor    5901 non-null object\n",
      "frec_cansa    5901 non-null object\n",
      "tiem_cansa    5901 non-null object\n",
      "inte_cansa    5901 non-null object\n",
      "dtypes: int64(6), object(52)\n",
      "memory usage: 2.7+ MB\n"
     ]
    }
   ],
   "source": [
    "# Only Mexico City data from the persona file\n",
    "per_cdmx_df = persona_df.loc[(persona_df[\"folioviv\"] > 899999999) & (persona_df[\"folioviv\"] < 1000000000), :]\n",
    "per_cdmx_df.info()"
   ]
  },
  {
   "cell_type": "markdown",
   "metadata": {},
   "source": [
    "# Variables 'Personas' elegidas para el Proyecto:\n",
    "\n",
    "\n",
    "•\tedad: Edad N (3)\n",
    "•\tsexo: Sexo C (1)\n",
    "•\tnivel_inst: Nivel de instrucción C (2)\n",
    "•\talfabetism: Alfabetismo C (1)\n",
    "•\tedo_conyug: Estado conyugal C (1)\n",
    "•\tact_buscot: Actividad busca de empleo C (1)\n",
    "•\tact_pensio: Actividad pensionado o jubilado C (1)\n",
    "•\tact_quehac: Actividad quehaceres del hogar C (1)\n",
    "•\tact_estudi: Actividad estudiante C (1)\n",
    "•\tact_discap: Actividad limitación física o mental C (1)\n",
    "•\tact_otra: Actividad de otra situación diferente C (1)\n",
    "•\tnum_trabaj: Números de trabajos C (1)"
   ]
  },
  {
   "cell_type": "code",
   "execution_count": 64,
   "metadata": {
    "collapsed": true
   },
   "outputs": [
    {
     "data": {
      "text/plain": [
       "40    118\n",
       "35    113\n",
       "22    111\n",
       "24    108\n",
       "30    107\n",
       "42    105\n",
       "23     98\n",
       "27     98\n",
       "19     95\n",
       "29     95\n",
       "26     95\n",
       "32     95\n",
       "60     94\n",
       "45     93\n",
       "25     93\n",
       "18     93\n",
       "43     90\n",
       "50     89\n",
       "17     88\n",
       "39     87\n",
       "33     87\n",
       "20     87\n",
       "52     86\n",
       "21     85\n",
       "5      85\n",
       "34     84\n",
       "16     84\n",
       "31     82\n",
       "55     82\n",
       "46     82\n",
       "     ... \n",
       "67     51\n",
       "62     51\n",
       "70     47\n",
       "69     44\n",
       "76     36\n",
       "66     35\n",
       "73     29\n",
       "75     28\n",
       "77     28\n",
       "78     26\n",
       "74     25\n",
       "80     20\n",
       "71     19\n",
       "82     17\n",
       "79     16\n",
       "85     13\n",
       "84     11\n",
       "83     11\n",
       "86      9\n",
       "88      7\n",
       "87      7\n",
       "93      5\n",
       "81      4\n",
       "90      4\n",
       "91      4\n",
       "89      3\n",
       "94      3\n",
       "92      3\n",
       "97      2\n",
       "95      1\n",
       "Name: edad, Length: 97, dtype: int64"
      ]
     },
     "execution_count": 64,
     "metadata": {},
     "output_type": "execute_result"
    }
   ],
   "source": [
    "# APARTADO B. CARACTERÍSTICAS DE LOS INTEGRANTES DEL HOGAR, EDUCACIÓN Y OCUPACIÓN PARA TODAS LAS PERSONAS DEL HOGAR\n",
    "# 2. ¿Cuántos años cumplidos tiene ?\n",
    "per_cdmx_df['edad'].value_counts()"
   ]
  },
  {
   "cell_type": "code",
   "execution_count": 31,
   "metadata": {},
   "outputs": [
    {
     "data": {
      "text/plain": [
       "2    3057\n",
       "1    2844\n",
       "Name: sexo, dtype: int64"
      ]
     },
     "execution_count": 31,
     "metadata": {},
     "output_type": "execute_result"
    }
   ],
   "source": [
    "# 2. es... 1.hombre 2.mujer\n",
    "per_cdmx_df['sexo'].value_counts()"
   ]
  },
  {
   "cell_type": "code",
   "execution_count": 65,
   "metadata": {},
   "outputs": [
    {
     "data": {
      "text/plain": [
       "03    1279\n",
       "02    1195\n",
       "10    1164\n",
       "04    1155\n",
       "01     196\n",
       "       193\n",
       "07     189\n",
       "00     185\n",
       "11     132\n",
       "08     106\n",
       "06      39\n",
       "12      34\n",
       "09      24\n",
       "05      10\n",
       "Name: nivel_inst, dtype: int64"
      ]
     },
     "execution_count": 65,
     "metadata": {},
     "output_type": "execute_result"
    }
   ],
   "source": [
    "# 13. ¿Cuál es el último año o grado que aprobó en la escuela?    Nivel de instrucción\n",
    "# 03 Secundaria   02 Primaria   10 Licenciatura o profesional  04 Preparatoria o bachillerato  \n",
    "# 00 Ninguno  01 Preescolar   05 Normal básica  06 Estudios técnicos o comerciales con primaria terminada  \n",
    "# 07 Estudios técnicos o comerciales con secundaria terminada 08 Estudios técnicos o comerciales con \n",
    "# preparatoria terminada   09 Normal de licenciatura   11 Maestría   12 Doctorado\n",
    "per_cdmx_df['nivel_inst'].value_counts()"
   ]
  },
  {
   "cell_type": "code",
   "execution_count": 32,
   "metadata": {},
   "outputs": [
    {
     "data": {
      "text/plain": [
       "     5793\n",
       "1     108\n",
       "Name: act_buscot, dtype: int64"
      ]
     },
     "execution_count": 32,
     "metadata": {},
     "output_type": "execute_result"
    }
   ],
   "source": [
    "#APARTADO B. CARACTERÍSTICAS DE LOS INTEGRANTES DEL HOGAR, EDUCACIÓN Y OCUPACIÓN\n",
    "#¿Entonces la semana pasada,\n",
    "#1 estuvo buscando trabajo?\n",
    "per_cdmx_df['act_buscot'].value_counts()"
   ]
  },
  {
   "cell_type": "code",
   "execution_count": 33,
   "metadata": {},
   "outputs": [
    {
     "data": {
      "text/plain": [
       "     5572\n",
       "2     329\n",
       "Name: act_pensio, dtype: int64"
      ]
     },
     "execution_count": 33,
     "metadata": {},
     "output_type": "execute_result"
    }
   ],
   "source": [
    "#2 es pensionado o jubilado?\n",
    "per_cdmx_df['act_pensio'].value_counts()"
   ]
  },
  {
   "cell_type": "code",
   "execution_count": 34,
   "metadata": {},
   "outputs": [
    {
     "data": {
      "text/plain": [
       "     5087\n",
       "3     814\n",
       "Name: act_quehac, dtype: int64"
      ]
     },
     "execution_count": 34,
     "metadata": {},
     "output_type": "execute_result"
    }
   ],
   "source": [
    "#3 se dedicó a los quehaceres del hogar?\n",
    "per_cdmx_df['act_quehac'].value_counts()"
   ]
  },
  {
   "cell_type": "code",
   "execution_count": 35,
   "metadata": {},
   "outputs": [
    {
     "data": {
      "text/plain": [
       "     5228\n",
       "4     673\n",
       "Name: act_estudi, dtype: int64"
      ]
     },
     "execution_count": 35,
     "metadata": {},
     "output_type": "execute_result"
    }
   ],
   "source": [
    "#4 se dedicó a estudiar?\n",
    "per_cdmx_df['act_estudi'].value_counts()"
   ]
  },
  {
   "cell_type": "code",
   "execution_count": 36,
   "metadata": {},
   "outputs": [
    {
     "data": {
      "text/plain": [
       "     5820\n",
       "5      81\n",
       "Name: act_discap, dtype: int64"
      ]
     },
     "execution_count": 36,
     "metadata": {},
     "output_type": "execute_result"
    }
   ],
   "source": [
    "#5 Es una persona con alguna limitación física o mental que le impide trabajar por el resto de su vida\n",
    "per_cdmx_df['act_discap'].value_counts()"
   ]
  },
  {
   "cell_type": "code",
   "execution_count": 37,
   "metadata": {},
   "outputs": [
    {
     "data": {
      "text/plain": [
       "     5856\n",
       "6      45\n",
       "Name: act_otra, dtype: int64"
      ]
     },
     "execution_count": 37,
     "metadata": {},
     "output_type": "execute_result"
    }
   ],
   "source": [
    "#6 Está en otra situación diferente a las anteriores\n",
    "per_cdmx_df['act_otra'].value_counts()"
   ]
  },
  {
   "cell_type": "code",
   "execution_count": 38,
   "metadata": {},
   "outputs": [
    {
     "data": {
      "text/plain": [
       "1    3027\n",
       "     2811\n",
       "2      63\n",
       "Name: num_trabaj, dtype: int64"
      ]
     },
     "execution_count": 38,
     "metadata": {},
     "output_type": "execute_result"
    }
   ],
   "source": [
    "#¿Cuántos trabajos tuvo ... la semana pasada? 1. Solo uno 2. Dos o mas\n",
    "per_cdmx_df['num_trabaj'].value_counts()"
   ]
  },
  {
   "cell_type": "code",
   "execution_count": 66,
   "metadata": {
    "scrolled": true
   },
   "outputs": [
    {
     "data": {
      "text/plain": [
       "09    5388\n",
       "       320\n",
       "15      69\n",
       "16      15\n",
       "12      11\n",
       "30      11\n",
       "21      11\n",
       "34      11\n",
       "33       9\n",
       "20       9\n",
       "28       8\n",
       "19       7\n",
       "01       4\n",
       "13       4\n",
       "26       3\n",
       "14       3\n",
       "22       3\n",
       "29       2\n",
       "11       2\n",
       "25       2\n",
       "27       2\n",
       "31       1\n",
       "24       1\n",
       "32       1\n",
       "23       1\n",
       "10       1\n",
       "17       1\n",
       "07       1\n",
       "Name: residencia, dtype: int64"
      ]
     },
     "execution_count": 66,
     "metadata": {},
     "output_type": "execute_result"
    }
   ],
   "source": [
    "# 14. ¿Hace 5 años, en 2012, en qué estado de la república mexicana o país vivía?\n",
    "per_cdmx_df['residencia'].value_counts()"
   ]
  },
  {
   "cell_type": "code",
   "execution_count": 67,
   "metadata": {
    "collapsed": true
   },
   "outputs": [
    {
     "data": {
      "text/plain": [
       "1    3034\n",
       "2    2034\n",
       "      833\n",
       "Name: trabajo_sp, dtype: int64"
      ]
     },
     "execution_count": 67,
     "metadata": {},
     "output_type": "execute_result"
    }
   ],
   "source": [
    "# 17. Durante la semana pasada, trabajó?   1 SÍ   2 NO    9 No sabe\n",
    "per_cdmx_df['trabajo_sp'].value_counts()"
   ]
  },
  {
   "cell_type": "code",
   "execution_count": 68,
   "metadata": {},
   "outputs": [
    {
     "data": {
      "text/plain": [
       "     2811\n",
       "1    2230\n",
       "2     860\n",
       "Name: subor, dtype: int64"
      ]
     },
     "execution_count": 68,
     "metadata": {},
     "output_type": "execute_result"
    }
   ],
   "source": [
    "# 22. En su trabajo principal, ¿tuvo un jefe(a) o superior?   1 SÍ    2 NO\n",
    "per_cdmx_df['subor'].value_counts()"
   ]
  },
  {
   "cell_type": "code",
   "execution_count": 69,
   "metadata": {},
   "outputs": [
    {
     "data": {
      "text/plain": [
       "     5041\n",
       "1     858\n",
       "2       2\n",
       "Name: indep, dtype: int64"
      ]
     },
     "execution_count": 69,
     "metadata": {},
     "output_type": "execute_result"
    }
   ],
   "source": [
    "# 23. Entonces, ¿se dedicó a un negocio o actividad por su cuenta?    1 SÍ    2 NO\n",
    "per_cdmx_df['indep'].value_counts()"
   ]
  },
  {
   "cell_type": "code",
   "execution_count": 71,
   "metadata": {},
   "outputs": [
    {
     "data": {
      "text/plain": [
       "     5043\n",
       "2     663\n",
       "1     195\n",
       "Name: personal, dtype: int64"
      ]
     },
     "execution_count": 71,
     "metadata": {},
     "output_type": "execute_result"
    }
   ],
   "source": [
    "# 24. ¿Tuvo empleados o le ayudaron personas en su negocio o actividad?    1 SÍ    2 NO\n",
    "per_cdmx_df['personal'].value_counts() "
   ]
  },
  {
   "cell_type": "code",
   "execution_count": 72,
   "metadata": {},
   "outputs": [
    {
     "data": {
      "text/plain": [
       "     3669\n",
       "1    2189\n",
       "2      33\n",
       "3      10\n",
       "Name: pago, dtype: int64"
      ]
     },
     "execution_count": 72,
     "metadata": {},
     "output_type": "execute_result"
    }
   ],
   "source": [
    "# 25. En ese trabajo  1 ¿Recibe un pago?     2 ¿Es un trabajador(a) sin pago en un negocio del hogar?\n",
    "# 3 ¿Es un trabajador(a) sin pago en un negocio que no es del hogar?\n",
    "per_cdmx_df['pago'].value_counts()"
   ]
  },
  {
   "cell_type": "code",
   "execution_count": 74,
   "metadata": {},
   "outputs": [
    {
     "data": {
      "text/plain": [
       "     3712\n",
       "1    1349\n",
       "2     713\n",
       "9     127\n",
       "Name: contrato, dtype: int64"
      ]
     },
     "execution_count": 74,
     "metadata": {},
     "output_type": "execute_result"
    }
   ],
   "source": [
    "# 26. ¿En su trabajo principal cuenta con un contrato escrito?   1 SÍ   2 NO   9 No sabe\n",
    "per_cdmx_df['contrato'].value_counts()"
   ]
  },
  {
   "cell_type": "code",
   "execution_count": 79,
   "metadata": {},
   "outputs": [
    {
     "data": {
      "text/plain": [
       "1    5018\n",
       "2     454\n",
       "3     201\n",
       "      193\n",
       "4      27\n",
       "9       8\n",
       "Name: dif_camina, dtype: int64"
      ]
     },
     "execution_count": 79,
     "metadata": {},
     "output_type": "execute_result"
    }
   ],
   "source": [
    "# APARTADO C. SALUD\n",
    "# 7. ¿Tiene dificultad para caminar o subir escaleras?  1 No tiene dificultad\n",
    "# 2 Alguna dificultad   3 Mucha dificultad   4 No puede hacerlo   9 No sabe\n",
    "per_cdmx_df['dif_camina'].value_counts()"
   ]
  },
  {
   "cell_type": "code",
   "execution_count": 80,
   "metadata": {},
   "outputs": [
    {
     "data": {
      "text/plain": [
       "1    5075\n",
       "2     520\n",
       "      193\n",
       "3      86\n",
       "4      17\n",
       "9      10\n",
       "Name: dif_record, dtype: int64"
      ]
     },
     "execution_count": 80,
     "metadata": {},
     "output_type": "execute_result"
    }
   ],
   "source": [
    "# APARTADO C. SALUD\n",
    "# 13. ¿Tiene dificultad para recordar o concentrarse?  1 No tiene dificultad  2 Alguna dificultad\n",
    "# 3 Mucha dificultad    4 No puede hacerlo  9 No sabe\n",
    "per_cdmx_df['dif_record'].value_counts()"
   ]
  },
  {
   "cell_type": "code",
   "execution_count": 81,
   "metadata": {},
   "outputs": [
    {
     "data": {
      "text/plain": [
       "5    1888\n",
       "4    1680\n",
       "1     715\n",
       "2     572\n",
       "3     484\n",
       "      474\n",
       "9      88\n",
       "Name: frec_nerv, dtype: int64"
      ]
     },
     "execution_count": 81,
     "metadata": {},
     "output_type": "execute_result"
    }
   ],
   "source": [
    "# APARTADO C. SALUD\n",
    "# 14. ¿Con qué frecuencia se ha sentido preocupado o nervioso?   1 Diario    2 Semanalmente   3 Mensualmente\n",
    "# 4 Algunas veces al año    5 Nunca    9 No sabe\n",
    "per_cdmx_df['frec_nerv'].value_counts()"
   ]
  },
  {
   "cell_type": "code",
   "execution_count": 82,
   "metadata": {},
   "outputs": [
    {
     "data": {
      "text/plain": [
       "2    5285\n",
       "      474\n",
       "1     128\n",
       "9      14\n",
       "Name: med_nerv, dtype: int64"
      ]
     },
     "execution_count": 82,
     "metadata": {},
     "output_type": "execute_result"
    }
   ],
   "source": [
    "# APARTADO C. SALUD\n",
    "# 15. ¿Toma algún medicamento para la preocupación o el nerviosismo?     1 SÍ     2 NO     9 No sabe\n",
    "per_cdmx_df['med_nerv'].value_counts()"
   ]
  },
  {
   "cell_type": "code",
   "execution_count": 83,
   "metadata": {},
   "outputs": [
    {
     "data": {
      "text/plain": [
       "     2447\n",
       "1    1975\n",
       "2     740\n",
       "3     726\n",
       "9      13\n",
       "Name: inte_nerv, dtype: int64"
      ]
     },
     "execution_count": 83,
     "metadata": {},
     "output_type": "execute_result"
    }
   ],
   "source": [
    "# APARTADO C. SALUD\n",
    "# 16. ¿Con qué intensidad se sintió nervioso o preocupado la última vez?     1 Un poco    2 Mucho\n",
    "# 3 Ni poco ni mucho   9 No sabe\n",
    "per_cdmx_df['inte_nerv'].value_counts()"
   ]
  },
  {
   "cell_type": "code",
   "execution_count": 84,
   "metadata": {},
   "outputs": [
    {
     "data": {
      "text/plain": [
       "5    3448\n",
       "4    1279\n",
       "      474\n",
       "3     241\n",
       "2     199\n",
       "1     191\n",
       "9      69\n",
       "Name: frec_depre, dtype: int64"
      ]
     },
     "execution_count": 84,
     "metadata": {},
     "output_type": "execute_result"
    }
   ],
   "source": [
    "# APARTADO C. SALUD\n",
    "# 17. ¿Con qué frecuencia se siente deprimido?     1 Diario   2 Semanalmente    3 Mensualmente\n",
    "# 4 Algunas veces al año   5 Nunca    9 No sabe\n",
    "per_cdmx_df['frec_depre'].value_counts()"
   ]
  },
  {
   "cell_type": "code",
   "execution_count": 85,
   "metadata": {},
   "outputs": [
    {
     "data": {
      "text/plain": [
       "1    3554\n",
       "2    1378\n",
       "      474\n",
       "4     272\n",
       "3     202\n",
       "9      21\n",
       "Name: frec_dolor, dtype: int64"
      ]
     },
     "execution_count": 85,
     "metadata": {},
     "output_type": "execute_result"
    }
   ],
   "source": [
    "# APARTADO C. SALUD\n",
    "# 20. En los últimos 3 meses, ¿con qué frecuencia ha sentido dolor?   1 Nunca   2 Algunos días  \n",
    "# 3 La mayoría de los días   4 Todos los días   9 No sabe\n",
    "per_cdmx_df['frec_dolor'].value_counts()"
   ]
  },
  {
   "cell_type": "code",
   "execution_count": 86,
   "metadata": {},
   "outputs": [
    {
     "data": {
      "text/plain": [
       "1    2648\n",
       "2    2193\n",
       "      474\n",
       "3     304\n",
       "4     254\n",
       "9      28\n",
       "Name: frec_cansa, dtype: int64"
      ]
     },
     "execution_count": 86,
     "metadata": {},
     "output_type": "execute_result"
    }
   ],
   "source": [
    "# APARTADO C. SALUD\n",
    "# 22. En los últimos 3 meses, ¿con qué frecuencia se ha sentido muy cansado o exhausto?  1 Nunca     2 Algunos días\n",
    "# 3 La mayoría de los días     4 Todos los días     9 No sabe\n",
    "per_cdmx_df['frec_cansa'].value_counts()"
   ]
  },
  {
   "cell_type": "markdown",
   "metadata": {},
   "source": [
    "## Hogar"
   ]
  },
  {
   "cell_type": "code",
   "execution_count": 75,
   "metadata": {
    "collapsed": true
   },
   "outputs": [
    {
     "name": "stdout",
     "output_type": "stream",
     "text": [
      "<class 'pandas.core.frame.DataFrame'>\n",
      "Int64Index: 1790 entries, 13982 to 15771\n",
      "Data columns (total 13 columns):\n",
      "folioviv      1790 non-null int64\n",
      "foliohog      1790 non-null int64\n",
      "huespedes     1790 non-null int64\n",
      "huesp_come    1790 non-null object\n",
      "trabaja_do    1790 non-null object\n",
      "cuid_perso    1790 non-null object\n",
      "lavandero     1790 non-null object\n",
      "chofer        1790 non-null object\n",
      "cocinero      1790 non-null object\n",
      "jardinero     1790 non-null object\n",
      "tot_integ     1790 non-null int64\n",
      "tot_hom       1790 non-null int64\n",
      "tot_muj       1790 non-null int64\n",
      "dtypes: int64(6), object(7)\n",
      "memory usage: 195.8+ KB\n"
     ]
    }
   ],
   "source": [
    "# Only Mexico City data from the hogar file\n",
    "hog_cdmx_df = hogar_df.loc[(hogar_df[\"folioviv\"] > 899999999) & (hogar_df[\"folioviv\"] < 1000000000), :]\n",
    "hog_cdmx_df.info()"
   ]
  },
  {
   "cell_type": "code",
   "execution_count": 76,
   "metadata": {},
   "outputs": [
    {
     "data": {
      "text/plain": [
       "2     395\n",
       "4     384\n",
       "3     379\n",
       "1     266\n",
       "5     200\n",
       "6      90\n",
       "7      35\n",
       "8      17\n",
       "9      10\n",
       "10      8\n",
       "16      2\n",
       "11      2\n",
       "14      1\n",
       "13      1\n",
       "Name: tot_integ, dtype: int64"
      ]
     },
     "execution_count": 76,
     "metadata": {},
     "output_type": "execute_result"
    }
   ],
   "source": [
    "# Número de integrantes del hogar\n",
    "hog_cdmx_df['tot_integ'].value_counts()"
   ]
  },
  {
   "cell_type": "code",
   "execution_count": 77,
   "metadata": {},
   "outputs": [
    {
     "data": {
      "text/plain": [
       "1    710\n",
       "2    508\n",
       "3    246\n",
       "0    241\n",
       "4     61\n",
       "5     16\n",
       "6      4\n",
       "8      2\n",
       "9      1\n",
       "7      1\n",
       "Name: tot_hom, dtype: int64"
      ]
     },
     "execution_count": 77,
     "metadata": {},
     "output_type": "execute_result"
    }
   ],
   "source": [
    "# Total de integrantes hombres\n",
    "hog_cdmx_df['tot_hom'].value_counts() "
   ]
  },
  {
   "cell_type": "code",
   "execution_count": 78,
   "metadata": {},
   "outputs": [
    {
     "data": {
      "text/plain": [
       "1    743\n",
       "2    517\n",
       "3    245\n",
       "0    166\n",
       "4     80\n",
       "5     22\n",
       "6      9\n",
       "7      4\n",
       "8      3\n",
       "9      1\n",
       "Name: tot_muj, dtype: int64"
      ]
     },
     "execution_count": 78,
     "metadata": {},
     "output_type": "execute_result"
    }
   ],
   "source": [
    "# Total de integrantes mujeres\n",
    "hog_cdmx_df['tot_muj'].value_counts() "
   ]
  },
  {
   "cell_type": "markdown",
   "metadata": {},
   "source": [
    "## Merge"
   ]
  },
  {
   "cell_type": "code",
   "execution_count": 9,
   "metadata": {},
   "outputs": [
    {
     "data": {
      "text/html": [
       "<div>\n",
       "<style scoped>\n",
       "    .dataframe tbody tr th:only-of-type {\n",
       "        vertical-align: middle;\n",
       "    }\n",
       "\n",
       "    .dataframe tbody tr th {\n",
       "        vertical-align: top;\n",
       "    }\n",
       "\n",
       "    .dataframe thead th {\n",
       "        text-align: right;\n",
       "    }\n",
       "</style>\n",
       "<table border=\"1\" class=\"dataframe\">\n",
       "  <thead>\n",
       "    <tr style=\"text-align: right;\">\n",
       "      <th></th>\n",
       "      <th>folioviv</th>\n",
       "      <th>tipo_viv</th>\n",
       "      <th>condominio</th>\n",
       "      <th>elevador</th>\n",
       "      <th>mat_pared</th>\n",
       "      <th>mat_techos</th>\n",
       "      <th>mat_pisos</th>\n",
       "      <th>ais_techos</th>\n",
       "      <th>ais_pared</th>\n",
       "      <th>ais_ventan</th>\n",
       "      <th>...</th>\n",
       "      <th>huesp_come</th>\n",
       "      <th>trabaja_do</th>\n",
       "      <th>cuid_perso</th>\n",
       "      <th>lavandero</th>\n",
       "      <th>chofer</th>\n",
       "      <th>cocinero</th>\n",
       "      <th>jardinero</th>\n",
       "      <th>tot_integ</th>\n",
       "      <th>tot_hom</th>\n",
       "      <th>tot_muj</th>\n",
       "    </tr>\n",
       "  </thead>\n",
       "  <tbody>\n",
       "    <tr>\n",
       "      <th>0</th>\n",
       "      <td>900083044</td>\n",
       "      <td>2</td>\n",
       "      <td>6</td>\n",
       "      <td>2</td>\n",
       "      <td>8</td>\n",
       "      <td>9</td>\n",
       "      <td>3</td>\n",
       "      <td>2</td>\n",
       "      <td>2</td>\n",
       "      <td>2</td>\n",
       "      <td>...</td>\n",
       "      <td></td>\n",
       "      <td></td>\n",
       "      <td></td>\n",
       "      <td></td>\n",
       "      <td></td>\n",
       "      <td></td>\n",
       "      <td></td>\n",
       "      <td>2</td>\n",
       "      <td>1</td>\n",
       "      <td>1</td>\n",
       "    </tr>\n",
       "    <tr>\n",
       "      <th>1</th>\n",
       "      <td>900083065</td>\n",
       "      <td>2</td>\n",
       "      <td>5</td>\n",
       "      <td>2</td>\n",
       "      <td>8</td>\n",
       "      <td>9</td>\n",
       "      <td>3</td>\n",
       "      <td>2</td>\n",
       "      <td>2</td>\n",
       "      <td>2</td>\n",
       "      <td>...</td>\n",
       "      <td></td>\n",
       "      <td></td>\n",
       "      <td></td>\n",
       "      <td></td>\n",
       "      <td></td>\n",
       "      <td></td>\n",
       "      <td></td>\n",
       "      <td>6</td>\n",
       "      <td>4</td>\n",
       "      <td>2</td>\n",
       "    </tr>\n",
       "    <tr>\n",
       "      <th>2</th>\n",
       "      <td>900083089</td>\n",
       "      <td>2</td>\n",
       "      <td>6</td>\n",
       "      <td>2</td>\n",
       "      <td>8</td>\n",
       "      <td>9</td>\n",
       "      <td>3</td>\n",
       "      <td>2</td>\n",
       "      <td>2</td>\n",
       "      <td>2</td>\n",
       "      <td>...</td>\n",
       "      <td></td>\n",
       "      <td></td>\n",
       "      <td></td>\n",
       "      <td></td>\n",
       "      <td></td>\n",
       "      <td></td>\n",
       "      <td></td>\n",
       "      <td>3</td>\n",
       "      <td>1</td>\n",
       "      <td>2</td>\n",
       "    </tr>\n",
       "    <tr>\n",
       "      <th>3</th>\n",
       "      <td>900083113</td>\n",
       "      <td>2</td>\n",
       "      <td>6</td>\n",
       "      <td>2</td>\n",
       "      <td>8</td>\n",
       "      <td>9</td>\n",
       "      <td>3</td>\n",
       "      <td>2</td>\n",
       "      <td>2</td>\n",
       "      <td>2</td>\n",
       "      <td>...</td>\n",
       "      <td></td>\n",
       "      <td></td>\n",
       "      <td></td>\n",
       "      <td></td>\n",
       "      <td></td>\n",
       "      <td></td>\n",
       "      <td></td>\n",
       "      <td>3</td>\n",
       "      <td>2</td>\n",
       "      <td>1</td>\n",
       "    </tr>\n",
       "    <tr>\n",
       "      <th>4</th>\n",
       "      <td>900168010</td>\n",
       "      <td>1</td>\n",
       "      <td></td>\n",
       "      <td></td>\n",
       "      <td>8</td>\n",
       "      <td>9</td>\n",
       "      <td>3</td>\n",
       "      <td>2</td>\n",
       "      <td>2</td>\n",
       "      <td>2</td>\n",
       "      <td>...</td>\n",
       "      <td></td>\n",
       "      <td></td>\n",
       "      <td></td>\n",
       "      <td></td>\n",
       "      <td></td>\n",
       "      <td></td>\n",
       "      <td></td>\n",
       "      <td>1</td>\n",
       "      <td>1</td>\n",
       "      <td>0</td>\n",
       "    </tr>\n",
       "  </tbody>\n",
       "</table>\n",
       "<p>5 rows × 122 columns</p>\n",
       "</div>"
      ],
      "text/plain": [
       "    folioviv tipo_viv condominio elevador  mat_pared  mat_techos mat_pisos  \\\n",
       "0  900083044        2          6        2          8           9         3   \n",
       "1  900083065        2          5        2          8           9         3   \n",
       "2  900083089        2          6        2          8           9         3   \n",
       "3  900083113        2          6        2          8           9         3   \n",
       "4  900168010        1                              8           9         3   \n",
       "\n",
       "   ais_techos  ais_pared  ais_ventan   ...    huesp_come trabaja_do  \\\n",
       "0           2          2           2   ...                            \n",
       "1           2          2           2   ...                            \n",
       "2           2          2           2   ...                            \n",
       "3           2          2           2   ...                            \n",
       "4           2          2           2   ...                            \n",
       "\n",
       "   cuid_perso lavandero  chofer  cocinero  jardinero tot_integ  tot_hom  \\\n",
       "0                                                            2        1   \n",
       "1                                                            6        4   \n",
       "2                                                            3        1   \n",
       "3                                                            3        2   \n",
       "4                                                            1        1   \n",
       "\n",
       "  tot_muj  \n",
       "0       1  \n",
       "1       2  \n",
       "2       2  \n",
       "3       1  \n",
       "4       0  \n",
       "\n",
       "[5 rows x 122 columns]"
      ]
     },
     "execution_count": 9,
     "metadata": {},
     "output_type": "execute_result"
    }
   ],
   "source": [
    "merge = pd.merge(viv_cdmx_df, hogar_df, on=\"folioviv\", suffixes=(\"_Viv\", \"_Hog\"))\n",
    "merge.head()"
   ]
  }
 ],
 "metadata": {
  "kernelspec": {
   "display_name": "Python 3",
   "language": "python",
   "name": "python3"
  },
  "language_info": {
   "codemirror_mode": {
    "name": "ipython",
    "version": 3
   },
   "file_extension": ".py",
   "mimetype": "text/x-python",
   "name": "python",
   "nbconvert_exporter": "python",
   "pygments_lexer": "ipython3",
   "version": "3.6.8"
  }
 },
 "nbformat": 4,
 "nbformat_minor": 2
}
