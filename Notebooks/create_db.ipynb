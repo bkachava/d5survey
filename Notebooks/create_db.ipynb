{
 "cells": [
  {
   "cell_type": "markdown",
   "metadata": {},
   "source": [
    "# D5 - Project 2\n",
    "----\n",
    "\n",
    "### Summary\n",
    "This notebook shows the process to `create the tables required to plot the data` about the \n",
    "__National Household Survey__ for the Megalopolis -- Zona Metropolitana del Valle de México. \n",
    "\n",
    "----"
   ]
  },
  {
   "cell_type": "code",
   "execution_count": 6,
   "metadata": {},
   "outputs": [],
   "source": [
    "# Dependencies\n",
    "from sqlalchemy import create_engine, Column, Integer, String\n",
    "from sqlalchemy.ext.declarative import declarative_base\n",
    "Base = declarative_base()\n",
    "import os\n",
    "import csv"
   ]
  },
  {
   "cell_type": "code",
   "execution_count": 9,
   "metadata": {},
   "outputs": [],
   "source": [
    "# Table : Services\n",
    "class Services(Base):\n",
    "    __tablename__ = 'services'\n",
    "    id = Column(Integer, primary_key=True)\n",
    "    level = Column(String)\n",
    "    item = Column(String)\n",
    "    total = Column(Integer)\n",
    "    yes_cnt = Column(Integer)\n",
    "    no_cnt = Column(Integer)"
   ]
  },
  {
   "cell_type": "code",
   "execution_count": null,
   "metadata": {},
   "outputs": [],
   "source": [
    "# Table : JOSE"
   ]
  },
  {
   "cell_type": "code",
   "execution_count": null,
   "metadata": {},
   "outputs": [],
   "source": [
    "# Table : YOZGART"
   ]
  },
  {
   "cell_type": "code",
   "execution_count": 10,
   "metadata": {},
   "outputs": [
    {
     "data": {
      "text/plain": [
       "immutabledict({'services': Table('services', MetaData(bind=None), Column('id', Integer(), table=<services>, primary_key=True, nullable=False), Column('level', String(), table=<services>), Column('item', String(), table=<services>), Column('total', Integer(), table=<services>), Column('yes_cnt', Integer(), table=<services>), Column('no_cnt', Integer(), table=<services>), schema=None)})"
      ]
     },
     "execution_count": 10,
     "metadata": {},
     "output_type": "execute_result"
    }
   ],
   "source": [
    "# Show the tables created in memory\n",
    "Base.metadata.tables"
   ]
  },
  {
   "cell_type": "code",
   "execution_count": 11,
   "metadata": {},
   "outputs": [],
   "source": [
    "# Create our database engine\n",
    "engine = create_engine('sqlite:///enh.sqlite')"
   ]
  },
  {
   "cell_type": "code",
   "execution_count": 12,
   "metadata": {},
   "outputs": [],
   "source": [
    "# Create tables in the database\n",
    "Base.metadata.create_all(engine)"
   ]
  },
  {
   "cell_type": "code",
   "execution_count": 13,
   "metadata": {},
   "outputs": [],
   "source": [
    "# Set ORM’s handle to the database\n",
    "from sqlalchemy.orm import Session\n",
    "session = Session(engine)"
   ]
  },
  {
   "cell_type": "code",
   "execution_count": 14,
   "metadata": {},
   "outputs": [
    {
     "name": "stdout",
     "output_type": "stream",
     "text": [
      "Records added to the session\n"
     ]
    }
   ],
   "source": [
    "# Table : Services\n",
    "# Add the records\n",
    "\n",
    "csvpath = os.path.join('..', 'Resources', 'services.csv')\n",
    "\n",
    "with open(csvpath, newline='') as csvfile:\n",
    "    # CSV reader specifies delimiter and variable that holds contents\n",
    "    csvreader = csv.reader(csvfile, delimiter=',')\n",
    "\n",
    "    # Read the header row first (skip this step if there is now header)\n",
    "    csv_header = next(csvreader)\n",
    "\n",
    "    # Read each row of data after the header\n",
    "    for row in csvreader:\n",
    "        session.add(Services(level=row[0], item=row[1], total=row[2], yes_cnt=row[3], no_cnt=row[4]))\n",
    "\n",
    "print(\"Records added to the session\")"
   ]
  },
  {
   "cell_type": "code",
   "execution_count": null,
   "metadata": {},
   "outputs": [],
   "source": [
    "# Table : JOSE\n",
    "# Add the records\n"
   ]
  },
  {
   "cell_type": "code",
   "execution_count": null,
   "metadata": {},
   "outputs": [],
   "source": [
    "# Table : YOZGART\n",
    "# Add the records\n"
   ]
  },
  {
   "cell_type": "code",
   "execution_count": 16,
   "metadata": {},
   "outputs": [
    {
     "data": {
      "text/plain": [
       "IdentitySet([<__main__.Services object at 0x000001C504ED7128>, <__main__.Services object at 0x000001C504FD7A90>, <__main__.Services object at 0x000001C504FD7BE0>, <__main__.Services object at 0x000001C504FD7D30>, <__main__.Services object at 0x000001C504FD7E80>, <__main__.Services object at 0x000001C504FD7FD0>, <__main__.Services object at 0x000001C504FD5160>, <__main__.Services object at 0x000001C504FD52B0>, <__main__.Services object at 0x000001C504FD53C8>, <__main__.Services object at 0x000001C504FD54E0>, <__main__.Services object at 0x000001C504FD5630>, <__main__.Services object at 0x000001C504FD5780>, <__main__.Services object at 0x000001C504FD58D0>, <__main__.Services object at 0x000001C504FD5A20>, <__main__.Services object at 0x000001C504FD5B70>, <__main__.Services object at 0x000001C504FD5CC0>, <__main__.Services object at 0x000001C504FD5DD8>, <__main__.Services object at 0x000001C504FD5EF0>, <__main__.Services object at 0x000001C504FDC080>, <__main__.Services object at 0x000001C504FDC1D0>, <__main__.Services object at 0x000001C504FDC320>, <__main__.Services object at 0x000001C504FDC438>, <__main__.Services object at 0x000001C504FDC588>, <__main__.Services object at 0x000001C504FDC6D8>, <__main__.Services object at 0x000001C504FDC828>])"
      ]
     },
     "execution_count": 16,
     "metadata": {},
     "output_type": "execute_result"
    }
   ],
   "source": [
    "# We can use the new attribute to see the queue of data ready to go into the database\n",
    "session.new"
   ]
  },
  {
   "cell_type": "code",
   "execution_count": 17,
   "metadata": {},
   "outputs": [],
   "source": [
    "# Commit to send changes to the database\n",
    "session.commit()"
   ]
  },
  {
   "cell_type": "code",
   "execution_count": 18,
   "metadata": {},
   "outputs": [
    {
     "data": {
      "text/plain": [
       "[(1, 'all', 'Pay TV services', 100, 46, 54),\n",
       " (2, 'all', 'Cel phone', 100, 88, 12),\n",
       " (3, 'all', 'Fixed-line phone', 100, 40, 60),\n",
       " (4, 'all', 'Internet', 100, 43, 57),\n",
       " (5, 'all', 'Computer', 100, 36, 64),\n",
       " (6, 'low', 'Pay TV services', 100, 29, 71),\n",
       " (7, 'low', 'Cel phone', 100, 73, 27),\n",
       " (8, 'low', 'Fixed-line phone', 100, 11, 89),\n",
       " (9, 'low', 'Internet', 100, 7, 93),\n",
       " (10, 'low', 'Computer', 100, 9, 91),\n",
       " (11, 'mdlow', 'Pay TV services', 100, 43, 57),\n",
       " (12, 'mdlow', 'Cel phone', 100, 89, 11),\n",
       " (13, 'mdlow', 'Fixed-line phone', 100, 34, 66),\n",
       " (14, 'mdlow', 'Internet', 100, 38, 62),\n",
       " (15, 'mdlow', 'Computer', 100, 31, 69),\n",
       " (16, 'mdhigh', 'Pay TV services', 100, 57, 43),\n",
       " (17, 'mdhigh', 'Cel phone', 100, 94, 6),\n",
       " (18, 'mdhigh', 'Fixed-line phone', 100, 65, 35),\n",
       " (19, 'mdhigh', 'Internet', 100, 70, 30),\n",
       " (20, 'mdhigh', 'Computer', 100, 58, 42),\n",
       " (21, 'high', 'Pay TV services', 100, 72, 28),\n",
       " (22, 'high', 'Cel phone', 100, 97, 3),\n",
       " (23, 'high', 'Fixed-line phone', 100, 74, 26),\n",
       " (24, 'high', 'Internet', 100, 82, 18),\n",
       " (25, 'high', 'Computer', 100, 76, 24)]"
      ]
     },
     "execution_count": 18,
     "metadata": {},
     "output_type": "execute_result"
    }
   ],
   "source": [
    "# Query the database - Table: Services\n",
    "engine.execute('select * from services').fetchall()"
   ]
  },
  {
   "cell_type": "code",
   "execution_count": null,
   "metadata": {},
   "outputs": [],
   "source": [
    "# Query the database - Table: JOSE"
   ]
  },
  {
   "cell_type": "code",
   "execution_count": null,
   "metadata": {},
   "outputs": [],
   "source": [
    "# Query the database - Table : YOZGART"
   ]
  }
 ],
 "metadata": {
  "kernelspec": {
   "display_name": "Python 3",
   "language": "python",
   "name": "python3"
  },
  "language_info": {
   "codemirror_mode": {
    "name": "ipython",
    "version": 3
   },
   "file_extension": ".py",
   "mimetype": "text/x-python",
   "name": "python",
   "nbconvert_exporter": "python",
   "pygments_lexer": "ipython3",
   "version": "3.6.7"
  },
  "varInspector": {
   "cols": {
    "lenName": 16,
    "lenType": 16,
    "lenVar": 40
   },
   "kernels_config": {
    "python": {
     "delete_cmd_postfix": "",
     "delete_cmd_prefix": "del ",
     "library": "var_list.py",
     "varRefreshCmd": "print(var_dic_list())"
    },
    "r": {
     "delete_cmd_postfix": ") ",
     "delete_cmd_prefix": "rm(",
     "library": "var_list.r",
     "varRefreshCmd": "cat(var_dic_list()) "
    }
   },
   "types_to_exclude": [
    "module",
    "function",
    "builtin_function_or_method",
    "instance",
    "_Feature"
   ],
   "window_display": false
  }
 },
 "nbformat": 4,
 "nbformat_minor": 2
}
